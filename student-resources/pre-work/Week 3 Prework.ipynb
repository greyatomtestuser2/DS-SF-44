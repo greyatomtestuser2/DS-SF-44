{
 "cells": [
  {
   "cell_type": "markdown",
   "metadata": {},
   "source": [
    "# Linear Regression Prework"
   ]
  },
  {
   "cell_type": "markdown",
   "metadata": {},
   "source": [
    "## Coding Tips\n",
    "\n",
    "1. Coding: Pandas' Merge, Concat and Append"
   ]
  },
  {
   "cell_type": "markdown",
   "metadata": {},
   "source": [
    "## Prework Topics\n",
    "1. Linear Regression\n",
    "2. Regularization (Lasso, Ridge, Elastic Net)\n",
    "3. Bias-Variance Trade Off\n",
    "4. Error Metrics: MSE, RMSE, R-Squared"
   ]
  },
  {
   "cell_type": "code",
   "execution_count": 1,
   "metadata": {
    "collapsed": false
   },
   "outputs": [
    {
     "name": "stderr",
     "output_type": "stream",
     "text": [
      "/Users/edwardlee/anaconda/envs/dsi/lib/python2.7/site-packages/matplotlib/font_manager.py:273: UserWarning: Matplotlib is building the font cache using fc-list. This may take a moment.\n",
      "  warnings.warn('Matplotlib is building the font cache using fc-list. This may take a moment.')\n"
     ]
    }
   ],
   "source": [
    "import pandas as pd\n",
    "import numpy as np\n",
    "import matplotlib.pyplot as plt\n",
    "import seaborn as sns\n",
    "\n",
    "%matplotlib inline"
   ]
  },
  {
   "cell_type": "markdown",
   "metadata": {},
   "source": [
    "### Merging\n",
    "\n",
    "Pandas' merge function is very similar to how relationship databases (SQL) does joins. Look at the parameters and you'll see why.\n",
    "\n",
    "pd.merge(left_df, right_df, how=['inner', 'outer', 'left', 'right'], on=Col)\n",
    "\n",
    "There are a couple more parameters included, but the basic usage of merge requires those 4 paremeters. Here's a quick example."
   ]
  },
  {
   "cell_type": "code",
   "execution_count": 2,
   "metadata": {
    "collapsed": false
   },
   "outputs": [],
   "source": [
    "df1 = pd.DataFrame({'Names': ['Sri', 'Edward', 'Matt', 'Ray'],\n",
    "                    'is_GA': ['Yes', 'Yes', 'Yes', 'No'],\n",
    "                    'Movies': [0, 0, 0, 1]})\n",
    "\n",
    "df2 = pd.DataFrame({'Names': ['Sri', 'Edward', 'Matt', 'Ray'],\n",
    "                    'Num_of_Glasses': [2, 2, 0, 1],\n",
    "                    'Steps_to_get_to_class': [3000, 8000, 5000, 2000]})"
   ]
  },
  {
   "cell_type": "code",
   "execution_count": 3,
   "metadata": {
    "collapsed": false
   },
   "outputs": [
    {
     "data": {
      "text/html": [
       "<div>\n",
       "<table border=\"1\" class=\"dataframe\">\n",
       "  <thead>\n",
       "    <tr style=\"text-align: right;\">\n",
       "      <th></th>\n",
       "      <th>Movies</th>\n",
       "      <th>Names</th>\n",
       "      <th>is_GA</th>\n",
       "    </tr>\n",
       "  </thead>\n",
       "  <tbody>\n",
       "    <tr>\n",
       "      <th>0</th>\n",
       "      <td>0</td>\n",
       "      <td>Sri</td>\n",
       "      <td>Yes</td>\n",
       "    </tr>\n",
       "    <tr>\n",
       "      <th>1</th>\n",
       "      <td>0</td>\n",
       "      <td>Edward</td>\n",
       "      <td>Yes</td>\n",
       "    </tr>\n",
       "    <tr>\n",
       "      <th>2</th>\n",
       "      <td>0</td>\n",
       "      <td>Matt</td>\n",
       "      <td>Yes</td>\n",
       "    </tr>\n",
       "    <tr>\n",
       "      <th>3</th>\n",
       "      <td>1</td>\n",
       "      <td>Ray</td>\n",
       "      <td>No</td>\n",
       "    </tr>\n",
       "  </tbody>\n",
       "</table>\n",
       "</div>"
      ],
      "text/plain": [
       "   Movies   Names is_GA\n",
       "0       0     Sri   Yes\n",
       "1       0  Edward   Yes\n",
       "2       0    Matt   Yes\n",
       "3       1     Ray    No"
      ]
     },
     "execution_count": 3,
     "metadata": {},
     "output_type": "execute_result"
    }
   ],
   "source": [
    "df1"
   ]
  },
  {
   "cell_type": "code",
   "execution_count": 4,
   "metadata": {
    "collapsed": false
   },
   "outputs": [
    {
     "data": {
      "text/html": [
       "<div>\n",
       "<table border=\"1\" class=\"dataframe\">\n",
       "  <thead>\n",
       "    <tr style=\"text-align: right;\">\n",
       "      <th></th>\n",
       "      <th>Names</th>\n",
       "      <th>Num_of_Glasses</th>\n",
       "      <th>Steps_to_get_to_class</th>\n",
       "    </tr>\n",
       "  </thead>\n",
       "  <tbody>\n",
       "    <tr>\n",
       "      <th>0</th>\n",
       "      <td>Sri</td>\n",
       "      <td>2</td>\n",
       "      <td>3000</td>\n",
       "    </tr>\n",
       "    <tr>\n",
       "      <th>1</th>\n",
       "      <td>Edward</td>\n",
       "      <td>2</td>\n",
       "      <td>8000</td>\n",
       "    </tr>\n",
       "    <tr>\n",
       "      <th>2</th>\n",
       "      <td>Matt</td>\n",
       "      <td>0</td>\n",
       "      <td>5000</td>\n",
       "    </tr>\n",
       "    <tr>\n",
       "      <th>3</th>\n",
       "      <td>Ray</td>\n",
       "      <td>1</td>\n",
       "      <td>2000</td>\n",
       "    </tr>\n",
       "  </tbody>\n",
       "</table>\n",
       "</div>"
      ],
      "text/plain": [
       "    Names  Num_of_Glasses  Steps_to_get_to_class\n",
       "0     Sri               2                   3000\n",
       "1  Edward               2                   8000\n",
       "2    Matt               0                   5000\n",
       "3     Ray               1                   2000"
      ]
     },
     "execution_count": 4,
     "metadata": {},
     "output_type": "execute_result"
    }
   ],
   "source": [
    "df2"
   ]
  },
  {
   "cell_type": "code",
   "execution_count": 5,
   "metadata": {
    "collapsed": false
   },
   "outputs": [
    {
     "data": {
      "text/html": [
       "<div>\n",
       "<table border=\"1\" class=\"dataframe\">\n",
       "  <thead>\n",
       "    <tr style=\"text-align: right;\">\n",
       "      <th></th>\n",
       "      <th>Movies</th>\n",
       "      <th>Names</th>\n",
       "      <th>is_GA</th>\n",
       "      <th>Num_of_Glasses</th>\n",
       "      <th>Steps_to_get_to_class</th>\n",
       "    </tr>\n",
       "  </thead>\n",
       "  <tbody>\n",
       "    <tr>\n",
       "      <th>0</th>\n",
       "      <td>0</td>\n",
       "      <td>Sri</td>\n",
       "      <td>Yes</td>\n",
       "      <td>2</td>\n",
       "      <td>3000</td>\n",
       "    </tr>\n",
       "    <tr>\n",
       "      <th>1</th>\n",
       "      <td>0</td>\n",
       "      <td>Edward</td>\n",
       "      <td>Yes</td>\n",
       "      <td>2</td>\n",
       "      <td>8000</td>\n",
       "    </tr>\n",
       "    <tr>\n",
       "      <th>2</th>\n",
       "      <td>0</td>\n",
       "      <td>Matt</td>\n",
       "      <td>Yes</td>\n",
       "      <td>0</td>\n",
       "      <td>5000</td>\n",
       "    </tr>\n",
       "    <tr>\n",
       "      <th>3</th>\n",
       "      <td>1</td>\n",
       "      <td>Ray</td>\n",
       "      <td>No</td>\n",
       "      <td>1</td>\n",
       "      <td>2000</td>\n",
       "    </tr>\n",
       "  </tbody>\n",
       "</table>\n",
       "</div>"
      ],
      "text/plain": [
       "   Movies   Names is_GA  Num_of_Glasses  Steps_to_get_to_class\n",
       "0       0     Sri   Yes               2                   3000\n",
       "1       0  Edward   Yes               2                   8000\n",
       "2       0    Matt   Yes               0                   5000\n",
       "3       1     Ray    No               1                   2000"
      ]
     },
     "execution_count": 5,
     "metadata": {},
     "output_type": "execute_result"
    }
   ],
   "source": [
    "big_df = pd.merge(df1, df2, how='inner', on='Names')\n",
    "big_df"
   ]
  },
  {
   "cell_type": "markdown",
   "metadata": {},
   "source": [
    "### Concat\n",
    "Another way to join tables together, this time more similar to SQL's Union. However, it is a bit stronger that you can choose which axis to concat on (axis=0 is rows and axis=1 is columns)."
   ]
  },
  {
   "cell_type": "code",
   "execution_count": 6,
   "metadata": {
    "collapsed": true
   },
   "outputs": [],
   "source": [
    "df1 = pd.DataFrame({'Animals': ['Bear', 'Cat', 'Dog', 'Bird'],\n",
    "                    'Pet': ['No', 'Yes', 'Yes', 'No'],\n",
    "                    'Size': ['Big', 'Medium', 'Medium', 'Small']})\n",
    "\n",
    "df2 = pd.DataFrame({'Animals': ['Turtle', 'Cheetah', 'Eagle', 'Beaver'],\n",
    "                    'Pet': ['Yes', 'No', 'No', 'No'],\n",
    "                    'Size': ['Small', 'Big', 'Medium', 'Medium']})\n",
    "\n",
    "df3 = pd.DataFrame({'Animals': ['Rat', 'Hampster', 'Porcupine', 'Pig'],\n",
    "                    'Pet': ['Yes', 'Yes', 'No', 'Yes'],\n",
    "                    'Size': ['Small', 'Small', 'Medium', 'Medium']})"
   ]
  },
  {
   "cell_type": "code",
   "execution_count": 7,
   "metadata": {
    "collapsed": false
   },
   "outputs": [
    {
     "data": {
      "text/html": [
       "<div>\n",
       "<table border=\"1\" class=\"dataframe\">\n",
       "  <thead>\n",
       "    <tr style=\"text-align: right;\">\n",
       "      <th></th>\n",
       "      <th>Animals</th>\n",
       "      <th>Pet</th>\n",
       "      <th>Size</th>\n",
       "    </tr>\n",
       "  </thead>\n",
       "  <tbody>\n",
       "    <tr>\n",
       "      <th>0</th>\n",
       "      <td>Bear</td>\n",
       "      <td>No</td>\n",
       "      <td>Big</td>\n",
       "    </tr>\n",
       "    <tr>\n",
       "      <th>1</th>\n",
       "      <td>Cat</td>\n",
       "      <td>Yes</td>\n",
       "      <td>Medium</td>\n",
       "    </tr>\n",
       "    <tr>\n",
       "      <th>2</th>\n",
       "      <td>Dog</td>\n",
       "      <td>Yes</td>\n",
       "      <td>Medium</td>\n",
       "    </tr>\n",
       "    <tr>\n",
       "      <th>3</th>\n",
       "      <td>Bird</td>\n",
       "      <td>No</td>\n",
       "      <td>Small</td>\n",
       "    </tr>\n",
       "    <tr>\n",
       "      <th>0</th>\n",
       "      <td>Turtle</td>\n",
       "      <td>Yes</td>\n",
       "      <td>Small</td>\n",
       "    </tr>\n",
       "    <tr>\n",
       "      <th>1</th>\n",
       "      <td>Cheetah</td>\n",
       "      <td>No</td>\n",
       "      <td>Big</td>\n",
       "    </tr>\n",
       "    <tr>\n",
       "      <th>2</th>\n",
       "      <td>Eagle</td>\n",
       "      <td>No</td>\n",
       "      <td>Medium</td>\n",
       "    </tr>\n",
       "    <tr>\n",
       "      <th>3</th>\n",
       "      <td>Beaver</td>\n",
       "      <td>No</td>\n",
       "      <td>Medium</td>\n",
       "    </tr>\n",
       "    <tr>\n",
       "      <th>0</th>\n",
       "      <td>Rat</td>\n",
       "      <td>Yes</td>\n",
       "      <td>Small</td>\n",
       "    </tr>\n",
       "    <tr>\n",
       "      <th>1</th>\n",
       "      <td>Hampster</td>\n",
       "      <td>Yes</td>\n",
       "      <td>Small</td>\n",
       "    </tr>\n",
       "    <tr>\n",
       "      <th>2</th>\n",
       "      <td>Porcupine</td>\n",
       "      <td>No</td>\n",
       "      <td>Medium</td>\n",
       "    </tr>\n",
       "    <tr>\n",
       "      <th>3</th>\n",
       "      <td>Pig</td>\n",
       "      <td>Yes</td>\n",
       "      <td>Medium</td>\n",
       "    </tr>\n",
       "  </tbody>\n",
       "</table>\n",
       "</div>"
      ],
      "text/plain": [
       "     Animals  Pet    Size\n",
       "0       Bear   No     Big\n",
       "1        Cat  Yes  Medium\n",
       "2        Dog  Yes  Medium\n",
       "3       Bird   No   Small\n",
       "0     Turtle  Yes   Small\n",
       "1    Cheetah   No     Big\n",
       "2      Eagle   No  Medium\n",
       "3     Beaver   No  Medium\n",
       "0        Rat  Yes   Small\n",
       "1   Hampster  Yes   Small\n",
       "2  Porcupine   No  Medium\n",
       "3        Pig  Yes  Medium"
      ]
     },
     "execution_count": 7,
     "metadata": {},
     "output_type": "execute_result"
    }
   ],
   "source": [
    "results = pd.concat([df1, df2, df3], axis=0)\n",
    "results"
   ]
  },
  {
   "cell_type": "code",
   "execution_count": 8,
   "metadata": {
    "collapsed": false
   },
   "outputs": [
    {
     "data": {
      "text/html": [
       "<div>\n",
       "<table border=\"1\" class=\"dataframe\">\n",
       "  <thead>\n",
       "    <tr style=\"text-align: right;\">\n",
       "      <th></th>\n",
       "      <th>Animals</th>\n",
       "      <th>Pet</th>\n",
       "      <th>Size</th>\n",
       "      <th>Animals</th>\n",
       "      <th>Pet</th>\n",
       "      <th>Size</th>\n",
       "      <th>Animals</th>\n",
       "      <th>Pet</th>\n",
       "      <th>Size</th>\n",
       "    </tr>\n",
       "  </thead>\n",
       "  <tbody>\n",
       "    <tr>\n",
       "      <th>0</th>\n",
       "      <td>Bear</td>\n",
       "      <td>No</td>\n",
       "      <td>Big</td>\n",
       "      <td>Turtle</td>\n",
       "      <td>Yes</td>\n",
       "      <td>Small</td>\n",
       "      <td>Rat</td>\n",
       "      <td>Yes</td>\n",
       "      <td>Small</td>\n",
       "    </tr>\n",
       "    <tr>\n",
       "      <th>1</th>\n",
       "      <td>Cat</td>\n",
       "      <td>Yes</td>\n",
       "      <td>Medium</td>\n",
       "      <td>Cheetah</td>\n",
       "      <td>No</td>\n",
       "      <td>Big</td>\n",
       "      <td>Hampster</td>\n",
       "      <td>Yes</td>\n",
       "      <td>Small</td>\n",
       "    </tr>\n",
       "    <tr>\n",
       "      <th>2</th>\n",
       "      <td>Dog</td>\n",
       "      <td>Yes</td>\n",
       "      <td>Medium</td>\n",
       "      <td>Eagle</td>\n",
       "      <td>No</td>\n",
       "      <td>Medium</td>\n",
       "      <td>Porcupine</td>\n",
       "      <td>No</td>\n",
       "      <td>Medium</td>\n",
       "    </tr>\n",
       "    <tr>\n",
       "      <th>3</th>\n",
       "      <td>Bird</td>\n",
       "      <td>No</td>\n",
       "      <td>Small</td>\n",
       "      <td>Beaver</td>\n",
       "      <td>No</td>\n",
       "      <td>Medium</td>\n",
       "      <td>Pig</td>\n",
       "      <td>Yes</td>\n",
       "      <td>Medium</td>\n",
       "    </tr>\n",
       "  </tbody>\n",
       "</table>\n",
       "</div>"
      ],
      "text/plain": [
       "  Animals  Pet    Size  Animals  Pet    Size    Animals  Pet    Size\n",
       "0    Bear   No     Big   Turtle  Yes   Small        Rat  Yes   Small\n",
       "1     Cat  Yes  Medium  Cheetah   No     Big   Hampster  Yes   Small\n",
       "2     Dog  Yes  Medium    Eagle   No  Medium  Porcupine   No  Medium\n",
       "3    Bird   No   Small   Beaver   No  Medium        Pig  Yes  Medium"
      ]
     },
     "execution_count": 8,
     "metadata": {},
     "output_type": "execute_result"
    }
   ],
   "source": [
    "results = pd.concat([df1, df2, df3], axis=1)\n",
    "results"
   ]
  },
  {
   "cell_type": "markdown",
   "metadata": {},
   "source": [
    "### Append\n",
    "A shortcut way to concat on axis=0. Will use same df as in concat."
   ]
  },
  {
   "cell_type": "code",
   "execution_count": 9,
   "metadata": {
    "collapsed": false
   },
   "outputs": [
    {
     "data": {
      "text/html": [
       "<div>\n",
       "<table border=\"1\" class=\"dataframe\">\n",
       "  <thead>\n",
       "    <tr style=\"text-align: right;\">\n",
       "      <th></th>\n",
       "      <th>Animals</th>\n",
       "      <th>Pet</th>\n",
       "      <th>Size</th>\n",
       "    </tr>\n",
       "  </thead>\n",
       "  <tbody>\n",
       "    <tr>\n",
       "      <th>0</th>\n",
       "      <td>Bear</td>\n",
       "      <td>No</td>\n",
       "      <td>Big</td>\n",
       "    </tr>\n",
       "    <tr>\n",
       "      <th>1</th>\n",
       "      <td>Cat</td>\n",
       "      <td>Yes</td>\n",
       "      <td>Medium</td>\n",
       "    </tr>\n",
       "    <tr>\n",
       "      <th>2</th>\n",
       "      <td>Dog</td>\n",
       "      <td>Yes</td>\n",
       "      <td>Medium</td>\n",
       "    </tr>\n",
       "    <tr>\n",
       "      <th>3</th>\n",
       "      <td>Bird</td>\n",
       "      <td>No</td>\n",
       "      <td>Small</td>\n",
       "    </tr>\n",
       "    <tr>\n",
       "      <th>0</th>\n",
       "      <td>Turtle</td>\n",
       "      <td>Yes</td>\n",
       "      <td>Small</td>\n",
       "    </tr>\n",
       "    <tr>\n",
       "      <th>1</th>\n",
       "      <td>Cheetah</td>\n",
       "      <td>No</td>\n",
       "      <td>Big</td>\n",
       "    </tr>\n",
       "    <tr>\n",
       "      <th>2</th>\n",
       "      <td>Eagle</td>\n",
       "      <td>No</td>\n",
       "      <td>Medium</td>\n",
       "    </tr>\n",
       "    <tr>\n",
       "      <th>3</th>\n",
       "      <td>Beaver</td>\n",
       "      <td>No</td>\n",
       "      <td>Medium</td>\n",
       "    </tr>\n",
       "    <tr>\n",
       "      <th>0</th>\n",
       "      <td>Rat</td>\n",
       "      <td>Yes</td>\n",
       "      <td>Small</td>\n",
       "    </tr>\n",
       "    <tr>\n",
       "      <th>1</th>\n",
       "      <td>Hampster</td>\n",
       "      <td>Yes</td>\n",
       "      <td>Small</td>\n",
       "    </tr>\n",
       "    <tr>\n",
       "      <th>2</th>\n",
       "      <td>Porcupine</td>\n",
       "      <td>No</td>\n",
       "      <td>Medium</td>\n",
       "    </tr>\n",
       "    <tr>\n",
       "      <th>3</th>\n",
       "      <td>Pig</td>\n",
       "      <td>Yes</td>\n",
       "      <td>Medium</td>\n",
       "    </tr>\n",
       "  </tbody>\n",
       "</table>\n",
       "</div>"
      ],
      "text/plain": [
       "     Animals  Pet    Size\n",
       "0       Bear   No     Big\n",
       "1        Cat  Yes  Medium\n",
       "2        Dog  Yes  Medium\n",
       "3       Bird   No   Small\n",
       "0     Turtle  Yes   Small\n",
       "1    Cheetah   No     Big\n",
       "2      Eagle   No  Medium\n",
       "3     Beaver   No  Medium\n",
       "0        Rat  Yes   Small\n",
       "1   Hampster  Yes   Small\n",
       "2  Porcupine   No  Medium\n",
       "3        Pig  Yes  Medium"
      ]
     },
     "execution_count": 9,
     "metadata": {},
     "output_type": "execute_result"
    }
   ],
   "source": [
    "# Python is very handy where you can chain commands together. Make sure that they are in order of operations.\n",
    "results = df1.append(df2).append(df3)\n",
    "results"
   ]
  },
  {
   "cell_type": "markdown",
   "metadata": {},
   "source": [
    "## Prework Topics"
   ]
  },
  {
   "cell_type": "markdown",
   "metadata": {},
   "source": [
    "### Linear Regression"
   ]
  },
  {
   "cell_type": "markdown",
   "metadata": {},
   "source": [
    "This is a great, free online course for Penn States' Statistic Course.\n",
    "https://onlinecourses.science.psu.edu/stat501/node/250\n",
    "\n",
    "### What are the differences between a Correlation and a Linear Regression? Aren't they doing the same thing?\n",
    "\n",
    "First things first, they are not the same. They are similar, but achieve different goals. I'll break them down into similarities and differences.\n",
    "\n",
    "#### Similarities\n",
    "- The standardised regression coefficient is the same as Pearson's correlation coefficient\n",
    "- The square of Pearson's correlation coefficient is the same as the R^2 in simple linear regression\n",
    "- Neither simple linear regression nor correlation answer questions of causality directly. This point is important, because I've met people that think that simple regression can magically allow an inference that X causes Y.\n",
    "\n",
    "#### Differences\n",
    "- Correlation quantifies the relationship between two variables. Correlation does not fit a line through the data.\n",
    "- Correlation typically refers to Pearson Correlation, but there are other correlations, such as Spearman's Correlation.\n",
    "- It does not matter whether you call which feature X or Y, you will get the same correlation if you swap them. With linear regression, you have to decide your independent/predictor variable (X) with your dependent/target variable (Y). You are looking for a best fit line that predicts Y from X, and it will definitely be different if you swap them around.\n",
    "- Linear Regression fits a best fit line to predict Y from X. If you were to bring in new data/samples, predictor X can help you predict the outcomes of Y, based off of previous data.\n",
    "- Although both correlation and linear regression does not answer causality directly, with linear regression you do have to think about causality to determine whether X is the best predictor for Y.\n",
    "\n",
    "In short, if you are interested in seeing the magnitude of the relationship between X and Y, use correlation. If you are interested in predicting and explaining your results in particular values, use linear regression.\n",
    "\n",
    "### What are the differences between Simple Linear Regression/Ordinary Least Squares Regression (OLS)/Linear Least Squares? What about Multiple Linear Regression?\n",
    "\n",
    "Ordinary Least Squares Regression (OLS) and Linear Least Squares are the same thing. The goal is to reduce the error rate or the squares. Looks something like this: https://training-course-material.com/images/a/ac/Images-mod2-linear12.gif How is it different from Simple Linear Regression? Not much, they are practically the same thing. In order to reduce the error rate/squares in OLS, you have to use Simple Linear Regression or Multiple Linear Regression in a dataset. The only difference is SLR has 1 target and 1 predictor, where as MLR has 1 target and 2 or more predictors.\n",
    "\n",
    "### What is statistic interaction?\n",
    "\n",
    "When we multiplied 2 features together, that is called Statistical Interaction. The reason why we do this is to see if there is an interaction between the 2 features. We want to see if the effect of 1 independent variable will vary depending on the level of another independent variable.\n",
    "\n",
    "This website provides some further insight on statistic interaction (the bottom of the page has graphs): \n",
    "\n",
    "https://courses.washington.edu/smartpsy/interactions.htm\n",
    "\n",
    "This blog provides a simple and clear example on statistic interaction:\n",
    "\n",
    "http://www.theanalysisfactor.com/interpreting-interactions-in-regression/"
   ]
  },
  {
   "cell_type": "markdown",
   "metadata": {},
   "source": [
    "### Below is a basic Linear Regression Example"
   ]
  },
  {
   "cell_type": "code",
   "execution_count": 10,
   "metadata": {
    "collapsed": true
   },
   "outputs": [],
   "source": [
    "from sklearn.linear_model import LinearRegression\n",
    "import statsmodels.api as sm"
   ]
  },
  {
   "cell_type": "code",
   "execution_count": 11,
   "metadata": {
    "collapsed": false
   },
   "outputs": [
    {
     "data": {
      "text/html": [
       "<div>\n",
       "<table border=\"1\" class=\"dataframe\">\n",
       "  <thead>\n",
       "    <tr style=\"text-align: right;\">\n",
       "      <th></th>\n",
       "      <th>survived</th>\n",
       "      <th>pclass</th>\n",
       "      <th>name</th>\n",
       "      <th>sex</th>\n",
       "      <th>age</th>\n",
       "      <th>sibsp</th>\n",
       "      <th>parch</th>\n",
       "      <th>ticket</th>\n",
       "      <th>fare</th>\n",
       "      <th>cabin</th>\n",
       "      <th>embarked</th>\n",
       "    </tr>\n",
       "  </thead>\n",
       "  <tbody>\n",
       "    <tr>\n",
       "      <th>0</th>\n",
       "      <td>0</td>\n",
       "      <td>3</td>\n",
       "      <td>Braund, Mr. Owen Harris</td>\n",
       "      <td>male</td>\n",
       "      <td>22.0</td>\n",
       "      <td>1</td>\n",
       "      <td>0</td>\n",
       "      <td>A/5 21171</td>\n",
       "      <td>7.2500</td>\n",
       "      <td>NaN</td>\n",
       "      <td>S</td>\n",
       "    </tr>\n",
       "    <tr>\n",
       "      <th>1</th>\n",
       "      <td>1</td>\n",
       "      <td>1</td>\n",
       "      <td>Cumings, Mrs. John Bradley (Florence Briggs Th...</td>\n",
       "      <td>female</td>\n",
       "      <td>38.0</td>\n",
       "      <td>1</td>\n",
       "      <td>0</td>\n",
       "      <td>PC 17599</td>\n",
       "      <td>71.2833</td>\n",
       "      <td>C85</td>\n",
       "      <td>C</td>\n",
       "    </tr>\n",
       "    <tr>\n",
       "      <th>2</th>\n",
       "      <td>1</td>\n",
       "      <td>3</td>\n",
       "      <td>Heikkinen, Miss. Laina</td>\n",
       "      <td>female</td>\n",
       "      <td>26.0</td>\n",
       "      <td>0</td>\n",
       "      <td>0</td>\n",
       "      <td>STON/O2. 3101282</td>\n",
       "      <td>7.9250</td>\n",
       "      <td>NaN</td>\n",
       "      <td>S</td>\n",
       "    </tr>\n",
       "    <tr>\n",
       "      <th>3</th>\n",
       "      <td>1</td>\n",
       "      <td>1</td>\n",
       "      <td>Futrelle, Mrs. Jacques Heath (Lily May Peel)</td>\n",
       "      <td>female</td>\n",
       "      <td>35.0</td>\n",
       "      <td>1</td>\n",
       "      <td>0</td>\n",
       "      <td>113803</td>\n",
       "      <td>53.1000</td>\n",
       "      <td>C123</td>\n",
       "      <td>S</td>\n",
       "    </tr>\n",
       "    <tr>\n",
       "      <th>4</th>\n",
       "      <td>0</td>\n",
       "      <td>3</td>\n",
       "      <td>Allen, Mr. William Henry</td>\n",
       "      <td>male</td>\n",
       "      <td>35.0</td>\n",
       "      <td>0</td>\n",
       "      <td>0</td>\n",
       "      <td>373450</td>\n",
       "      <td>8.0500</td>\n",
       "      <td>NaN</td>\n",
       "      <td>S</td>\n",
       "    </tr>\n",
       "  </tbody>\n",
       "</table>\n",
       "</div>"
      ],
      "text/plain": [
       "   survived  pclass                                               name  \\\n",
       "0         0       3                            Braund, Mr. Owen Harris   \n",
       "1         1       1  Cumings, Mrs. John Bradley (Florence Briggs Th...   \n",
       "2         1       3                             Heikkinen, Miss. Laina   \n",
       "3         1       1       Futrelle, Mrs. Jacques Heath (Lily May Peel)   \n",
       "4         0       3                           Allen, Mr. William Henry   \n",
       "\n",
       "      sex   age  sibsp  parch            ticket     fare cabin embarked  \n",
       "0    male  22.0      1      0         A/5 21171   7.2500   NaN        S  \n",
       "1  female  38.0      1      0          PC 17599  71.2833   C85        C  \n",
       "2  female  26.0      0      0  STON/O2. 3101282   7.9250   NaN        S  \n",
       "3  female  35.0      1      0            113803  53.1000  C123        S  \n",
       "4    male  35.0      0      0            373450   8.0500   NaN        S  "
      ]
     },
     "execution_count": 11,
     "metadata": {},
     "output_type": "execute_result"
    }
   ],
   "source": [
    "titanic = pd.read_csv('review_datasets/titanic.csv')\n",
    "titanic.head()"
   ]
  },
  {
   "cell_type": "code",
   "execution_count": 12,
   "metadata": {
    "collapsed": false
   },
   "outputs": [
    {
     "data": {
      "text/plain": [
       "survived      0\n",
       "pclass        0\n",
       "name          0\n",
       "sex           0\n",
       "age         177\n",
       "sibsp         0\n",
       "parch         0\n",
       "ticket        0\n",
       "fare          0\n",
       "cabin       687\n",
       "embarked      2\n",
       "dtype: int64"
      ]
     },
     "execution_count": 12,
     "metadata": {},
     "output_type": "execute_result"
    }
   ],
   "source": [
    "titanic.isnull().sum()"
   ]
  },
  {
   "cell_type": "code",
   "execution_count": 13,
   "metadata": {
    "collapsed": false
   },
   "outputs": [],
   "source": [
    "titanic.dropna(subset=['age'], inplace=True)"
   ]
  },
  {
   "cell_type": "code",
   "execution_count": 14,
   "metadata": {
    "collapsed": true
   },
   "outputs": [],
   "source": [
    "X = titanic[['fare', 'survived', 'pclass']]\n",
    "y = titanic.age.values"
   ]
  },
  {
   "cell_type": "markdown",
   "metadata": {},
   "source": [
    "#### Using statsmodels"
   ]
  },
  {
   "cell_type": "code",
   "execution_count": 15,
   "metadata": {
    "collapsed": false
   },
   "outputs": [
    {
     "name": "stdout",
     "output_type": "stream",
     "text": [
      "                            OLS Regression Results                            \n",
      "==============================================================================\n",
      "Dep. Variable:                      y   R-squared:                       0.693\n",
      "Model:                            OLS   Adj. R-squared:                  0.692\n",
      "Method:                 Least Squares   F-statistic:                     535.1\n",
      "Date:                Mon, 25 Sep 2017   Prob (F-statistic):          7.93e-182\n",
      "Time:                        19:54:49   Log-Likelihood:                -3089.2\n",
      "No. Observations:                 714   AIC:                             6184.\n",
      "Df Residuals:                     711   BIC:                             6198.\n",
      "Df Model:                           3                                         \n",
      "Covariance Type:            nonrobust                                         \n",
      "==============================================================================\n",
      "                 coef    std err          t      P>|t|      [95.0% Conf. Int.]\n",
      "------------------------------------------------------------------------------\n",
      "fare           0.1322      0.013     10.303      0.000         0.107     0.157\n",
      "survived       4.6135      1.376      3.352      0.001         1.911     7.316\n",
      "pclass         9.0133      0.334     26.947      0.000         8.357     9.670\n",
      "==============================================================================\n",
      "Omnibus:                       13.649   Durbin-Watson:                   1.855\n",
      "Prob(Omnibus):                  0.001   Jarque-Bera (JB):               13.883\n",
      "Skew:                           0.331   Prob(JB):                     0.000967\n",
      "Kurtosis:                       3.170   Cond. No.                         127.\n",
      "==============================================================================\n",
      "\n",
      "Warnings:\n",
      "[1] Standard Errors assume that the covariance matrix of the errors is correctly specified.\n"
     ]
    }
   ],
   "source": [
    "model = sm.OLS(y, X)\n",
    "results = model.fit()\n",
    "print(results.summary())"
   ]
  },
  {
   "cell_type": "markdown",
   "metadata": {},
   "source": [
    "#### Using sklearn"
   ]
  },
  {
   "cell_type": "code",
   "execution_count": 16,
   "metadata": {
    "collapsed": false
   },
   "outputs": [],
   "source": [
    "lr = LinearRegression()\n",
    "model = lr.fit(X, y)"
   ]
  },
  {
   "cell_type": "code",
   "execution_count": 17,
   "metadata": {
    "collapsed": false,
    "scrolled": true
   },
   "outputs": [
    {
     "name": "stderr",
     "output_type": "stream",
     "text": [
      "/Users/edwardlee/anaconda/envs/dsi/lib/python2.7/site-packages/sklearn/utils/validation.py:386: DeprecationWarning: Passing 1d arrays as data is deprecated in 0.17 and willraise ValueError in 0.19. Reshape your data either using X.reshape(-1, 1) if your data has a single feature or X.reshape(1, -1) if it contains a single sample.\n",
      "  DeprecationWarning)\n"
     ]
    },
    {
     "data": {
      "text/plain": [
       "array([ 43.18520993])"
      ]
     },
     "execution_count": 17,
     "metadata": {},
     "output_type": "execute_result"
    }
   ],
   "source": [
    "model.predict([50, 0, 1])"
   ]
  },
  {
   "cell_type": "markdown",
   "metadata": {},
   "source": [
    "<span style='color:red'>My model predicts that if you paid a $50 fare, did not survive and was in luxurious pclass 1, you would be 43.19 years old.</span>"
   ]
  },
  {
   "cell_type": "markdown",
   "metadata": {},
   "source": [
    "### Bias-Variance Trade Off\n",
    "\n",
    "Every Data Scientist will tell you that the Bias-Variance trade off is important to understand. First off, what is Bias and what is variance?\n",
    "\n",
    "1. Bias - I've accepted that my model will not perfectly model the dataset.\n",
    "2. Variance - I will try to account for all the data points in my current \"sample/training\" set.\n",
    "\n",
    "What does it mean?\n",
    "\n",
    "Bias means that you are **underfitting**. You are obtaining only the most important feature(s) that you leave out other features that may improve your explanation of your model. This is a problem because you want to get the best explanation.\n",
    "\n",
    "Variance means that you are **overfitting**. You are accommodating every single data point that you include features you don't want that may confuse or hurt your explanation of your models.\n",
    "\n",
    "The trade off is to find the most optimized point between bias and variance, but how?\n",
    "\n",
    "Too much variance:\n",
    "    - Regularization regression models, such as Lasso and Ridge (explained later), will increase bias.\n",
    "    - Dimensionality Reduction (unsupervised learning) and Feature Selection will increase bias.\n",
    "    - Ensemble Method Boosting combines 'strong' learners in a way to reduce variance\n",
    "    \n",
    "Too much bias:\n",
    "    - Increase the number of features\n",
    "    - Ensemble Method Bagging combining many weak, high bias models to get a lower bias\n",
    "\n",
    "It is also good to mention that every model's algorithm is different in bias and variance itself. k-Nearest Neighbors is a high bias model. Decision Trees can be high variance depending on how many leaf nodes you determine in your parameter. This is where research and analyst comes into place. As a scientist, you'll need to go back and forth to achieve the highest optimized trade off point. There is no \"right\" answer.\n",
    "\n",
    "Some of these methods we haven't learned yet, but don't fret, we will eventually get there. Just know for now that bias-variance is important and there are ways to balance it out."
   ]
  },
  {
   "cell_type": "markdown",
   "metadata": {},
   "source": [
    "### Error Metrics: Loss Function, MSE, RMSE, R-Squared\n",
    "\n",
    "1. Loss Function - The loss function is what is being optimized by the process of regression. Think of the term \"loss function\" sort of like the greater the value, the more information about your target variable that is \"lost\" by your model. A common loss function is the least squares loss function, where the increase in the sum of squared errors (loss) is creating a bad fit between your predictor and target variance\n",
    "2. Mean Squared Error (MSE) and Residual Mean Squared Error (RMSE) - https://www.vernier.com/til/1014/\n",
    "3. R-Squared - http://blog.minitab.com/blog/adventures-in-statistics-2/regression-analysis-how-do-i-interpret-r-squared-and-assess-the-goodness-of-fit"
   ]
  },
  {
   "cell_type": "markdown",
   "metadata": {},
   "source": [
    "### Regularization with Lasso, Ridge, Elastic Net\n",
    "\n",
    "The concept of regularization is adding an additional \"penalty\" on the size of coefficients to the minimization of sum of squared errors in standard regression.\n",
    "\n",
    "In other words, there are additional components to the loss function, so the minimization becomes a balance between these components. \n",
    "\n",
    "The most common types of regularization are the **\"Lasso\"**, **\"Ridge\"**, and the **Elastic Net**.\n",
    "    \n",
    "##### First off, let's hurt some of your brains.\n",
    "\n",
    "Least Squares Loss function formula:\n",
    "### $$ \\text{minimize}\\; RSS = \\sum_{i=1}^n (y_i - \\hat{y}_i)^2 = \\sum_{i=1}^n \\left(y_i - \\left(\\beta_0 + \\sum_{j=1}^p\\beta_j x_j\\right)\\right)^2 $$\n",
    "\n",
    "This is the Lasso formula:\n",
    "### $$ \\text{minimize}\\; RSS + Lasso = \\sum_{i=1}^n \\left(y_i - \\left(\\beta_0 + \\sum_{j=1}^p\\beta_j x_j\\right)\\right)^2 + \\lambda_1\\sum_{j=1}^p |\\beta_j|$$\n",
    "\n",
    "This is the Ridge formula:\n",
    "### $$ \\text{minimize}\\; RSS+Ridge = \\sum_{i=1}^n \\left(y_i - \\left(\\beta_0 + \\sum_{j=1}^p\\beta_j x_j\\right)\\right)^2 + \\lambda_2\\sum_{j=1}^p \\beta_j^2$$\n",
    "\n",
    "And finally, the ElasticNet formula:\n",
    "### $$ \\text{minimize}\\; RSS + Ridge + Lasso = \\sum_{i=1}^n \\left(y_i - \\left(\\beta_0 + \\sum_{j=1}^p\\beta_j x_j\\right)\\right)^2 + \\lambda_1\\sum_{j=1}^p |\\beta_j| + \\lambda_2\\sum_{j=1}^p \\beta_j^2$$"
   ]
  },
  {
   "cell_type": "markdown",
   "metadata": {},
   "source": [
    "Whoa, that looks confusing! But:\n",
    "### $$ \\text{minimize}\\; RSS = \\sum_{i=1}^n (y_i - \\hat{y}_i)^2 $$\n",
    "\n",
    "That is just adding all your (predicted_y - true_y)^2, which is what you do to calculate the MSE and RMSE!\n",
    "\n",
    "What we are interested in is the lambda ($\\lambda$)\n",
    "### $$ Lasso = \\lambda_1\\sum_{j=1}^p |\\beta_j|$$\n",
    "### $$ Ridge = \\lambda_2\\sum_{j=1}^p \\beta_j^2$$\n",
    "### $$ Ridge + Lasso =  \\lambda_1\\sum_{j=1}^p |\\beta_j| + \\lambda_2\\sum_{j=1}^p \\beta_j^2$$\n",
    "\n",
    "The $\\lambda$ is the penalty you are setting to regularize (reduce loss, increase bias, decrease variance). When $\\lambda = 0$, then it will end up being just the least squares loss function. For each coefficient, we put a penalty constraint of $\\lambda$, and depending which regularization we use, either taking the absolute value or squaring it. Now let's talk about what each one is actually doing.\n",
    "\n",
    "- Lasso is high in bias. Lasso completely removes all weak predictors completely out of your model and will only work with the strongest predictors to give you the best R-squared.\n",
    "- Ridge handles multicollinearity really well. Ridge doesn't remove any predictors, but rather, balances out all the predictors so that every predictor will have an optimized explanation towards the model.\n",
    "- Elastic Net is a combination of both, and personally, I prefer using this, unless I have definite reasoning behind what I am looking for. Elastic Net will help you optimize both Lasso and Ridge. The model is also smart enough that if only Lasso is needed, Elastic Net will only use Lasso and set $\\lambda_2 = 0$, and vice versa.\n",
    "\n",
    "##### Standardization\n",
    "Before doing any regularization, all predictors must be on the same scale or else your results will be highly skewed and biased. Standardization takes all your values in a series/dataframe, set the mean to 0 and each element is scaled based on the standard deviation. Below is how to import standardization and apply it to your dataframe."
   ]
  },
  {
   "cell_type": "code",
   "execution_count": 21,
   "metadata": {
    "collapsed": false
   },
   "outputs": [
    {
     "data": {
      "text/plain": [
       "array([[-0.51897787, -0.82702011,  0.91123237],\n",
       "       [ 0.69189675,  1.20916044, -1.47636364],\n",
       "       [-0.50621356,  1.20916044,  0.91123237],\n",
       "       ..., \n",
       "       [-0.08877362,  1.20916044, -1.47636364],\n",
       "       [-0.08877362,  1.20916044, -1.47636364],\n",
       "       [-0.50952283, -0.82702011,  0.91123237]])"
      ]
     },
     "execution_count": 21,
     "metadata": {},
     "output_type": "execute_result"
    }
   ],
   "source": [
    "from sklearn.preprocessing import StandardScaler\n",
    "\n",
    "ss = StandardScaler()\n",
    "scaled_df = ss.fit_transform(X)\n",
    "scaled_df"
   ]
  },
  {
   "cell_type": "markdown",
   "metadata": {},
   "source": [
    "Advanced Statistics/Machine Learning Free Course:\n",
    "https://onlinecourses.science.psu.edu/stat857/node/141"
   ]
  }
 ],
 "metadata": {
  "anaconda-cloud": {},
  "kernelspec": {
   "display_name": "Python [conda env:dsi]",
   "language": "python",
   "name": "conda-env-dsi-py"
  },
  "language_info": {
   "codemirror_mode": {
    "name": "ipython",
    "version": 2
   },
   "file_extension": ".py",
   "mimetype": "text/x-python",
   "name": "python",
   "nbconvert_exporter": "python",
   "pygments_lexer": "ipython2",
   "version": "2.7.12"
  }
 },
 "nbformat": 4,
 "nbformat_minor": 0
}
