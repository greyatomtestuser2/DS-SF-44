{
 "cells": [
  {
   "cell_type": "markdown",
   "metadata": {},
   "source": [
    "# Project 3 Solutions\n",
    "\n",
    "In this project, you will perform a logistic regression on the admissions data we've worked with previously in projects 1 and 2"
   ]
  },
  {
   "cell_type": "code",
   "execution_count": 4,
   "metadata": {},
   "outputs": [],
   "source": [
    "import matplotlib.pyplot as plt\n",
    "import pandas as pd\n",
    "import statsmodels.api as sm\n",
    "import numpy as np\n",
    "\n",
    "%matplotlib inline"
   ]
  },
  {
   "cell_type": "code",
   "execution_count": 5,
   "metadata": {},
   "outputs": [
    {
     "name": "stdout",
     "output_type": "stream",
     "text": [
      "   admit    gre   gpa  prestige\n",
      "0      0  380.0  3.61       3.0\n",
      "1      1  660.0  3.67       3.0\n",
      "2      1  800.0  4.00       1.0\n",
      "3      1  640.0  3.19       4.0\n",
      "4      0  520.0  2.93       4.0\n"
     ]
    }
   ],
   "source": [
    "df_raw = pd.read_csv(\"./datasets/admissions.csv\")\n",
    "df = df_raw.dropna() \n",
    "print df.head()"
   ]
  },
  {
   "cell_type": "markdown",
   "metadata": {},
   "source": [
    "## Part 1. Frequency Tables\n",
    "\n",
    "#### 1. Let's create a frequency table of our variables ([hint](http://pandas.pydata.org/pandas-docs/version/0.17.0/generated/pandas.crosstab.html))"
   ]
  },
  {
   "cell_type": "code",
   "execution_count": 6,
   "metadata": {},
   "outputs": [
    {
     "name": "stdout",
     "output_type": "stream",
     "text": [
      "prestige  1.0  2.0  3.0  4.0\n",
      "admit                       \n",
      "0          28   95   93   55\n",
      "1          33   53   28   12\n"
     ]
    }
   ],
   "source": [
    "# frequency table for prestige and whether or not someone was admitted\n",
    "print(pd.crosstab(df['admit'], df['prestige'], rownames=['admit']))"
   ]
  },
  {
   "cell_type": "code",
   "execution_count": 7,
   "metadata": {},
   "outputs": [
    {
     "name": "stdout",
     "output_type": "stream",
     "text": [
      "prestige       1.0       2.0       3.0       4.0\n",
      "admit                                           \n",
      "0         0.070529  0.239295  0.234257  0.138539\n",
      "1         0.083123  0.133501  0.070529  0.030227\n"
     ]
    }
   ],
   "source": [
    "# we can make this more intuitive by changing counts to percentages\n",
    "print(pd.crosstab(df['admit'], df['prestige'], rownames=['admit'])/len(df))"
   ]
  },
  {
   "cell_type": "markdown",
   "metadata": {},
   "source": [
    "## Part 2. Return of dummy variables"
   ]
  },
  {
   "cell_type": "markdown",
   "metadata": {},
   "source": [
    "#### 2.1 Create class or dummy variables for prestige "
   ]
  },
  {
   "cell_type": "code",
   "execution_count": 8,
   "metadata": {},
   "outputs": [
    {
     "name": "stdout",
     "output_type": "stream",
     "text": [
      "   prestige_1.0  prestige_2.0  prestige_3.0  prestige_4.0\n",
      "0             0             0             1             0\n",
      "1             0             0             1             0\n",
      "2             1             0             0             0\n",
      "3             0             0             0             1\n",
      "4             0             0             0             1\n"
     ]
    }
   ],
   "source": [
    "dummy_ranks = pd.get_dummies(df['prestige'], prefix='prestige')\n",
    "print(dummy_ranks.head())"
   ]
  },
  {
   "cell_type": "markdown",
   "metadata": {},
   "source": [
    "#### 2.2 When modeling our class variables, how many do we need? (caution: be sure to avoid the dreaded [dummy variable trap](http://www.algosome.com/articles/dummy-variable-trap-regression.html))  \n",
    "All 4? 3? 2? 1? "
   ]
  },
  {
   "cell_type": "markdown",
   "metadata": {},
   "source": [
    "> **Answer**: we use a set of n-1 dummy variables to represent an n‑category variable"
   ]
  },
  {
   "cell_type": "markdown",
   "metadata": {},
   "source": [
    "#### Why?? \n",
    "This is done to prevent [multicollinearity](https://en.wikipedia.org/wiki/Multicollinearity#Remedies_for_multicollinearity), or the [dummy variable trap](http://bit.ly/1L8y73a) caused by including a dummy variable for every single category."
   ]
  },
  {
   "cell_type": "markdown",
   "metadata": {},
   "source": [
    "## Part 3. Hand calculating [odds ratios](https://lifeinthefastlane.com/ccc/odds-ratio/)\n",
    "\n",
    "Develop your intuition about expected outcomes by hand calculating odds ratios"
   ]
  },
  {
   "cell_type": "code",
   "execution_count": 9,
   "metadata": {},
   "outputs": [
    {
     "name": "stdout",
     "output_type": "stream",
     "text": [
      "   admit    gre   gpa  prestige_1.0  prestige_2.0  prestige_3.0  prestige_4.0\n",
      "0      0  380.0  3.61             0             0             1             0\n",
      "1      1  660.0  3.67             0             0             1             0\n",
      "2      1  800.0  4.00             1             0             0             0\n",
      "3      1  640.0  3.19             0             0             0             1\n",
      "4      0  520.0  2.93             0             0             0             1\n"
     ]
    }
   ],
   "source": [
    "cols_to_keep = ['admit', 'gre', 'gpa']\n",
    "handCalc = df[cols_to_keep].join(dummy_ranks.loc[:, 'prestige_1':])\n",
    "print(handCalc.head())"
   ]
  },
  {
   "cell_type": "code",
   "execution_count": 10,
   "metadata": {},
   "outputs": [
    {
     "name": "stdout",
     "output_type": "stream",
     "text": [
      "prestige_1.0    0   1\n",
      "admit                \n",
      "0             243  28\n",
      "1              93  33\n"
     ]
    }
   ],
   "source": [
    "# make a frequency table cutting 'prestige_1.0' and whether or not someone was admitted\n",
    "print(pd.crosstab(handCalc['admit'], handCalc['prestige_1.0'], rownames=['admit']))"
   ]
  },
  {
   "cell_type": "markdown",
   "metadata": {},
   "source": [
    "#### 3.1 Use the values from the [cross tab](http://pandas.pydata.org/pandas-docs/version/0.17.0/generated/pandas.crosstab.html) produced above to calculate the odds of being admitted to grad school if you attended a #1 ranked college"
   ]
  },
  {
   "cell_type": "code",
   "execution_count": 11,
   "metadata": {},
   "outputs": [
    {
     "name": "stdout",
     "output_type": "stream",
     "text": [
      "1.17857142857\n"
     ]
    }
   ],
   "source": [
    "odds_exposed = 33/28.0\n",
    "print(odds_exposed)"
   ]
  },
  {
   "cell_type": "markdown",
   "metadata": {},
   "source": [
    "#### 3.2 Now calculate the odds of admission if you did not attend a #1 ranked college"
   ]
  },
  {
   "cell_type": "code",
   "execution_count": 12,
   "metadata": {},
   "outputs": [
    {
     "name": "stdout",
     "output_type": "stream",
     "text": [
      "0.382716049383\n"
     ]
    }
   ],
   "source": [
    "odd_unexp = 93/243.0\n",
    "print(odd_unexp)"
   ]
  },
  {
   "cell_type": "markdown",
   "metadata": {},
   "source": [
    "#### 3.3 Use 3.1 and 3.2 to calculate the odds ratio (OR)"
   ]
  },
  {
   "cell_type": "code",
   "execution_count": 13,
   "metadata": {},
   "outputs": [
    {
     "name": "stdout",
     "output_type": "stream",
     "text": [
      "3.07949308756\n"
     ]
    }
   ],
   "source": [
    "OR = odds_exposed/odd_unexp\n",
    "print(OR)"
   ]
  },
  {
   "cell_type": "markdown",
   "metadata": {},
   "source": [
    "#### 3.4 Write this finding in a sentence: "
   ]
  },
  {
   "cell_type": "markdown",
   "metadata": {},
   "source": [
    "For students who attended a top ranked college, the odds of being admitted into graduate school are 3.07 times the odds of students who did not attend a top tier school. \n",
    "\n",
    "The odds of being admitted to graduate school are over 2 times higher for students who attended a top ranked school compared to students who did not. "
   ]
  },
  {
   "cell_type": "markdown",
   "metadata": {},
   "source": [
    "#### 3.5 Print the cross tab for 'prestige_4.0'"
   ]
  },
  {
   "cell_type": "code",
   "execution_count": 14,
   "metadata": {},
   "outputs": [
    {
     "name": "stdout",
     "output_type": "stream",
     "text": [
      "prestige_4.0    0   1\n",
      "admit                \n",
      "0             216  55\n",
      "1             114  12\n"
     ]
    }
   ],
   "source": [
    "print(pd.crosstab(handCalc['admit'], handCalc['prestige_4.0'], rownames=['admit']))"
   ]
  },
  {
   "cell_type": "markdown",
   "metadata": {},
   "source": [
    "#### 3.6 Calculate the OR "
   ]
  },
  {
   "cell_type": "code",
   "execution_count": 15,
   "metadata": {},
   "outputs": [
    {
     "name": "stdout",
     "output_type": "stream",
     "text": [
      "(0.4133971291866028, 0.4133971291866029)\n"
     ]
    }
   ],
   "source": [
    "OR_1 = (12.0/55)/(114.0/216) # these are equivalent\n",
    "OR_2 = (12.0*216)/(114.0*55)\n",
    "print(OR_1,OR_2)"
   ]
  },
  {
   "cell_type": "markdown",
   "metadata": {},
   "source": [
    "#### 3.7 Write this finding in a sentence"
   ]
  },
  {
   "cell_type": "markdown",
   "metadata": {},
   "source": [
    "For students who attended a 4th tier school the odds of being admitted into graduate school are 0.41 times the odds of students who did not attend a 4th tier school. "
   ]
  },
  {
   "cell_type": "markdown",
   "metadata": {},
   "source": [
    "## Part 4. Analysis\n",
    "\n",
    "Set 1 (aka most prestigious) as your reference category and merge prestige_2, prestige_3 and prestige_4 back into the dataset. \n",
    "\n",
    "#### Reminder- How to use dummy variables to represent an n-category variable:\n",
    "1. First note that we use a set of n-1 dummy variables to represent an n‑category variable.\n",
    "2. Choose one of the categories to serve as the “reference” category, the category to which you compare the other categories.\n",
    "3. Create dummy (0/1) variables to represent each of the other categories.  Each dummy is coded so that it has the value 1 if a case is in that category, and 0 if not.\n",
    "4. Interpret the regression coefficient for each dummy variable as how that category compares to the reference category."
   ]
  },
  {
   "cell_type": "code",
   "execution_count": 16,
   "metadata": {},
   "outputs": [
    {
     "name": "stdout",
     "output_type": "stream",
     "text": [
      "   admit    gre   gpa  prestige_2.0  prestige_3.0  prestige_4.0\n",
      "0      0  380.0  3.61             0             1             0\n",
      "1      1  660.0  3.67             0             1             0\n",
      "2      1  800.0  4.00             0             0             0\n",
      "3      1  640.0  3.19             0             0             1\n",
      "4      0  520.0  2.93             0             0             1\n"
     ]
    }
   ],
   "source": [
    "# create a clean data frame for the regression\n",
    "cols_to_keep = ['admit', 'gre', 'gpa']\n",
    "data = df[cols_to_keep].join(dummy_ranks.loc[:, 'prestige_2':])\n",
    "print(data.head())"
   ]
  },
  {
   "cell_type": "markdown",
   "metadata": {},
   "source": [
    "We're going to add a constant term for our Logistic Regression\n",
    "- The statsmodels function we're going to be using requires that intercepts/constants are specified explicitly"
   ]
  },
  {
   "cell_type": "code",
   "execution_count": 17,
   "metadata": {},
   "outputs": [],
   "source": [
    "# manually add the intercept\n",
    "data['intercept'] = 1.0"
   ]
  },
  {
   "cell_type": "markdown",
   "metadata": {},
   "source": [
    "#### 4.1 Define the labels of the covariates (columns) as a variable called 'train_cols'"
   ]
  },
  {
   "cell_type": "code",
   "execution_count": 18,
   "metadata": {},
   "outputs": [
    {
     "data": {
      "text/plain": [
       "Index([u'admit', u'gre', u'gpa', u'prestige_2.0', u'prestige_3.0',\n",
       "       u'prestige_4.0', u'intercept'],\n",
       "      dtype='object')"
      ]
     },
     "execution_count": 18,
     "metadata": {},
     "output_type": "execute_result"
    }
   ],
   "source": [
    "data.columns"
   ]
  },
  {
   "cell_type": "code",
   "execution_count": 19,
   "metadata": {},
   "outputs": [],
   "source": [
    "train_cols = data.columns[1:]\n",
    "# Index([gre, gpa, prestige_2, prestige_3, prestige_4], dtype=object)"
   ]
  },
  {
   "cell_type": "markdown",
   "metadata": {},
   "source": [
    "#### 4.2 Fit the model"
   ]
  },
  {
   "cell_type": "code",
   "execution_count": 20,
   "metadata": {},
   "outputs": [
    {
     "name": "stdout",
     "output_type": "stream",
     "text": [
      "Optimization terminated successfully.\n",
      "         Current function value: 0.573854\n",
      "         Iterations 6\n"
     ]
    }
   ],
   "source": [
    "logit = sm.Logit(data['admit'], data[train_cols])\n",
    "result = logit.fit()"
   ]
  },
  {
   "cell_type": "markdown",
   "metadata": {},
   "source": [
    "#### 4.3 Print the summary results"
   ]
  },
  {
   "cell_type": "code",
   "execution_count": 21,
   "metadata": {},
   "outputs": [
    {
     "name": "stdout",
     "output_type": "stream",
     "text": [
      "                        Results: Logit\n",
      "===============================================================\n",
      "Model:              Logit            No. Iterations:   6.0000  \n",
      "Dependent Variable: admit            Pseudo R-squared: 0.082   \n",
      "Date:               2018-04-24 18:54 AIC:              467.6399\n",
      "No. Observations:   397              BIC:              491.5435\n",
      "Df Model:           5                Log-Likelihood:   -227.82 \n",
      "Df Residuals:       391              LL-Null:          -248.08 \n",
      "Converged:          1.0000           Scale:            1.0000  \n",
      "---------------------------------------------------------------\n",
      "                 Coef.  Std.Err.    z    P>|z|   [0.025  0.975]\n",
      "---------------------------------------------------------------\n",
      "gre              0.0022   0.0011  2.0280 0.0426  0.0001  0.0044\n",
      "gpa              0.7793   0.3325  2.3438 0.0191  0.1276  1.4311\n",
      "prestige_2.0    -0.6801   0.3169 -2.1459 0.0319 -1.3013 -0.0589\n",
      "prestige_3.0    -1.3387   0.3449 -3.8819 0.0001 -2.0146 -0.6628\n",
      "prestige_4.0    -1.5534   0.4175 -3.7211 0.0002 -2.3716 -0.7352\n",
      "intercept       -3.8769   1.1425 -3.3934 0.0007 -6.1161 -1.6376\n",
      "===============================================================\n",
      "\n"
     ]
    }
   ],
   "source": [
    "print(result.summary2())"
   ]
  },
  {
   "cell_type": "markdown",
   "metadata": {},
   "source": [
    "#### 4.4 Calculate the odds ratio of the coefficients and their 95% [confidence intervals](http://www.statsmodels.org/dev/generated/statsmodels.discrete.discrete_model.LogitResults.conf_int.html)\n",
    "\n",
    "hints: \n",
    "```python        \n",
    "        np.exp(X)\n",
    "\n",
    "        conf['OR'] = params\n",
    "        \n",
    "        conf.columns = ['2.5%', '97.5%', 'OR']\n",
    "```"
   ]
  },
  {
   "cell_type": "code",
   "execution_count": 22,
   "metadata": {},
   "outputs": [
    {
     "name": "stdout",
     "output_type": "stream",
     "text": [
      "gre             1.002221\n",
      "gpa             2.180027\n",
      "prestige_2.0    0.506548\n",
      "prestige_3.0    0.262192\n",
      "prestige_4.0    0.211525\n",
      "intercept       0.020716\n",
      "dtype: float64\n"
     ]
    }
   ],
   "source": [
    "params = result.params # get coefficients\n",
    "print(np.exp(params)) # odds ratio of the coefficients"
   ]
  },
  {
   "cell_type": "code",
   "execution_count": 23,
   "metadata": {},
   "outputs": [
    {
     "name": "stdout",
     "output_type": "stream",
     "text": [
      "                  2.5%     97.5%        OR\n",
      "gre           1.000074  1.004372  1.002221\n",
      "gpa           1.136120  4.183113  2.180027\n",
      "prestige_2.0  0.272168  0.942767  0.506548\n",
      "prestige_3.0  0.133377  0.515419  0.262192\n",
      "prestige_4.0  0.093329  0.479411  0.211525\n",
      "intercept     0.002207  0.194440  0.020716\n"
     ]
    }
   ],
   "source": [
    "conf = result.conf_int()\n",
    "conf['OR'] = params\n",
    "conf.columns = ['2.5%', '97.5%', 'OR']\n",
    "print(np.exp(conf)) # confidence intervals (we get the odds ratio from the log odds by exponentiating the coefficient)"
   ]
  },
  {
   "cell_type": "markdown",
   "metadata": {},
   "source": [
    "#### 4.5 [Interpret](https://stats.idre.ucla.edu/other/mult-pkg/faq/general/faq-how-do-i-interpret-odds-ratios-in-logistic-regression/) the OR of Prestige_2"
   ]
  },
  {
   "cell_type": "markdown",
   "metadata": {},
   "source": [
    "Answer: Students who attended a tier 2 undergraduate school had 0.50 the odds of being admitted to graduate school compared to students who attend a tier 1 undergraduate school. "
   ]
  },
  {
   "cell_type": "markdown",
   "metadata": {},
   "source": [
    "#### 4.6 Interpret the OR of GPA"
   ]
  },
  {
   "cell_type": "markdown",
   "metadata": {},
   "source": [
    "Answer: For a one-unit increase in the 'gpa' score, the expected change in odds is 2.180027."
   ]
  },
  {
   "cell_type": "markdown",
   "metadata": {},
   "source": [
    "## Part 5. Predicted probablities"
   ]
  },
  {
   "cell_type": "markdown",
   "metadata": {},
   "source": [
    "As a way of evaluating our classifier, we're going to recreate the dataset with every logical combination of input values. This will allow us to see how the predicted probability of admission increases/decreases across different variables. First we're going to generate the combinations using a helper function called cartesian (above).\n",
    "\n",
    "We're going to use np.linspace to create a range of values for \"gre\" and \"gpa\". This creates a range of linearly spaced values from a specified minimum and maximum value--in our case just the min/max observed values."
   ]
  },
  {
   "cell_type": "code",
   "execution_count": 24,
   "metadata": {},
   "outputs": [],
   "source": [
    "def cartesian(arrays, out=None):\n",
    "    \"\"\"\n",
    "    Generate a cartesian product of input arrays.\n",
    "    Parameters\n",
    "    ----------\n",
    "    arrays : list of array-like\n",
    "        1-D arrays to form the cartesian product of.\n",
    "    out : ndarray\n",
    "        Array to place the cartesian product in.\n",
    "    Returns\n",
    "    -------\n",
    "    out : ndarray\n",
    "        2-D array of shape (M, len(arrays)) containing cartesian products\n",
    "        formed of input arrays.\n",
    "    Examples\n",
    "    --------\n",
    "    >>> cartesian(([1, 2, 3], [4, 5], [6, 7]))\n",
    "    array([[1, 4, 6],\n",
    "           [1, 4, 7],\n",
    "           [1, 5, 6],\n",
    "           [1, 5, 7],\n",
    "           [2, 4, 6],\n",
    "           [2, 4, 7],\n",
    "           [2, 5, 6],\n",
    "           [2, 5, 7],\n",
    "           [3, 4, 6],\n",
    "           [3, 4, 7],\n",
    "           [3, 5, 6],\n",
    "           [3, 5, 7]])\n",
    "    \"\"\"\n",
    "\n",
    "    arrays = [np.asarray(x) for x in arrays]\n",
    "    dtype = arrays[0].dtype\n",
    "\n",
    "    n = np.prod([x.size for x in arrays])\n",
    "    if out is None:\n",
    "        out = np.zeros([n, len(arrays)], dtype=dtype)\n",
    "\n",
    "    m = n / arrays[0].size\n",
    "    print(n,arrays[0].size)\n",
    "    print('m =',m)\n",
    "    out[:,0] = np.repeat(arrays[0], m)\n",
    "    if arrays[1:]:\n",
    "        cartesian(arrays[1:], out=out[0:m,1:])\n",
    "        for j in xrange(1, arrays[0].size):\n",
    "            out[j*m:(j+1)*m,1:] = out[0:m,1:]\n",
    "    return out"
   ]
  },
  {
   "cell_type": "code",
   "execution_count": 25,
   "metadata": {},
   "outputs": [
    {
     "name": "stdout",
     "output_type": "stream",
     "text": [
      "(12, 3)\n",
      "('m =', 4)\n",
      "(4, 2)\n",
      "('m =', 2)\n",
      "(2, 2)\n",
      "('m =', 1)\n"
     ]
    },
    {
     "data": {
      "text/plain": [
       "array([[1, 4, 6],\n",
       "       [1, 4, 7],\n",
       "       [1, 5, 6],\n",
       "       [1, 5, 7],\n",
       "       [2, 4, 6],\n",
       "       [2, 4, 7],\n",
       "       [2, 5, 6],\n",
       "       [2, 5, 7],\n",
       "       [3, 4, 6],\n",
       "       [3, 4, 7],\n",
       "       [3, 5, 6],\n",
       "       [3, 5, 7]])"
      ]
     },
     "execution_count": 25,
     "metadata": {},
     "output_type": "execute_result"
    }
   ],
   "source": [
    "cartesian(([1, 2, 3], [4, 5], [6, 7]))"
   ]
  },
  {
   "cell_type": "code",
   "execution_count": 26,
   "metadata": {},
   "outputs": [
    {
     "name": "stdout",
     "output_type": "stream",
     "text": [
      "[220.         284.44444444 348.88888889 413.33333333 477.77777778\n",
      " 542.22222222 606.66666667 671.11111111 735.55555556 800.        ]\n",
      "[2.26       2.45333333 2.64666667 2.84       3.03333333 3.22666667\n",
      " 3.42       3.61333333 3.80666667 4.        ]\n",
      "(400, 10)\n",
      "('m =', 40)\n",
      "(40, 10)\n",
      "('m =', 4)\n",
      "(4, 4)\n",
      "('m =', 1)\n",
      "(1, 1)\n",
      "('m =', 1)\n"
     ]
    }
   ],
   "source": [
    "# instead of generating all possible values of GRE and GPA, we're going\n",
    "# to use an evenly spaced range of 10 values from the min to the max \n",
    "gres = np.linspace(data['gre'].min(), data['gre'].max(), 10)\n",
    "print(gres)\n",
    "# array([ 220.        ,  284.44444444,  348.88888889,  413.33333333,\n",
    "#         477.77777778,  542.22222222,  606.66666667,  671.11111111,\n",
    "#         735.55555556,  800.        ])\n",
    "gpas = np.linspace(data['gpa'].min(), data['gpa'].max(), 10)\n",
    "print(gpas)\n",
    "# array([ 2.26      ,  2.45333333,  2.64666667,  2.84      ,  3.03333333,\n",
    "#         3.22666667,  3.42      ,  3.61333333,  3.80666667,  4.        ])\n",
    "\n",
    "# enumerate all possibilities\n",
    "combos = pd.DataFrame(cartesian([gres, gpas, [1, 2, 3, 4], [1.]]))"
   ]
  },
  {
   "cell_type": "markdown",
   "metadata": {},
   "source": [
    "#### 5.1 Re-create the dummy variables"
   ]
  },
  {
   "cell_type": "code",
   "execution_count": 27,
   "metadata": {},
   "outputs": [],
   "source": [
    "# re-create the dummy variables\n",
    "combos.columns = ['gre', 'gpa', 'prestige', 'intercept']\n",
    "dummy_ranks = pd.get_dummies(combos['prestige'], prefix='prestige')\n",
    "dummy_ranks.columns = ['prestige_1.0', 'prestige_2.0', 'prestige_3.0', 'prestige_4.0']\n",
    "\n",
    "# keep only what we need for making predictions\n",
    "cols_to_keep = ['gre', 'gpa', 'prestige', 'intercept']\n",
    "combos = combos[cols_to_keep].join(dummy_ranks.loc[:, 'prestige_2.0':])"
   ]
  },
  {
   "cell_type": "markdown",
   "metadata": {},
   "source": [
    "#### 5.2 Make predictions on the enumerated dataset using the model we created previously\n",
    "e.g.\n",
    "```python\n",
    "result.predict(combos[train_cols])\n",
    "```"
   ]
  },
  {
   "cell_type": "code",
   "execution_count": 28,
   "metadata": {},
   "outputs": [
    {
     "name": "stdout",
     "output_type": "stream",
     "text": [
      "       gre       gpa  prestige  intercept  prestige_2.0  prestige_3.0  \\\n",
      "395  800.0  3.806667       4.0        1.0             0             0   \n",
      "396  800.0  4.000000       1.0        1.0             0             0   \n",
      "397  800.0  4.000000       2.0        1.0             1             0   \n",
      "398  800.0  4.000000       3.0        1.0             0             1   \n",
      "399  800.0  4.000000       4.0        1.0             0             0   \n",
      "\n",
      "     prestige_4.0  admit_pred  \n",
      "395             1    0.334286  \n",
      "396             0    0.734040  \n",
      "397             0    0.582995  \n",
      "398             0    0.419833  \n",
      "399             1    0.368608  \n"
     ]
    }
   ],
   "source": [
    "combos['admit_pred'] = result.predict(combos[train_cols])\n",
    "\n",
    "print(combos.tail())"
   ]
  },
  {
   "cell_type": "markdown",
   "metadata": {},
   "source": [
    "#### 5.3 Interpret findings for the last 4 observations"
   ]
  },
  {
   "cell_type": "markdown",
   "metadata": {},
   "source": [
    "Answer: Given the same GPA and GRE scores, students who attended a tier 4 undergraduate school had a 37% probability of being admitted into grad school, while student who attended a tier 1 school had a 73% likelihood of being admitted into grad school."
   ]
  },
  {
   "cell_type": "markdown",
   "metadata": {},
   "source": [
    "## Bonus!\n",
    "\n",
    "Plot the probability of being admitted into graduate school, stratified by GPA and GRE score."
   ]
  },
  {
   "cell_type": "code",
   "execution_count": 29,
   "metadata": {},
   "outputs": [
    {
     "name": "stdout",
     "output_type": "stream",
     "text": [
      "                     admit_pred\n",
      "gre        prestige            \n",
      "220.000000 1.0         0.287000\n",
      "           2.0         0.172354\n",
      "           3.0         0.098493\n",
      "           4.0         0.081236\n",
      "284.444444 1.0         0.315963\n",
      "           2.0         0.193117\n",
      "           3.0         0.111697\n",
      "           4.0         0.092395\n",
      "348.888889 1.0         0.346366\n",
      "           2.0         0.215673\n",
      "           3.0         0.126392\n",
      "           4.0         0.104888\n",
      "413.333333 1.0         0.378022\n",
      "           2.0         0.240018\n",
      "           3.0         0.142674\n",
      "           4.0         0.118822\n",
      "477.777778 1.0         0.410706\n",
      "           2.0         0.266115\n",
      "           3.0         0.160626\n",
      "           4.0         0.134297\n",
      "542.222222 1.0         0.444161\n",
      "           2.0         0.293885\n",
      "           3.0         0.180314\n",
      "           4.0         0.151401\n",
      "606.666667 1.0         0.478106\n",
      "           2.0         0.323213\n",
      "           3.0         0.201782\n",
      "           4.0         0.170211\n",
      "671.111111 1.0         0.512246\n",
      "           2.0         0.353939\n",
      "           3.0         0.225044\n",
      "           4.0         0.190781\n",
      "735.555556 1.0         0.546277\n",
      "           2.0         0.385866\n",
      "           3.0         0.250086\n",
      "           4.0         0.213142\n",
      "800.000000 1.0         0.579900\n",
      "           2.0         0.418761\n",
      "           3.0         0.276852\n",
      "           4.0         0.237295\n"
     ]
    },
    {
     "data": {
      "image/png": "[encoded data removed]",
      "text/plain": [
       "<matplotlib.figure.Figure at 0x10fb04f50>"
      ]
     },
     "metadata": {},
     "output_type": "display_data"
    },
    {
     "name": "stdout",
     "output_type": "stream",
     "text": [
      "                   admit_pred\n",
      "gpa      prestige            \n",
      "2.260000 1.0         0.279423\n",
      "         2.0         0.166760\n",
      "         3.0         0.094879\n",
      "         4.0         0.078172\n",
      "2.453333 1.0         0.309664\n",
      "         2.0         0.188216\n",
      "         3.0         0.108417\n",
      "         4.0         0.089590\n",
      "2.646667 1.0         0.341563\n",
      "         2.0         0.211674\n",
      "         3.0         0.123592\n",
      "         4.0         0.102468\n",
      "2.840000 1.0         0.374905\n",
      "         2.0         0.237141\n",
      "         3.0         0.140522\n",
      "         4.0         0.116932\n",
      "3.033333 1.0         0.409428\n",
      "         2.0         0.264579\n",
      "         3.0         0.159307\n",
      "         4.0         0.133103\n",
      "3.226667 1.0         0.444831\n",
      "         2.0         0.293901\n",
      "         3.0         0.180030\n",
      "         4.0         0.151088\n",
      "3.420000 1.0         0.480780\n",
      "         2.0         0.324971\n",
      "         3.0         0.202744\n",
      "         4.0         0.170978\n",
      "3.613333 1.0         0.516920\n",
      "         2.0         0.357601\n",
      "         3.0         0.227468\n",
      "         4.0         0.192841\n",
      "3.806667 1.0         0.552891\n",
      "         2.0         0.391553\n",
      "         3.0         0.254182\n",
      "         4.0         0.216711\n",
      "4.000000 1.0         0.588339\n",
      "         2.0         0.426544\n",
      "         3.0         0.282819\n",
      "         4.0         0.242584\n"
     ]
    },
    {
     "data": {
      "image/png": "[encoded data removed]",
      "text/plain": [
       "<matplotlib.figure.Figure at 0x110822590>"
      ]
     },
     "metadata": {},
     "output_type": "display_data"
    }
   ],
   "source": [
    "def isolate_and_plot(variable):\n",
    "    \"\"\" \n",
    "    Isolate gre and class rank \n",
    "    \n",
    "    Example:\n",
    "    #                      admit_pred\n",
    "    # gre        prestige            \n",
    "    # 220.000000 1           0.282462\n",
    "    #            2           0.169987\n",
    "    #            3           0.096544\n",
    "    #            4           0.079859\n",
    "    # 284.444444 1           0.311718\n",
    "    \"\"\"\n",
    "    grouped = pd.pivot_table(combos, values=['admit_pred'], index=[variable,'prestige'], aggfunc=np.mean)\n",
    "    print(grouped)\n",
    "    \n",
    "    # make a plot\n",
    "    colors = 'rbgyrbgy'\n",
    "    for i,col in enumerate(combos.prestige.unique()):\n",
    "        plt_data = grouped.loc[grouped.index.get_level_values(1)==col]\n",
    "        plt.plot(plt_data.index.get_level_values(0), plt_data['admit_pred'],\n",
    "                color=colors[int(col)], label=str(i+1))\n",
    "\n",
    "    plt.xlabel(variable)\n",
    "    plt.ylabel(\"P(admit=1)\")\n",
    "    plt.legend()\n",
    "    plt.title(\"Prob(admit=1) isolating \" + variable + \" and prestige\")\n",
    "    plt.show()\n",
    "\n",
    "isolate_and_plot('gre')\n",
    "isolate_and_plot('gpa')"
   ]
  },
  {
   "cell_type": "markdown",
   "metadata": {},
   "source": [
    "##### inspired by the great blog post: http://blog.yhathq.com/posts/logistic-regression-and-python.html  "
   ]
  }
 ],
 "metadata": {
  "kernelspec": {
   "display_name": "Python 3",
   "language": "python",
   "name": "python3"
  },
  "language_info": {
   "codemirror_mode": {
    "name": "ipython",
    "version": 2
   },
   "file_extension": ".py",
   "mimetype": "text/x-python",
   "name": "python",
   "nbconvert_exporter": "python",
   "pygments_lexer": "ipython2",
   "version": "2.7.14"
  }
 },
 "nbformat": 4,
 "nbformat_minor": 1
}
