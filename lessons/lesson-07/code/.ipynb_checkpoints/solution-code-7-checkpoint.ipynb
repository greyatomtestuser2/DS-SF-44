{
 "cells": [
  {
   "cell_type": "markdown",
   "metadata": {},
   "source": [
    "**_Section 7.0:_** Load packages"
   ]
  },
  {
   "cell_type": "code",
   "execution_count": 1,
   "metadata": {},
   "outputs": [
    {
     "name": "stderr",
     "output_type": "stream",
     "text": [
      "/Users/dat-44pt/anaconda2/lib/python2.7/site-packages/sklearn/cross_validation.py:41: DeprecationWarning: This module was deprecated in version 0.18 in favor of the model_selection module into which all the refactored classes and functions are moved. Also note that the interface of the new CV iterators are different from that of this module. This module will be removed in 0.20.\n",
      "  \"This module will be removed in 0.20.\", DeprecationWarning)\n",
      "/Users/dat-44pt/anaconda2/lib/python2.7/site-packages/sklearn/grid_search.py:42: DeprecationWarning: This module was deprecated in version 0.18 in favor of the model_selection module into which all the refactored classes and functions are moved. This module will be removed in 0.20.\n",
      "  DeprecationWarning)\n"
     ]
    }
   ],
   "source": [
    "import numpy as np\n",
    "import pandas as pd\n",
    "from sklearn import linear_model, metrics\n",
    "from sklearn import cross_validation\n",
    "from sklearn import grid_search\n",
    "import seaborn as sns\n",
    "import matplotlib.pyplot as plt\n",
    "\n",
    "%matplotlib inline\n",
    "\n",
    "sns.set_style(\"darkgrid\")"
   ]
  },
  {
   "cell_type": "markdown",
   "metadata": {},
   "source": [
    "### _Section 7.1_\n",
    "#### Create sample data and fit a model\n",
    "```diff\n",
    "+ The following section provides an opportunity for the student to use a loss function (MSE) to differentiate between two models - one trained on normal data and one trained on biased data.\n",
    "```"
   ]
  },
  {
   "cell_type": "code",
   "execution_count": 2,
   "metadata": {},
   "outputs": [],
   "source": [
    "df = pd.DataFrame({'x': range(100), 'y': range(100)})\n",
    "biased_df  = df.copy()\n",
    "biased_df.loc[:20, 'x'] = 1\n",
    "biased_df.loc[:20, 'y'] = 1\n",
    "\n",
    "def append_jitter(series):\n",
    "    jitter = np.random.random_sample(size=100)\n",
    "    return series + jitter\n",
    "\n",
    "df['x'] = append_jitter(df.x)\n",
    "df['y'] = append_jitter(df.y)\n",
    "\n",
    "biased_df['x'] = append_jitter(biased_df.x)\n",
    "biased_df['y'] = append_jitter(biased_df.y)"
   ]
  },
  {
   "cell_type": "code",
   "execution_count": 3,
   "metadata": {},
   "outputs": [
    {
     "data": {
      "text/plain": [
       "array([[<matplotlib.axes._subplots.AxesSubplot object at 0x1094de0d0>,\n",
       "        <matplotlib.axes._subplots.AxesSubplot object at 0x10b646e90>]],\n",
       "      dtype=object)"
      ]
     },
     "execution_count": 3,
     "metadata": {},
     "output_type": "execute_result"
    },
    {
     "data": {
      "image/png": "[encoded data removed]",
      "text/plain": [
       "<matplotlib.figure.Figure at 0x1093f4e90>"
      ]
     },
     "metadata": {},
     "output_type": "display_data"
    }
   ],
   "source": [
    "biased_df.hist()"
   ]
  },
  {
   "cell_type": "code",
   "execution_count": 4,
   "metadata": {},
   "outputs": [
    {
     "data": {
      "image/png": "[encoded data removed]",
      "text/plain": [
       "<matplotlib.figure.Figure at 0x10b70fed0>"
      ]
     },
     "metadata": {},
     "output_type": "display_data"
    }
   ],
   "source": [
    "plt.subplot(121)\n",
    "plt.plot(df)\n",
    "plt.subplot(122)\n",
    "plt.plot(biased_df)\n",
    "\n",
    "plt.tight_layout()\n",
    "plt.show()"
   ]
  },
  {
   "cell_type": "code",
   "execution_count": 5,
   "metadata": {},
   "outputs": [
    {
     "name": "stdout",
     "output_type": "stream",
     "text": [
      "0.17617834750461067\n"
     ]
    }
   ],
   "source": [
    "## fit\n",
    "lm = linear_model.LinearRegression().fit(df[['x']], df['y'])\n",
    "print metrics.mean_squared_error(df['y'], lm.predict(df[['x']]))"
   ]
  },
  {
   "cell_type": "code",
   "execution_count": 6,
   "metadata": {},
   "outputs": [
    {
     "name": "stdout",
     "output_type": "stream",
     "text": [
      "0.21459348450550045\n"
     ]
    }
   ],
   "source": [
    "## biased fit\n",
    "lm = linear_model.LinearRegression().fit(biased_df[['x']], biased_df['y'])\n",
    "print metrics.mean_squared_error(biased_df['y'], lm.predict(biased_df[['x']]))"
   ]
  },
  {
   "cell_type": "markdown",
   "metadata": {},
   "source": [
    "### _Section 7.2_\n",
    "#### Cross validation\n",
    "Intro to cross validation with bike share data from last time. We will be modeling casual ridership. \n",
    "```diff\n",
    "+ The following section provides an opportunity for the student to use cross validation, and to observe how it allows us to iteratively evaluate a model on a test set using a loss function to estimate generalizability.\n",
    "```"
   ]
  },
  {
   "cell_type": "code",
   "execution_count": 7,
   "metadata": {},
   "outputs": [],
   "source": [
    "wd = './datasets/'\n",
    "bikeshare = pd.read_csv(wd + 'bikeshare.csv')"
   ]
  },
  {
   "cell_type": "markdown",
   "metadata": {},
   "source": [
    "#### Create dummy variables and set outcome (dependent) variable"
   ]
  },
  {
   "cell_type": "code",
   "execution_count": 8,
   "metadata": {},
   "outputs": [],
   "source": [
    "weather = pd.get_dummies(bikeshare.weathersit, prefix='weather')\n",
    "modeldata = bikeshare[['temp', 'hum']].join(weather[['weather_1', 'weather_2', 'weather_3']])\n",
    "y = bikeshare.casual "
   ]
  },
  {
   "cell_type": "markdown",
   "metadata": {},
   "source": [
    "#### Create a cross validation with 5 folds"
   ]
  },
  {
   "cell_type": "code",
   "execution_count": 9,
   "metadata": {},
   "outputs": [],
   "source": [
    "kf = cross_validation.KFold(len(modeldata), n_folds=5, shuffle=True)"
   ]
  },
  {
   "cell_type": "code",
   "execution_count": 10,
   "metadata": {},
   "outputs": [
    {
     "name": "stdout",
     "output_type": "stream",
     "text": [
      "~~~~ CROSS VALIDATION each fold ~~~~\n",
      "('Model', 1)\n",
      "('MSE:', 1616.6375460734)\n",
      "('R2:', 0.3118668776937663)\n",
      "('Model', 2)\n",
      "('MSE:', 1747.9303085922234)\n",
      "('R2:', 0.3118912135945291)\n",
      "('Model', 3)\n",
      "('MSE:', 1700.7154777431683)\n",
      "('R2:', 0.31191560887713554)\n",
      "('Model', 4)\n",
      "('MSE:', 1609.0889188983526)\n",
      "('R2:', 0.311897378225964)\n",
      "('Model', 5)\n",
      "('MSE:', 1692.9089350597856)\n",
      "('R2:', 0.3119019729286061)\n",
      "~~~~ SUMMARY OF CROSS VALIDATION ~~~~\n",
      "('Mean of MSE for all folds:', 1673.456237273386)\n",
      "('Mean of R2 for all folds:', 0.3118946102640002)\n"
     ]
    }
   ],
   "source": [
    "mse_values = []\n",
    "scores = []\n",
    "n= 0\n",
    "print(\"~~~~ CROSS VALIDATION each fold ~~~~\")\n",
    "for train_index, test_index in kf:\n",
    "    lm = linear_model.LinearRegression().fit(modeldata.iloc[train_index], y.iloc[train_index])\n",
    "    mse_values.append(metrics.mean_squared_error(y.iloc[test_index], lm.predict(modeldata.iloc[test_index])))\n",
    "    scores.append(lm.score(modeldata, y))\n",
    "    n += 1\n",
    "    print('Model', n)\n",
    "    print('MSE:', mse_values[n-1])\n",
    "    print('R2:', scores[n-1])\n",
    "\n",
    "print(\"~~~~ SUMMARY OF CROSS VALIDATION ~~~~\")\n",
    "print('Mean of MSE for all folds:', np.mean(mse_values))\n",
    "print('Mean of R2 for all folds:', np.mean(scores))"
   ]
  },
  {
   "cell_type": "code",
   "execution_count": 11,
   "metadata": {},
   "outputs": [
    {
     "name": "stdout",
     "output_type": "stream",
     "text": [
      "~~~~ Single Model ~~~~\n",
      "('MSE of single model:', 1672.5811076539349)\n",
      "('R2: ', 0.3119346059890644)\n"
     ]
    }
   ],
   "source": [
    "lm = linear_model.LinearRegression().fit(modeldata, y)\n",
    "print(\"~~~~ Single Model ~~~~\")\n",
    "print('MSE of single model:', metrics.mean_squared_error(y, lm.predict(modeldata)))\n",
    "print('R2: ', lm.score(modeldata, y))"
   ]
  },
  {
   "cell_type": "markdown",
   "metadata": {},
   "source": [
    "KFold returns an 80:20 train:test split"
   ]
  },
  {
   "cell_type": "code",
   "execution_count": 12,
   "metadata": {},
   "outputs": [
    {
     "name": "stdout",
     "output_type": "stream",
     "text": [
      "0.800046032568\n",
      "0.199953967432\n"
     ]
    }
   ],
   "source": [
    "total = len(test_index)+len(train_index)\n",
    "print(float(len(train_index))/total)\n",
    "print(float(len(test_index))/total)"
   ]
  },
  {
   "cell_type": "markdown",
   "metadata": {},
   "source": [
    "### Check\n",
    "While the cross validated approach here generated more overall error, which of the two approaches would predict new data more accurately: the single model or the cross validated, averaged one? Why?\n"
   ]
  },
  {
   "cell_type": "markdown",
   "metadata": {},
   "source": [
    "Answer: accuracy would be lower with the single model case, but we're trading off bias error for generalized error"
   ]
  },
  {
   "cell_type": "markdown",
   "metadata": {},
   "source": [
    "### _Section 7.3_\n",
    "#### Activity: Cross Validation with Linear Regression\n",
    "```diff\n",
    "+ The following section provides an opportunity for the student to build on the application of cross validation, by manually optimizing one of the parameters: k\n",
    "```\n",
    "Note:  \n",
    "**Shuffle** (boolean, optional)- Dictates whether to shuffle the data before splitting into batches"
   ]
  },
  {
   "cell_type": "code",
   "execution_count": 13,
   "metadata": {},
   "outputs": [
    {
     "name": "stdout",
     "output_type": "stream",
     "text": [
      "~~~~ CROSS VALIDATION each fold count ~~~~\n",
      "('Mean of MSE for ', '4', '-fold: ', 1673.099857738512)\n",
      "('Mean of R2 for ', '4', '-fold:', 0.311863200567727)\n",
      "~~~~ CROSS VALIDATION each fold count ~~~~\n",
      "('Mean of MSE for ', '8', '-fold: ', 1672.9228206963435)\n",
      "('Mean of R2 for ', '8', '-fold:', 0.3119144164865352)\n",
      "~~~~ CROSS VALIDATION each fold count ~~~~\n",
      "('Mean of MSE for ', '12', '-fold: ', 1673.6367919446582)\n",
      "('Mean of R2 for ', '12', '-fold:', 0.311895546811172)\n",
      "~~~~ CROSS VALIDATION each fold count ~~~~\n",
      "('Mean of MSE for ', '16', '-fold: ', 1673.3739629229406)\n",
      "('Mean of R2 for ', '16', '-fold:', 0.31191299564874475)\n",
      "~~~~ CROSS VALIDATION each fold count ~~~~\n",
      "('Mean of MSE for ', '20', '-fold: ', 1673.6895478931772)\n",
      "('Mean of R2 for ', '20', '-fold:', 0.3119107351662042)\n",
      "~~~~ CROSS VALIDATION each fold count ~~~~\n",
      "('Mean of MSE for ', '24', '-fold: ', 1673.5936201401926)\n",
      "('Mean of R2 for ', '24', '-fold:', 0.3119167932440568)\n",
      "~~~~ CROSS VALIDATION each fold count ~~~~\n",
      "('Mean of MSE for ', '28', '-fold: ', 1673.4197862734648)\n",
      "('Mean of R2 for ', '28', '-fold:', 0.3119218523562865)\n",
      "~~~~ CROSS VALIDATION each fold count ~~~~\n",
      "('Mean of MSE for ', '32', '-fold: ', 1673.5059036713235)\n",
      "('Mean of R2 for ', '32', '-fold:', 0.31192234827907206)\n",
      "~~~~ CROSS VALIDATION each fold count ~~~~\n",
      "('Mean of MSE for ', '36', '-fold: ', 1673.4316275780366)\n",
      "('Mean of R2 for ', '36', '-fold:', 0.311924348538242)\n",
      "~~~~ CROSS VALIDATION each fold count ~~~~\n",
      "('Mean of MSE for ', '40', '-fold: ', 1673.5019724348408)\n",
      "('Mean of R2 for ', '40', '-fold:', 0.3119248854479206)\n",
      "~~~~ CROSS VALIDATION each fold count ~~~~\n",
      "('Mean of MSE for ', '44', '-fold: ', 1673.442508565438)\n",
      "('Mean of R2 for ', '44', '-fold:', 0.3119263367532972)\n",
      "~~~~ CROSS VALIDATION each fold count ~~~~\n",
      "('Mean of MSE for ', '48', '-fold: ', 1673.405381155654)\n",
      "('Mean of R2 for ', '48', '-fold:', 0.3119270883846616)\n",
      "~~~~ CROSS VALIDATION each fold count ~~~~\n",
      "('Mean of MSE for ', '52', '-fold: ', 1673.5695284720882)\n",
      "('Mean of R2 for ', '52', '-fold:', 0.3119266778240026)\n",
      "~~~~ CROSS VALIDATION each fold count ~~~~\n",
      "('Mean of MSE for ', '56', '-fold: ', 1673.394805181749)\n",
      "('Mean of R2 for ', '56', '-fold:', 0.31192831001196647)\n",
      "~~~~ CROSS VALIDATION each fold count ~~~~\n",
      "('Mean of MSE for ', '60', '-fold: ', 1673.595327254259)\n",
      "('Mean of R2 for ', '60', '-fold:', 0.31192762734599894)\n",
      "~~~~ CROSS VALIDATION each fold count ~~~~\n",
      "('Mean of MSE for ', '64', '-fold: ', 1673.3012971259368)\n",
      "('Mean of R2 for ', '64', '-fold:', 0.31192979794522624)\n",
      "~~~~ CROSS VALIDATION each fold count ~~~~\n",
      "('Mean of MSE for ', '68', '-fold: ', 1673.375508746429)\n",
      "('Mean of R2 for ', '68', '-fold:', 0.311929523861215)\n",
      "~~~~ CROSS VALIDATION each fold count ~~~~\n",
      "('Mean of MSE for ', '72', '-fold: ', 1673.3014740493613)\n",
      "('Mean of R2 for ', '72', '-fold:', 0.3119303865112875)\n",
      "~~~~ CROSS VALIDATION each fold count ~~~~\n",
      "('Mean of MSE for ', '76', '-fold: ', 1673.3853494821033)\n",
      "('Mean of R2 for ', '76', '-fold:', 0.3119303217495541)\n",
      "~~~~ CROSS VALIDATION each fold count ~~~~\n",
      "('Mean of MSE for ', '80', '-fold: ', 1673.4415139701764)\n",
      "('Mean of R2 for ', '80', '-fold:', 0.31192961851630335)\n",
      "~~~~ CROSS VALIDATION each fold count ~~~~\n",
      "('Mean of MSE for ', '84', '-fold: ', 1673.2970768659645)\n",
      "('Mean of R2 for ', '84', '-fold:', 0.31193087514007956)\n",
      "~~~~ CROSS VALIDATION each fold count ~~~~\n",
      "('Mean of MSE for ', '88', '-fold: ', 1673.780653534775)\n",
      "('Mean of R2 for ', '88', '-fold:', 0.3119290109154545)\n",
      "~~~~ CROSS VALIDATION each fold count ~~~~\n",
      "('Mean of MSE for ', '92', '-fold: ', 1673.3961272914037)\n",
      "('Mean of R2 for ', '92', '-fold:', 0.311930746499549)\n",
      "~~~~ CROSS VALIDATION each fold count ~~~~\n",
      "('Mean of MSE for ', '96', '-fold: ', 1673.575379697335)\n",
      "('Mean of R2 for ', '96', '-fold:', 0.31193023778001505)\n",
      "~~~~ CROSS VALIDATION each fold count ~~~~\n",
      "('Mean of MSE for ', '100', '-fold: ', 1673.6432104975318)\n",
      "('Mean of R2 for ', '100', '-fold:', 0.311930689153053)\n"
     ]
    }
   ],
   "source": [
    "overall_mse = []\n",
    "overall_scores = []\n",
    "\n",
    "n_vals = range(2, 51, 2)\n",
    "\n",
    "for n in n_vals:\n",
    "\n",
    "    mse_values = []\n",
    "    scores = []\n",
    "\n",
    "    kf_n = cross_validation.KFold(len(modeldata), n_folds=n, shuffle=True)\n",
    "\n",
    "    print(\"~~~~ CROSS VALIDATION each fold count ~~~~\")\n",
    "    for train_index, test_index in kf_n:\n",
    "        # Fit model\n",
    "        lm = linear_model.LinearRegression().fit(modeldata.iloc[train_index], y.iloc[train_index])\n",
    "        # Aggregate scores\n",
    "        mse_values.append(metrics.mean_squared_error(y.iloc[test_index], lm.predict(modeldata.iloc[test_index])))\n",
    "        scores.append(lm.score(modeldata, y))\n",
    "        n+=1 # iterate counter\n",
    "\n",
    "    print('Mean of MSE for ', np.str(n), '-fold: ', np.mean(mse_values))\n",
    "    print('Mean of R2 for ', np.str(n), '-fold:', np.mean(scores))\n",
    "    \n",
    "    overall_mse.append(np.mean(mse_values))\n",
    "    overall_scores.append(np.mean(scores))"
   ]
  },
  {
   "cell_type": "code",
   "execution_count": 14,
   "metadata": {},
   "outputs": [
    {
     "data": {
      "image/png": "[encoded data removed]",
      "text/plain": [
       "<matplotlib.figure.Figure at 0x10b6c2210>"
      ]
     },
     "metadata": {},
     "output_type": "display_data"
    }
   ],
   "source": [
    "plt.subplot(121)\n",
    "plt.plot(n_vals, overall_scores)\n",
    "plt.xlabel('n')\n",
    "plt.ylabel('r^2')\n",
    "plt.subplot(122)\n",
    "plt.plot(n_vals, overall_mse)\n",
    "plt.xlabel('n')\n",
    "plt.ylabel('mse')\n",
    "\n",
    "plt.tight_layout()\n",
    "plt.show()"
   ]
  },
  {
   "cell_type": "markdown",
   "metadata": {},
   "source": [
    "### _Section 7.4_\n",
    "#### There are ways to improve our model with regularization\n",
    "```diff\n",
    "+ The following section provides an opportunity for the student to try out different regularization methods discussed in today's lecture, and then optimize the parameters (first manually, then using gridsearch). \n",
    "\n",
    "+ Grid-search is a way of optimizing our models, by iteratively evaluating the model at each position in a grid of parameters.\n",
    "```\n",
    "Let's check out the effects on MSE and R2"
   ]
  },
  {
   "cell_type": "code",
   "execution_count": 15,
   "metadata": {},
   "outputs": [
    {
     "name": "stdout",
     "output_type": "stream",
     "text": [
      "~~~ OLS ~~~\n",
      "('OLS MSE: ', 1672.5811076539349)\n",
      "('OLS R2:', 0.3119346059890644)\n",
      "~~~ Lasso ~~~\n",
      "('Lasso MSE: ', 1725.4158160809566)\n",
      "('Lasso R2:', 0.2901994959217963)\n",
      "~~~ Ridge ~~~\n",
      "('Ridge MSE: ', 1672.6049011306602)\n",
      "('Ridge R2:', 0.3119248178431484)\n"
     ]
    }
   ],
   "source": [
    "lm = linear_model.LinearRegression().fit(modeldata, y)\n",
    "print(\"~~~ OLS ~~~\")\n",
    "print('OLS MSE: ', metrics.mean_squared_error(y, lm.predict(modeldata)))\n",
    "print('OLS R2:', lm.score(modeldata, y))\n",
    "\n",
    "lm = linear_model.Lasso().fit(modeldata, y)\n",
    "print(\"~~~ Lasso ~~~\")\n",
    "print('Lasso MSE: ', metrics.mean_squared_error(y, lm.predict(modeldata)))\n",
    "print('Lasso R2:', lm.score(modeldata, y))\n",
    "\n",
    "lm = linear_model.Ridge().fit(modeldata, y)\n",
    "print(\"~~~ Ridge ~~~\")\n",
    "print('Ridge MSE: ', metrics.mean_squared_error(y, lm.predict(modeldata)))\n",
    "print('Ridge R2:', lm.score(modeldata, y))"
   ]
  },
  {
   "cell_type": "markdown",
   "metadata": {},
   "source": [
    "#### Figuring out the alphas can be done by \"hand\""
   ]
  },
  {
   "cell_type": "code",
   "execution_count": 16,
   "metadata": {},
   "outputs": [
    {
     "data": {
      "text/plain": [
       "[<matplotlib.lines.Line2D at 0x1040c94d0>]"
      ]
     },
     "execution_count": 16,
     "metadata": {},
     "output_type": "execute_result"
    },
    {
     "data": {
      "image/png": "[encoded data removed]",
      "text/plain": [
       "<matplotlib.figure.Figure at 0x10b8a3e10>"
      ]
     },
     "metadata": {},
     "output_type": "display_data"
    }
   ],
   "source": [
    "plt.plot(np.logspace(-10, 10, 21))"
   ]
  },
  {
   "cell_type": "code",
   "execution_count": 17,
   "metadata": {},
   "outputs": [
    {
     "name": "stdout",
     "output_type": "stream",
     "text": [
      "Alpha: -100\n",
      "[ 133.05172379 -102.78636303   -5.02411254    1.83553098    4.15226377]\n",
      "1699.5659130337008\n",
      "Alpha: -90\n",
      "[ 130.68613688 -100.51870448   -4.61856497    1.8597224     3.79388537]\n",
      "1693.5957059785492\n",
      "Alpha: -80\n",
      "[128.40307982 -98.35287965  -4.22453836   1.8889227    3.46164303]\n",
      "1688.5647651496079\n",
      "Alpha: -70\n",
      "[126.19833442 -96.28210216  -3.83804563   1.92607334   3.15703831]\n",
      "1684.3787057275254\n",
      "Alpha: -60\n",
      "[124.0679589  -94.30017609  -3.4532916    1.97601141   2.88359338]\n",
      "1680.9534347666904\n",
      "Alpha: -50\n",
      "[122.00826289 -92.4014306   -3.0607161    2.04741746   2.64878632]\n",
      "1678.2139007744997\n",
      "Alpha: -40\n",
      "[120.01578045 -90.58065958  -2.64204369   2.15775747   2.46898336]\n",
      "1676.0930441928685\n",
      "Alpha: -30\n",
      "[118.08723096 -88.83305807  -2.15511182   2.34844713   2.3845981 ]\n",
      "1674.530981628591\n",
      "Alpha: -20\n",
      "[116.2194168  -87.15411738  -1.47081643   2.7478975    2.52314926]\n",
      "1673.4747216030314\n",
      "Alpha: -10\n",
      "[ 1.14408551e+02 -8.55391106e+01  1.10214473e-01  4.05481616e+00\n",
      "  3.58271513e+00]\n",
      "1672.8817065689623\n",
      "Alpha: 0\n",
      "[112.68901765 -84.01121684 -24.68489063 -21.00314494 -21.71893628]\n",
      "1672.5811076539349\n",
      "Alpha: 10\n",
      "[110.96062533 -82.49604961  -3.94431741  -0.51765034  -1.45024412]\n",
      "1672.833472624589\n",
      "Alpha: 20\n",
      "[109.30940464 -81.0546106   -2.73600722   0.44550506  -0.69936668]\n",
      "1673.3570639946972\n",
      "Alpha: 30\n",
      "[107.70746936 -79.66530382  -2.16609572   0.77894329  -0.56801883]\n",
      "1674.1806129443912\n",
      "Alpha: 40\n",
      "[106.1520998  -78.32492903  -1.7736953    0.9430938   -0.59620494]\n",
      "1675.278200097714\n",
      "Alpha: 50\n",
      "[104.64118517 -77.03083497  -1.45905681   1.03729191  -0.68510266]\n",
      "1676.6241341582397\n",
      "Alpha: 60\n",
      "[103.1728133  -75.78061065  -1.18757452   1.0957593   -0.80098726]\n",
      "1678.1947057294035\n",
      "Alpha: 70\n",
      "[101.74520086 -74.5720252   -0.94392888   1.1334572   -0.92936636]\n",
      "1679.9682665403973\n",
      "Alpha: 80\n",
      "[100.35667027 -73.40300264  -0.72019632   1.15797403  -1.06309117]\n",
      "1681.925094882045\n",
      "Alpha: 90\n",
      "[ 99.00563783 -72.27160582  -0.51179758   1.17357511  -1.19830798]\n",
      "1684.0472288520768\n"
     ]
    }
   ],
   "source": [
    "alphas = range(-100, 100, 10)\n",
    "for a in alphas:\n",
    "    print 'Alpha:', a\n",
    "    lm = linear_model.Ridge(alpha=a)\n",
    "    lm.fit(modeldata, y)\n",
    "    print lm.coef_\n",
    "    print metrics.mean_squared_error(y, lm.predict(modeldata))"
   ]
  },
  {
   "cell_type": "markdown",
   "metadata": {},
   "source": [
    "#### Or we can use grid search to make this faster"
   ]
  },
  {
   "cell_type": "code",
   "execution_count": 18,
   "metadata": {},
   "outputs": [
    {
     "data": {
      "text/plain": [
       "GridSearchCV(cv=None, error_score='raise',\n",
       "       estimator=Ridge(alpha=1.0, copy_X=True, fit_intercept=True, max_iter=None,\n",
       "   normalize=False, random_state=None, solver='auto', tol=0.001),\n",
       "       fit_params={}, iid=True, n_jobs=1,\n",
       "       param_grid={'alpha': [-100, -90, -80, -70, -60, -50, -40, -30, -20, -10, 0, 10, 20, 30, 40, 50, 60, 70, 80, 90]},\n",
       "       pre_dispatch='2*n_jobs', refit=True,\n",
       "       scoring='neg_mean_squared_error', verbose=0)"
      ]
     },
     "execution_count": 18,
     "metadata": {},
     "output_type": "execute_result"
    }
   ],
   "source": [
    "from sklearn import grid_search\n",
    "\n",
    "alphas = range(-100, 100, 10)\n",
    "gs = grid_search.GridSearchCV(\n",
    "    estimator=linear_model.Ridge(),\n",
    "    param_grid={'alpha': alphas},\n",
    "    scoring='neg_mean_squared_error')\n",
    "\n",
    "gs.fit(modeldata, y)"
   ]
  },
  {
   "cell_type": "markdown",
   "metadata": {},
   "source": [
    "Best score "
   ]
  },
  {
   "cell_type": "code",
   "execution_count": 19,
   "metadata": {},
   "outputs": [
    {
     "name": "stdout",
     "output_type": "stream",
     "text": [
      "-1809.61327123\n"
     ]
    }
   ],
   "source": [
    "print(gs.best_score_)"
   ]
  },
  {
   "cell_type": "markdown",
   "metadata": {},
   "source": [
    "Mean squared error here comes in negative, so let's make it positive"
   ]
  },
  {
   "cell_type": "code",
   "execution_count": 20,
   "metadata": {},
   "outputs": [
    {
     "name": "stdout",
     "output_type": "stream",
     "text": [
      "1809.61327123\n"
     ]
    }
   ],
   "source": [
    "print(-gs.best_score_)"
   ]
  },
  {
   "cell_type": "markdown",
   "metadata": {},
   "source": [
    "Explain which grid_search setup worked best"
   ]
  },
  {
   "cell_type": "code",
   "execution_count": 21,
   "metadata": {},
   "outputs": [
    {
     "name": "stdout",
     "output_type": "stream",
     "text": [
      "Ridge(alpha=40, copy_X=True, fit_intercept=True, max_iter=None,\n",
      "   normalize=False, random_state=None, solver='auto', tol=0.001)\n"
     ]
    }
   ],
   "source": [
    "print(gs.best_estimator_)"
   ]
  },
  {
   "cell_type": "markdown",
   "metadata": {},
   "source": [
    "Show all the grid pairings and their performances"
   ]
  },
  {
   "cell_type": "code",
   "execution_count": 22,
   "metadata": {},
   "outputs": [
    {
     "name": "stdout",
     "output_type": "stream",
     "text": [
      "[mean: -1973.97095, std: 369.03439, params: {'alpha': -100}, mean: -1942.09943, std: 384.70463, params: {'alpha': -90}, mean: -1915.47022, std: 402.57905, params: {'alpha': -80}, mean: -1893.27381, std: 421.42792, params: {'alpha': -70}, mean: -1874.84112, std: 440.46744, params: {'alpha': -60}, mean: -1859.61591, std: 459.21585, params: {'alpha': -50}, mean: -1847.13328, std: 477.38893, params: {'alpha': -40}, mean: -1837.00282, std: 494.82918, params: {'alpha': -30}, mean: -1828.89547, std: 511.45967, params: {'alpha': -20}, mean: -1822.53505, std: 527.25506, params: {'alpha': -10}, mean: -1817.58711, std: 542.14315, params: {'alpha': 0}, mean: -1814.09369, std: 556.35563, params: {'alpha': 10}, mean: -1811.66687, std: 569.73223, params: {'alpha': 20}, mean: -1810.21570, std: 582.37131, params: {'alpha': 30}, mean: -1809.61327, std: 594.31589, params: {'alpha': 40}, mean: -1809.74854, std: 605.60862, params: {'alpha': 50}, mean: -1810.52497, std: 616.29113, params: {'alpha': 60}, mean: -1811.85863, std: 626.40338, params: {'alpha': 70}, mean: -1813.67640, std: 635.98326, params: {'alpha': 80}, mean: -1815.91444, std: 645.06640, params: {'alpha': 90}]\n"
     ]
    }
   ],
   "source": [
    "print(gs.grid_scores_)"
   ]
  },
  {
   "cell_type": "markdown",
   "metadata": {},
   "source": [
    "#### Grid search cv, solving for alpha"
   ]
  },
  {
   "cell_type": "code",
   "execution_count": 23,
   "metadata": {},
   "outputs": [
    {
     "name": "stdout",
     "output_type": "stream",
     "text": [
      "1808.40768429\n",
      "Ridge(alpha=40, copy_X=True, fit_intercept=False, max_iter=None,\n",
      "   normalize=False, random_state=None, solver='auto', tol=0.001)\n"
     ]
    }
   ],
   "source": [
    "alphas = range(-100, 100, 10)\n",
    "gs = grid_search.GridSearchCV(\n",
    "    estimator=linear_model.Ridge(),\n",
    "    param_grid={'alpha': alphas, 'fit_intercept': [True, False]},\n",
    "    scoring='neg_mean_squared_error')\n",
    "\n",
    "gs.fit(modeldata, y)\n",
    "\n",
    "print -gs.best_score_ \n",
    "print gs.best_estimator_"
   ]
  },
  {
   "cell_type": "markdown",
   "metadata": {},
   "source": [
    "### _Section 7.5_\n",
    "#### Gradient Descent"
   ]
  },
  {
   "cell_type": "code",
   "execution_count": 24,
   "metadata": {},
   "outputs": [
    {
     "name": "stdout",
     "output_type": "stream",
     "text": [
      "5.2 is better than 6.2\n",
      "found better solution! using 5.2\n",
      "4.2 is better than 5.2\n",
      "found better solution! using 4.2\n",
      "3.2 is better than 4.2\n",
      "found better solution! using 3.2\n",
      "2.2 is better than 3.2\n",
      "found better solution! using 2.2\n",
      "1.2000000000000002 is better than 2.2\n",
      "found better solution! using 1.2000000000000002\n",
      "0.20000000000000018 is better than 1.2\n",
      "found better solution! using 0.20000000000000018\n",
      "6.0 is closest to 6.2\n"
     ]
    }
   ],
   "source": [
    "num_to_approach, start, steps, optimized = 6.2, 0., [-1, 1], False\n",
    "while not optimized:\n",
    "    current_distance = num_to_approach - start\n",
    "    got_better = False\n",
    "    next_steps = [start + i for i in steps]\n",
    "    for n in next_steps:\n",
    "        distance = np.abs(num_to_approach - n)\n",
    "        if distance < current_distance:\n",
    "            got_better = True\n",
    "            print distance, 'is better than', current_distance\n",
    "            current_distance = distance\n",
    "            start = n\n",
    "    if got_better:\n",
    "        print 'found better solution! using', current_distance\n",
    "        a += 1\n",
    "    else:\n",
    "        optimized = True\n",
    "        print start, 'is closest to', num_to_approach\n"
   ]
  },
  {
   "cell_type": "markdown",
   "metadata": {},
   "source": [
    "For the DP example below, we've taken the code above and implemented a stopping point, similar to what n_iter would do in gradient descent.\n",
    "\n",
    "There is a trade-off between stopping early and still _mostly_ getting the right result vs. taking a longer time to solve and having a more precise model.\n",
    "\n",
    "One solution is below."
   ]
  },
  {
   "cell_type": "code",
   "execution_count": 25,
   "metadata": {},
   "outputs": [
    {
     "name": "stdout",
     "output_type": "stream",
     "text": [
      "(5.2, 'is better than', 6.2)\n",
      "('found better solution! using', 5.2)\n",
      "(4.2, 'is better than', 5.2)\n",
      "('found better solution! using', 4.2)\n",
      "(3.2, 'is better than', 4.2)\n",
      "('found better solution! using', 3.2)\n",
      "(2.2, 'is better than', 3.2)\n",
      "('found better solution! using', 2.2)\n",
      "stopping iterations\n"
     ]
    }
   ],
   "source": [
    "num_to_approach, start, steps, optimized = 6.2, 0., [-1, 1], False\n",
    "n_iter = 0\n",
    "while not optimized:\n",
    "    if n_iter > 3:\n",
    "        print('stopping iterations')\n",
    "        break\n",
    "    n_iter += 1\n",
    "    current_distance = num_to_approach - start\n",
    "    got_better = False\n",
    "    next_steps = [start + i for i in steps]\n",
    "    for n in next_steps:\n",
    "        distance = np.abs(num_to_approach - n)\n",
    "        if distance < current_distance:\n",
    "            got_better = True\n",
    "            print(distance, 'is better than', current_distance)\n",
    "            current_distance = distance\n",
    "            start = n\n",
    "    if got_better:\n",
    "        print('found better solution! using', current_distance)\n",
    "        a += 1\n",
    "    else:\n",
    "        optimized = True\n",
    "        print(start, 'is closest to', num_to_approach)\n"
   ]
  },
  {
   "cell_type": "markdown",
   "metadata": {},
   "source": [
    "#### Demo: Application of Gradient Descent "
   ]
  },
  {
   "cell_type": "code",
   "execution_count": 26,
   "metadata": {},
   "outputs": [
    {
     "name": "stdout",
     "output_type": "stream",
     "text": [
      "('Gradient Descent R2:', 0.310633322035772)\n",
      "('Gradient Descent MSE:', 1675.744328729889)\n",
      "('OLS R2:', 0.3119346059890644)\n",
      "('OLS MSE: ', 1672.5811076539349)\n"
     ]
    }
   ],
   "source": [
    "lm = linear_model.SGDRegressor(max_iter=10, tol=None)\n",
    "lm.fit(modeldata, y)\n",
    "print(\"Gradient Descent R2:\", lm.score(modeldata, y))\n",
    "print(\"Gradient Descent MSE:\", metrics.mean_squared_error(y, lm.predict(modeldata)))\n",
    "\n",
    "lm = linear_model.LinearRegression()\n",
    "lm.fit(modeldata, y)\n",
    "print('OLS R2:', lm.score(modeldata, y))\n",
    "print('OLS MSE: ', metrics.mean_squared_error(y, lm.predict(modeldata)))"
   ]
  },
  {
   "cell_type": "markdown",
   "metadata": {},
   "source": [
    "#### Check: \n",
    "- Untuned, how well did gradient descent perform compared to OLS?"
   ]
  },
  {
   "cell_type": "markdown",
   "metadata": {},
   "source": [
    "See above"
   ]
  },
  {
   "cell_type": "markdown",
   "metadata": {},
   "source": [
    "Answer: slightly lower R2 for GD, MSE is slightly higher (and _more variable_) for GD\n",
    "\n",
    "- But the pay-off with GD comes when using __large__ datasets"
   ]
  },
  {
   "cell_type": "markdown",
   "metadata": {},
   "source": [
    "### _Section 7.6_\n",
    "#### Independent Practice: Bike data revisited\n",
    "\n",
    "There are tons of ways to approach a regression problem. The regularization techniques appended to ordinary least squares optimizes the size of coefficients to best account for error. Gradient Descent also introduces learning rate (how aggressively do we solve the problem), epsilon (at what point do we say the error margin is acceptable), and iterations (when should we stop no matter what?)\n",
    "\n",
    "For this deliverable, our goals are to:\n",
    "\n",
    "- implement the gradient descent approach to our bike-share modeling problem,\n",
    "- show how gradient descent solves and optimizes the solution,\n",
    "- demonstrate the grid_search module!\n",
    "\n",
    "While exploring the Gradient Descent regressor object, you'll build a grid search using the stochastic gradient descent estimator for the bike-share data set. Continue with either the model you evaluated last class or the simpler one from today. In particular, be sure to implement the \"param_grid\" in the grid search to get answers for the following questions:\n",
    "\n",
    "- With a set of alpha values between 10^-10 and 10^-1, how does the mean squared error change?\n",
    "- Based on the data, we know when to properly use l1 vs l2 regularization. By using a grid search with l1_ratios between 0 and 1 (increasing every 0.05), does that statement hold true? If not, did gradient descent have enough iterations?\n",
    "- How do these results change when you alter the learning rate (eta0)?\n",
    "\n",
    "**Bonus**: \n",
    "- Can you see the advantages and disadvantages of using gradient descent after finishing this exercise?"
   ]
  },
  {
   "cell_type": "markdown",
   "metadata": {},
   "source": [
    "#### Independent Practice Starter Code"
   ]
  },
  {
   "cell_type": "code",
   "execution_count": 27,
   "metadata": {},
   "outputs": [
    {
     "name": "stdout",
     "output_type": "stream",
     "text": [
      "BEST ESTIMATOR\n",
      "1692.93560039\n",
      "SGDRegressor(alpha=0.0001, average=False, epsilon=0.1, eta0=0.01,\n",
      "       fit_intercept=True, l1_ratio=0.15, learning_rate='invscaling',\n",
      "       loss='squared_loss', max_iter=None, n_iter=None, penalty='l2',\n",
      "       power_t=0.25, random_state=None, shuffle=True, tol=None, verbose=0,\n",
      "       warm_start=False)\n",
      "ALL ESTIMATORS\n",
      "[mean: -1692.93560, std: 133.57078, params: {}]\n"
     ]
    },
    {
     "name": "stderr",
     "output_type": "stream",
     "text": [
      "/Users/dat-44pt/anaconda2/lib/python2.7/site-packages/sklearn/linear_model/stochastic_gradient.py:128: FutureWarning: max_iter and tol parameters have been added in <class 'sklearn.linear_model.stochastic_gradient.SGDRegressor'> in 0.19. If both are left unset, they default to max_iter=5 and tol=None. If tol is not None, max_iter defaults to max_iter=1000. From 0.21, default max_iter will be 1000, and default tol will be 1e-3.\n",
      "  \"and default tol will be 1e-3.\" % type(self), FutureWarning)\n"
     ]
    }
   ],
   "source": [
    "params = {} # put your gradient descent parameters here\n",
    "gs = grid_search.GridSearchCV(\n",
    "    estimator=linear_model.SGDRegressor(),\n",
    "    cv=cross_validation.KFold(len(modeldata), n_folds=5, shuffle=True),\n",
    "    param_grid=params,\n",
    "    scoring='neg_mean_squared_error',\n",
    "    )\n",
    "\n",
    "gs.fit(modeldata, y)\n",
    "\n",
    "print 'BEST ESTIMATOR'\n",
    "print -gs.best_score_\n",
    "print gs.best_estimator_\n",
    "print 'ALL ESTIMATORS'\n",
    "print gs.grid_scores_"
   ]
  },
  {
   "cell_type": "markdown",
   "metadata": {},
   "source": [
    "#### Independent Practice Solution\n",
    "\n",
    "This code shows the variety of challenges and some student gotchas. The plots will help showcase what should be learned."
   ]
  },
  {
   "cell_type": "markdown",
   "metadata": {},
   "source": [
    "1. With a set of alpha values between 10^-10 and 10^-1, how does the mean squared error change?\n",
    "2. We know when to properly use l1 vs l2 regularization based on the data. \n",
    "    - When l1_ratio = 0 the penalty is an L2 penalty  \n",
    "    - For l1_ratio = 1 it is an L1 penalty   \n",
    "    - For 0 < l1_ratio < 1, the penalty is a combination of L1 and L2  \n",
    "By using a grid search with l1_ratios between 0 and 1 (increasing every 0.05), does our answer to #1 hold true?\n",
    " * (if it didn't look like it, did gradient descent have enough iterations?)\n",
    "3. How do results change when you alter the learning rate (power_t)?"
   ]
  },
  {
   "cell_type": "code",
   "execution_count": 28,
   "metadata": {},
   "outputs": [
    {
     "data": {
      "text/plain": [
       "array([1.e-10, 1.e-09, 1.e-08, 1.e-07, 1.e-06, 1.e-05, 1.e-04, 1.e-03,\n",
       "       1.e-02, 1.e-01])"
      ]
     },
     "execution_count": 28,
     "metadata": {},
     "output_type": "execute_result"
    }
   ],
   "source": [
    "alphas = np.logspace(-10, -1, 10)\n",
    "alphas"
   ]
  },
  {
   "cell_type": "code",
   "execution_count": null,
   "metadata": {},
   "outputs": [],
   "source": []
  },
  {
   "cell_type": "code",
   "execution_count": 29,
   "metadata": {},
   "outputs": [
    {
     "name": "stdout",
     "output_type": "stream",
     "text": [
      "[1.e-10 1.e-09 1.e-08 1.e-07 1.e-06 1.e-05 1.e-04 1.e-03 1.e-02 1.e-01]\n"
     ]
    }
   ],
   "source": [
    "alphas = np.logspace(-10, -1, 10)\n",
    "print alphas\n",
    "params = {'alpha':alphas, } # put your gradient descent parameters here\n",
    "gs = grid_search.GridSearchCV(\n",
    "    estimator=linear_model.SGDRegressor(),\n",
    "    cv=cross_validation.KFold(len(modeldata), n_folds=5, shuffle=True),\n",
    "    param_grid=params,\n",
    "    scoring='neg_mean_squared_error',\n",
    "    )\n",
    "\n",
    "gs.fit(modeldata, y)\n",
    "\n",
    "grid = pd.DataFrame(gs.grid_scores_)\n",
    "grid.columns = ['alpha', 'mean_squared_error', 'cv']\n",
    "grid['alpha'] = grid['alpha'].apply(lambda x: x['alpha'])\n",
    "grid['mean_squared_error'] = grid['mean_squared_error'].apply(lambda x: -x)"
   ]
  },
  {
   "cell_type": "markdown",
   "metadata": {},
   "source": [
    "With the alphas available, it looks like at mean squared error stays generally flat with incredibly small alpha values, but starting at $10^{-3}$, the error begins to elbow. We probably don't have much of a different in performance with other alpha values. "
   ]
  },
  {
   "cell_type": "code",
   "execution_count": 30,
   "metadata": {},
   "outputs": [
    {
     "data": {
      "text/plain": [
       "<matplotlib.axes._subplots.AxesSubplot at 0x10b82c510>"
      ]
     },
     "execution_count": 30,
     "metadata": {},
     "output_type": "execute_result"
    },
    {
     "data": {
      "image/png": "[encoded data removed]",
      "text/plain": [
       "<matplotlib.figure.Figure at 0x10664d710>"
      ]
     },
     "metadata": {},
     "output_type": "display_data"
    }
   ],
   "source": [
    "grid.plot('alpha', 'mean_squared_error', logx=True)"
   ]
  },
  {
   "cell_type": "markdown",
   "metadata": {},
   "source": [
    "At alpha values of either .1 or 1, the l1_ratio works best closer to 1! Interesting. At other values of alpha they should see similar results, though the graphs aren't as clear."
   ]
  },
  {
   "cell_type": "code",
   "execution_count": 31,
   "metadata": {},
   "outputs": [
    {
     "name": "stdout",
     "output_type": "stream",
     "text": [
      "[0.0, 0.05, 0.1, 0.15, 0.2, 0.25, 0.3, 0.35, 0.4, 0.45, 0.5, 0.55, 0.6, 0.65, 0.7, 0.75, 0.8, 0.85, 0.9, 0.95, 1.0]\n"
     ]
    }
   ],
   "source": [
    "l1_2_ratios = [float(i) / 100 for i in range(0, 101, 5)]\n",
    "print l1_2_ratios\n",
    "params = {'l1_ratio':l1_2_ratios, 'penalty': ['elasticnet'], 'alpha': [.1], 'max_iter': [50]}\n",
    "gs = grid_search.GridSearchCV(\n",
    "    estimator=linear_model.SGDRegressor(),\n",
    "    cv=cross_validation.KFold(len(modeldata), n_folds=5, shuffle=True),\n",
    "    param_grid=params,\n",
    "    scoring='neg_mean_squared_error',\n",
    "    )\n",
    "\n",
    "gs.fit(modeldata, y)\n",
    "\n",
    "grid = pd.DataFrame(gs.grid_scores_)\n",
    "grid.columns = ['l1_ratio', 'mean_squared_error', 'cv']\n",
    "grid['l1_ratio'] = grid['l1_ratio'].apply(lambda x: x['l1_ratio'])\n",
    "grid['mean_squared_error'] = grid['mean_squared_error'].apply(lambda x: -x)"
   ]
  },
  {
   "cell_type": "code",
   "execution_count": 32,
   "metadata": {},
   "outputs": [
    {
     "data": {
      "text/plain": [
       "SGDRegressor(alpha=0.1, average=False, epsilon=0.1, eta0=0.01,\n",
       "       fit_intercept=True, l1_ratio=1.0, learning_rate='invscaling',\n",
       "       loss='squared_loss', max_iter=50, n_iter=None, penalty='elasticnet',\n",
       "       power_t=0.25, random_state=None, shuffle=True, tol=None, verbose=0,\n",
       "       warm_start=False)"
      ]
     },
     "execution_count": 32,
     "metadata": {},
     "output_type": "execute_result"
    }
   ],
   "source": [
    "gs.best_estimator_"
   ]
  },
  {
   "cell_type": "code",
   "execution_count": 33,
   "metadata": {},
   "outputs": [
    {
     "data": {
      "text/plain": [
       "<matplotlib.axes._subplots.AxesSubplot at 0x10b97bd90>"
      ]
     },
     "execution_count": 33,
     "metadata": {},
     "output_type": "execute_result"
    },
    {
     "data": {
      "image/png": "[encoded data removed]",
      "text/plain": [
       "<matplotlib.figure.Figure at 0x10b8a3390>"
      ]
     },
     "metadata": {},
     "output_type": "display_data"
    }
   ],
   "source": [
    "grid.plot('l1_ratio', 'mean_squared_error')"
   ]
  },
  {
   "cell_type": "code",
   "execution_count": 34,
   "metadata": {},
   "outputs": [
    {
     "name": "stdout",
     "output_type": "stream",
     "text": [
      "[1, 2, 3, 4, 5, 6, 7, 8, 9, 10, 11, 12, 13, 14, 15, 16, 17, 18, 19, 20, 21, 22, 23, 24, 25, 26, 27, 28, 29, 30, 31, 32, 33, 34, 35, 36, 37, 38, 39, 40, 41, 42, 43, 44, 45, 46, 47, 48, 49]\n"
     ]
    }
   ],
   "source": [
    "learning = range(1, 50)\n",
    "print learning\n",
    "params = {'eta0':learning, 'max_iter': [50]}\n",
    "gs = grid_search.GridSearchCV(\n",
    "    estimator=linear_model.SGDRegressor(),\n",
    "    cv=cross_validation.KFold(len(modeldata), n_folds=5, shuffle=True),\n",
    "    param_grid=params,\n",
    "    scoring='neg_mean_squared_error',\n",
    "    )\n",
    "\n",
    "gs.fit(modeldata, y)\n",
    "\n",
    "grid = pd.DataFrame(gs.grid_scores_)\n",
    "grid.columns = ['eta0', 'mean_squared_error', 'cv']\n",
    "grid['eta0'] = grid['eta0'].apply(lambda x: x['eta0'])\n",
    "grid['mean_squared_error'] = grid['mean_squared_error'].apply(lambda x: -x)"
   ]
  },
  {
   "cell_type": "markdown",
   "metadata": {},
   "source": [
    "Here it should be apparent that as the initial learning rate increases, the error should _also_ increase. \n",
    "- And what happens when the initial learning rate is too high? A dramatic increase in error. \n",
    "\n",
    "It's important to recognize the importance of learning rate and what values it should be set at, the smaller generally the better."
   ]
  },
  {
   "cell_type": "code",
   "execution_count": 35,
   "metadata": {},
   "outputs": [
    {
     "data": {
      "text/plain": [
       "<matplotlib.axes._subplots.AxesSubplot at 0x10669d510>"
      ]
     },
     "execution_count": 35,
     "metadata": {},
     "output_type": "execute_result"
    },
    {
     "data": {
      "image/png": "[encoded data removed]",
      "text/plain": [
       "<matplotlib.figure.Figure at 0x1a137cd750>"
      ]
     },
     "metadata": {},
     "output_type": "display_data"
    }
   ],
   "source": [
    "grid.plot('eta0', 'mean_squared_error', logy=True)"
   ]
  }
 ],
 "metadata": {
  "kernelspec": {
   "display_name": "Python 2",
   "language": "python",
   "name": "python2"
  },
  "language_info": {
   "codemirror_mode": {
    "name": "ipython",
    "version": 2
   },
   "file_extension": ".py",
   "mimetype": "text/x-python",
   "name": "python",
   "nbconvert_exporter": "python",
   "pygments_lexer": "ipython2",
   "version": "2.7.14"
  }
 },
 "nbformat": 4,
 "nbformat_minor": 1
}
