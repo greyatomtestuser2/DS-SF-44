{
 "cells": [
  {
   "cell_type": "markdown",
   "metadata": {},
   "source": [
    "### _Section 17.0:_ Load packages"
   ]
  },
  {
   "cell_type": "code",
   "execution_count": null,
   "metadata": {},
   "outputs": [],
   "source": [
    "import pandas as pd\n",
    "from pandas.io import sql\n",
    "import sqlite3"
   ]
  },
  {
   "cell_type": "markdown",
   "metadata": {},
   "source": [
    "### _Section 17.1:_ Load databases\n",
    "\n",
    "Pandas can be used to connect to most relational databases. In this demonstration, we will create and connect to a SQLite database. SQLite creates portable SQL databases saved in a single file. These databases are stored in a very efficient manner and allow fast querying, making them ideal for small databases or databases that need to be moved across machines.\n",
    "\n",
    "If you are looking to start using a database without the setup of `mysql` or `postgres`, SQLite is a good start."
   ]
  },
  {
   "cell_type": "code",
   "execution_count": null,
   "metadata": {},
   "outputs": [],
   "source": [
    "conn = sqlite3.connect('./datasets/dat-test.db')"
   ]
  },
  {
   "cell_type": "markdown",
   "metadata": {},
   "source": [
    "Let's return to the Rossmann sales data and load that into the database.\n",
    "\n",
    "Data is moved to the database through the `to_sql` command, similar to the `to_csv` command.\n",
    "\n",
    "`to_sql` takes as arugments:\n",
    "    - `name`, the table name to create\n",
    "    - `con`, a connection to a database\n",
    "    - `index`, whether to input the index column\n",
    "    - `schema`, if we want to write a custom schema for the new table\n",
    "    - `if_exists`, what to do if the table already exists. We can overwrite it, add to it, or fail"
   ]
  },
  {
   "cell_type": "code",
   "execution_count": null,
   "metadata": {},
   "outputs": [],
   "source": [
    "# Load Rossman data\n",
    "rossmann_data = pd.read_csv('../../lesson-15/code/datasets/rossmann.csv', low_memory=False)\n",
    "\n",
    "# Load Rossman meta-data\n",
    "rossmann_stores = pd.read_csv('./datasets/rossmann-stores.csv')"
   ]
  },
  {
   "cell_type": "code",
   "execution_count": null,
   "metadata": {},
   "outputs": [],
   "source": [
    "# Feed Rossman data into sql database\n",
    "rossmann_data.to_sql('rossmann_sales',\n",
    "            con=conn,\n",
    "            if_exists='replace',\n",
    "            index=False)"
   ]
  },
  {
   "cell_type": "code",
   "execution_count": null,
   "metadata": {},
   "outputs": [],
   "source": [
    "# Issue SQL test-commands\n",
    "sql.read_sql(\n",
    "    \"\"\"\n",
    "    SELECT * \n",
    "    FROM rossmann_sales \n",
    "    LIMIT 10;\n",
    "    \"\"\", con=conn)"
   ]
  },
  {
   "cell_type": "markdown",
   "metadata": {},
   "source": [
    "### _17.2:_ Table creation\n",
    "Create a table into the database from the Rossmann Store metadata "
   ]
  },
  {
   "cell_type": "code",
   "execution_count": null,
   "metadata": {},
   "outputs": [],
   "source": [
    "# TODO"
   ]
  },
  {
   "cell_type": "markdown",
   "metadata": {},
   "source": [
    "### _17.3:_ SELECT\n",
    "Write a query that returns the `Store`, `Date` and `Customers`"
   ]
  },
  {
   "cell_type": "code",
   "execution_count": null,
   "metadata": {},
   "outputs": [],
   "source": [
    "# TODO"
   ]
  },
  {
   "cell_type": "markdown",
   "metadata": {},
   "source": [
    "### _17.4:_ WHERE\n",
    "Write a query that returns the `Store`, `Date` and `Customers` for when the stores were open and running a promotion"
   ]
  },
  {
   "cell_type": "code",
   "execution_count": null,
   "metadata": {},
   "outputs": [],
   "source": [
    "# TODO"
   ]
  },
  {
   "cell_type": "markdown",
   "metadata": {},
   "source": [
    "### _17.5:_ GROUP BY\n",
    "Write a query that returns the total sales on promotion days ('Promo')"
   ]
  },
  {
   "cell_type": "code",
   "execution_count": null,
   "metadata": {},
   "outputs": [],
   "source": [
    "# TODO"
   ]
  },
  {
   "cell_type": "markdown",
   "metadata": {},
   "source": [
    "## Walmart store data"
   ]
  },
  {
   "cell_type": "code",
   "execution_count": null,
   "metadata": {},
   "outputs": [],
   "source": [
    "# Load the Walmart sales and store features data\n",
    "walmart_sales = pd.read_csv('./datasets/walmart-sales.csv')\n",
    "walmart_sales.head()\n",
    "\n",
    "walmart_features = pd.read_csv('./datasets/features.csv')\n",
    "walmart_features.head()"
   ]
  },
  {
   "cell_type": "markdown",
   "metadata": {},
   "source": [
    "### _17.6:_ Exercises\n",
    "\n",
    "1. Create a table for each of those datasets\n",
    "1. Select the store, date and fuel price on days it was over 90 degrees\n",
    "1. Select the store, date and weekly sales and temperature\n",
    "1. What were average sales on holiday vs. non-holiday sales\n",
    "1. What were average sales on holiday vs. non-holiday sales when the temperature was below 32 degrees"
   ]
  },
  {
   "cell_type": "code",
   "execution_count": null,
   "metadata": {},
   "outputs": [],
   "source": [
    "# TODO"
   ]
  }
 ],
 "metadata": {
  "kernelspec": {
   "display_name": "Python 3",
   "language": "python",
   "name": "python3"
  },
  "language_info": {
   "codemirror_mode": {
    "name": "ipython",
    "version": 3
   },
   "file_extension": ".py",
   "mimetype": "text/x-python",
   "name": "python",
   "nbconvert_exporter": "python",
   "pygments_lexer": "ipython3",
   "version": "3.6.5"
  }
 },
 "nbformat": 4,
 "nbformat_minor": 1
}
