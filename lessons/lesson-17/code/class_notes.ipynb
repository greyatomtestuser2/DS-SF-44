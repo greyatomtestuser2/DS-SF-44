{
 "cells": [
  {
   "cell_type": "markdown",
   "metadata": {},
   "source": [
    "# Python code style conventions\n",
    "\n",
    "For example:\n",
    "- Spaces around = for assignment\n",
    "- No spaces around = for default parameter values\n",
    "\n",
    "Great summary [here](https://development.robinwinslow.uk/2014/01/05/summary-of-python-code-style-conventions/)."
   ]
  },
  {
   "cell_type": "markdown",
   "metadata": {},
   "source": [
    "### Commenting code\n",
    "Comments can serve as notes to both yourself and others, and should always provide a complete explanation of the events occuring in your code.\n",
    "\n",
    "See examples below ([source](https://www.digitalocean.com/community/tutorials/how-to-write-comments-in-python-3))."
   ]
  },
  {
   "cell_type": "code",
   "execution_count": 1,
   "metadata": {},
   "outputs": [
    {
     "name": "stdout",
     "output_type": "stream",
     "text": [
      "Shark :hammerhead\n",
      "Shark :great white\n",
      "Shark :dogfish\n",
      "Shark :frilled\n",
      "Shark :bullhead\n",
      "Shark :requiem\n"
     ]
    }
   ],
   "source": [
    "# Define sharks variable as a list of strings\n",
    "sharks = ['hammerhead', 'great white', 'dogfish', 'frilled', 'bullhead', 'requiem']\n",
    "\n",
    "# For loop that iterates over sharks list and prints each string item\n",
    "for shark in sharks:\n",
    "   print('Shark :' + shark)"
   ]
  },
  {
   "cell_type": "code",
   "execution_count": 2,
   "metadata": {},
   "outputs": [],
   "source": [
    "# Define again() function to ask user if they want to use the calculator again\n",
    "def again():\n",
    "\n",
    "    # Take input from user\n",
    "    calc_again = input('''\n",
    "    Do you want to calculate again?\n",
    "    Please type Y for YES or N for NO.\n",
    "    ''')\n",
    "\n",
    "    # If user types Y, run the calculate() function\n",
    "    if calc_again == 'Y':\n",
    "        calculate()\n",
    "\n",
    "    # If user types N, say good-bye to the user and end the program\n",
    "    elif calc_again == 'N':\n",
    "        print('See you later.')\n",
    "\n",
    "    # If user types another key, run the function again\n",
    "    else:\n",
    "        again()"
   ]
  },
  {
   "cell_type": "markdown",
   "metadata": {},
   "source": [
    "### Single vs. double quotes \n",
    "Which one you use is completely a matter of personal taste. But, _be consistent!_\n",
    "- Single quotes allow un-escaped embedding of double quotes\n",
    "- Double quotes allow for embedding of un-escaped single quotes"
   ]
  },
  {
   "cell_type": "code",
   "execution_count": 3,
   "metadata": {},
   "outputs": [
    {
     "ename": "SyntaxError",
     "evalue": "invalid syntax (<ipython-input-3-cecc3fd03b81>, line 1)",
     "output_type": "error",
     "traceback": [
      "\u001b[0;36m  File \u001b[0;32m\"<ipython-input-3-cecc3fd03b81>\"\u001b[0;36m, line \u001b[0;32m1\u001b[0m\n\u001b[0;31m    print('I walked into the room and Pete said 'Hey!'')\u001b[0m\n\u001b[0m                                                   ^\u001b[0m\n\u001b[0;31mSyntaxError\u001b[0m\u001b[0;31m:\u001b[0m invalid syntax\n"
     ]
    }
   ],
   "source": [
    "print('I walked into the room and Pete said 'Hey!'')"
   ]
  },
  {
   "cell_type": "code",
   "execution_count": null,
   "metadata": {},
   "outputs": [],
   "source": [
    "print('I walked into the room and Pete said \"Hey!\"')"
   ]
  },
  {
   "cell_type": "code",
   "execution_count": null,
   "metadata": {},
   "outputs": [],
   "source": [
    "print(\"I walked into the room and Pete said \"Hey!\"\")"
   ]
  },
  {
   "cell_type": "code",
   "execution_count": null,
   "metadata": {},
   "outputs": [],
   "source": [
    "print(\"I walked into the room and Pete said 'Hey!'\")"
   ]
  }
 ],
 "metadata": {
  "kernelspec": {
   "display_name": "Python 3",
   "language": "python",
   "name": "python3"
  },
  "language_info": {
   "codemirror_mode": {
    "name": "ipython",
    "version": 3
   },
   "file_extension": ".py",
   "mimetype": "text/x-python",
   "name": "python",
   "nbconvert_exporter": "python",
   "pygments_lexer": "ipython3",
   "version": "3.6.5"
  }
 },
 "nbformat": 4,
 "nbformat_minor": 2
}
