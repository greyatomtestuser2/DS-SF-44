{
 "cells": [
  {
   "cell_type": "code",
   "execution_count": null,
   "metadata": {},
   "outputs": [],
   "source": [
    "import pandas as pd\n",
    "from sklearn import dummy\n",
    "import numpy as np"
   ]
  },
  {
   "cell_type": "markdown",
   "metadata": {},
   "source": [
    "#### Pandas dataframe .copy demo\n",
    "When we use .copy() to duplicate a dataframe, we are taking extra precaution to not modify the source data frame. Although it's probably unnecessary, when you're throwing things together interactively, it's better to be safe than sorry."
   ]
  },
  {
   "cell_type": "code",
   "execution_count": 1,
   "metadata": {},
   "outputs": [
    {
     "name": "stdout",
     "output_type": "stream",
     "text": [
      "   x\n",
      "0  1\n",
      "1  2\n"
     ]
    }
   ],
   "source": [
    "df = pd.DataFrame({'x': [1,2]})\n",
    "print(df)"
   ]
  },
  {
   "cell_type": "code",
   "execution_count": 2,
   "metadata": {},
   "outputs": [
    {
     "name": "stdout",
     "output_type": "stream",
     "text": [
      "   x\n",
      "0 -1\n",
      "1  2\n"
     ]
    },
    {
     "name": "stderr",
     "output_type": "stream",
     "text": [
      "/Users/dat-44pt/anaconda2/lib/python2.7/site-packages/pandas/core/generic.py:3643: SettingWithCopyWarning: \n",
      "A value is trying to be set on a copy of a slice from a DataFrame.\n",
      "Try using .loc[row_indexer,col_indexer] = value instead\n",
      "\n",
      "See the caveats in the documentation: http://pandas.pydata.org/pandas-docs/stable/indexing.html#indexing-view-versus-copy\n",
      "  self[name] = value\n"
     ]
    }
   ],
   "source": [
    "df_sub = df[0:1]\n",
    "df_sub.x = -1\n",
    "print(df)"
   ]
  },
  {
   "cell_type": "code",
   "execution_count": 3,
   "metadata": {},
   "outputs": [
    {
     "name": "stdout",
     "output_type": "stream",
     "text": [
      "   x\n",
      "0  1\n",
      "1  2\n"
     ]
    }
   ],
   "source": [
    "df = pd.DataFrame({'x': [1,2]})\n",
    "df_sub_copy = df[0:1].copy()\n",
    "df_sub_copy.x = -1\n",
    "print(df)"
   ]
  },
  {
   "cell_type": "markdown",
   "metadata": {},
   "source": [
    "#### Understanding predict_proba() output\n",
    "Assume, for example, that your target belongs to the set (0,1). Then, the classifier would output a probability matrix of (N,2). The first value is the probability that the data belong to class 0, and the second value is the probability that the data belong to class 1. These two values sum to 1.\n",
    "\n",
    "You can output the result by:\n",
    "```python\n",
    "probability = model.predict_proba(X)[:,1]\n",
    "```\n",
    "If you have k classes, the output would be (N,k), you would have to specify the probability of which class you want."
   ]
  },
  {
   "cell_type": "code",
   "execution_count": 4,
   "metadata": {},
   "outputs": [
    {
     "name": "stdout",
     "output_type": "stream",
     "text": [
      "[0 1]\n",
      "[1 0 0]\n"
     ]
    }
   ],
   "source": [
    "df = pd.read_csv('./datasets/flight_delays.csv')\n",
    "\n",
    "model_binary = dummy.DummyClassifier()\n",
    "model_multi = dummy.DummyClassifier()\n",
    "\n",
    "# Below we fit 2 models: a binary (2 classes) classifier and a multi-class (3 classes) classifier\n",
    "model_binary.fit(np.random.randint(2, size=(20, 4)), np.random.randint(2, size=(20, 1)))\n",
    "model_multi.fit(np.random.randint(2, size=(20, 4)), np.random.randint(3, size=(20, 1)))\n",
    "\n",
    "# We can compare the first sample output from predict_proba() for each and notice the different shape (n = # of classes)\n",
    "print(model_binary.predict_proba(np.random.randint(2, size=(20, 4)))[0][0])\n",
    "print(model_multi.predict_proba(np.random.randint(2, size=(20, 4)))[0][0])"
   ]
  },
  {
   "cell_type": "markdown",
   "metadata": {},
   "source": [
    "#### Understanding enumerate()"
   ]
  },
  {
   "cell_type": "code",
   "execution_count": 5,
   "metadata": {},
   "outputs": [
    {
     "data": {
      "text/plain": [
       "[(0, 'pizza'), (1, 'pasta'), (2, 'salad'), (3, 'nachos')]"
      ]
     },
     "execution_count": 5,
     "metadata": {},
     "output_type": "execute_result"
    }
   ],
   "source": [
    "choices = ['pizza', 'pasta', 'salad', 'nachos']\n",
    "list(enumerate(choices))"
   ]
  }
 ],
 "metadata": {
  "kernelspec": {
   "display_name": "Python 2",
   "language": "python",
   "name": "python2"
  },
  "language_info": {
   "codemirror_mode": {
    "name": "ipython",
    "version": 2
   },
   "file_extension": ".py",
   "mimetype": "text/x-python",
   "name": "python",
   "nbconvert_exporter": "python",
   "pygments_lexer": "ipython2",
   "version": "2.7.14"
  }
 },
 "nbformat": 4,
 "nbformat_minor": 2
}
