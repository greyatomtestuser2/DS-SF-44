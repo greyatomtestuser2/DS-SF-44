{
 "cells": [
  {
   "cell_type": "markdown",
   "metadata": {},
   "source": [
    "#### Pandas dataframe .copy demo\n",
    "When we use .copy() to duplicate a dataframe, we are taking extra precaution to not modify the source data frame. Although it's probably unnecessary, when you're throwing things together interactively, it's better to be safe than sorry."
   ]
  },
  {
   "cell_type": "code",
   "execution_count": null,
   "metadata": {},
   "outputs": [],
   "source": [
    "import pandas as pd\n",
    "df = pd.DataFrame({'x': [1,2]})\n",
    "print(df)"
   ]
  },
  {
   "cell_type": "code",
   "execution_count": null,
   "metadata": {},
   "outputs": [],
   "source": [
    "df_sub = df[0:1]\n",
    "df_sub.x = -1\n",
    "print(df)"
   ]
  },
  {
   "cell_type": "code",
   "execution_count": null,
   "metadata": {},
   "outputs": [],
   "source": [
    "df = pd.DataFrame({'x': [1,2]})\n",
    "df_sub_copy = df[0:1].copy()\n",
    "df_sub_copy.x = -1\n",
    "print(df)"
   ]
  },
  {
   "cell_type": "markdown",
   "metadata": {},
   "source": [
    "#### Understanding predict_proba() output\n",
    "Assume, for example, that your target belongs to the set (0,1). Then, the classifier would output a probability matrix of (N,2). The first value is the probability that the data belong to class 0, and the second value is the probability that the data belong to class 1. These two values sum to 1.\n",
    "\n",
    "You can output the result by:\n",
    "```python\n",
    "probability = model.predict_proba(X)[:,1]\n",
    "```\n",
    "If you have k classes, the output would be (N,k), you would have to specify the probability of which class you want."
   ]
  },
  {
   "cell_type": "code",
   "execution_count": null,
   "metadata": {},
   "outputs": [],
   "source": []
  }
 ],
 "metadata": {
  "kernelspec": {
   "display_name": "Python 2",
   "language": "python",
   "name": "python2"
  },
  "language_info": {
   "codemirror_mode": {
    "name": "ipython",
    "version": 2
   },
   "file_extension": ".py",
   "mimetype": "text/x-python",
   "name": "python",
   "nbconvert_exporter": "python",
   "pygments_lexer": "ipython2",
   "version": "2.7.14"
  }
 },
 "nbformat": 4,
 "nbformat_minor": 2
}
