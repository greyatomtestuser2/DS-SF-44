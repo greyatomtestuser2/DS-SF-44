{
 "cells": [
  {
   "cell_type": "markdown",
   "metadata": {},
   "source": [
    "**_Section 10.0:_** Load packages"
   ]
  },
  {
   "cell_type": "code",
   "execution_count": 1,
   "metadata": {},
   "outputs": [
    {
     "name": "stderr",
     "output_type": "stream",
     "text": [
      "/Users/dat-44pt/anaconda2/lib/python2.7/site-packages/statsmodels/compat/pandas.py:56: FutureWarning: The pandas.core.datetools module is deprecated and will be removed in a future version. Please use the pandas.tseries module instead.\n",
      "  from pandas.core import datetools\n"
     ]
    }
   ],
   "source": [
    "import pandas as pd\n",
    "import statsmodels.api as sm\n",
    "import matplotlib.pyplot as plt\n",
    "import seaborn as sns\n",
    "import sklearn.linear_model as lm\n",
    "from sklearn import dummy, metrics\n",
    "\n",
    "%matplotlib inline"
   ]
  },
  {
   "cell_type": "markdown",
   "metadata": {},
   "source": [
    "### _Section 10.1_\n",
    "```diff\n",
    "+ The following section serves as a brief refresher regarding precision, recall, and how the two interact.\n",
    "```\n",
    "### Cost Benefit Questions\n",
    "1. How would you rephrase the business problem if your model was optimizing toward _precision_?  \n",
    "i.e., How might the model behave differently, and what effect would it have?\n",
    "2. How would you rephrase the business problem if your model was optimizing toward _recall_?\n",
    "3. What would the most ideal model look like in this case?\n",
    "\n",
    "#### Answers:\n",
    "\n",
    "1. If this model where optimized toward precision, we'd be minimizing the number of false positives: users who are targeted in the campaign but are not retained.\n",
    "2. If this model where optimized toward recall, we'd be minimizing the number of false negatives, or making sure that users who could have retained, did.\n",
    "3. The model would be most optimized, at this point, towards recall, as there's the largest business gain."
   ]
  },
  {
   "cell_type": "markdown",
   "metadata": {},
   "source": [
    "### _Section 10.2_\n",
    "```diff\n",
    "+ The following section provides an opportunity for the student to explain the effect of particular variables on our model by plotting the predictions of our model against the possible range of values for our variable-of-interest.\n",
    "```\n",
    "### Visualizing models over variables"
   ]
  },
  {
   "cell_type": "code",
   "execution_count": 2,
   "metadata": {},
   "outputs": [
    {
     "data": {
      "text/html": [
       "<div>\n",
       "<style scoped>\n",
       "    .dataframe tbody tr th:only-of-type {\n",
       "        vertical-align: middle;\n",
       "    }\n",
       "\n",
       "    .dataframe tbody tr th {\n",
       "        vertical-align: top;\n",
       "    }\n",
       "\n",
       "    .dataframe thead th {\n",
       "        text-align: right;\n",
       "    }\n",
       "</style>\n",
       "<table border=\"1\" class=\"dataframe\">\n",
       "  <thead>\n",
       "    <tr style=\"text-align: right;\">\n",
       "      <th></th>\n",
       "      <th>DAY_OF_MONTH</th>\n",
       "      <th>DAY_OF_WEEK</th>\n",
       "      <th>FL_DATE</th>\n",
       "      <th>UNIQUE_CARRIER</th>\n",
       "      <th>AIRLINE_ID</th>\n",
       "      <th>CARRIER</th>\n",
       "      <th>ORIGIN_AIRPORT_ID</th>\n",
       "      <th>ORIGIN_AIRPORT_SEQ_ID</th>\n",
       "      <th>ORIGIN_CITY_MARKET_ID</th>\n",
       "      <th>DEST_AIRPORT_ID</th>\n",
       "      <th>DEST_AIRPORT_SEQ_ID</th>\n",
       "      <th>DEST_CITY_MARKET_ID</th>\n",
       "      <th>CRS_DEP_TIME</th>\n",
       "      <th>DEP_TIME</th>\n",
       "      <th>DEP_DEL15</th>\n",
       "      <th>Unnamed: 15</th>\n",
       "    </tr>\n",
       "  </thead>\n",
       "  <tbody>\n",
       "    <tr>\n",
       "      <th>0</th>\n",
       "      <td>1</td>\n",
       "      <td>4</td>\n",
       "      <td>2015-01-01</td>\n",
       "      <td>AA</td>\n",
       "      <td>19805</td>\n",
       "      <td>AA</td>\n",
       "      <td>12478</td>\n",
       "      <td>1247802</td>\n",
       "      <td>31703</td>\n",
       "      <td>12892</td>\n",
       "      <td>1289203</td>\n",
       "      <td>32575</td>\n",
       "      <td>900</td>\n",
       "      <td>855.0</td>\n",
       "      <td>0.0</td>\n",
       "      <td>NaN</td>\n",
       "    </tr>\n",
       "    <tr>\n",
       "      <th>1</th>\n",
       "      <td>1</td>\n",
       "      <td>4</td>\n",
       "      <td>2015-01-01</td>\n",
       "      <td>AA</td>\n",
       "      <td>19805</td>\n",
       "      <td>AA</td>\n",
       "      <td>12892</td>\n",
       "      <td>1289203</td>\n",
       "      <td>32575</td>\n",
       "      <td>12478</td>\n",
       "      <td>1247802</td>\n",
       "      <td>31703</td>\n",
       "      <td>900</td>\n",
       "      <td>856.0</td>\n",
       "      <td>0.0</td>\n",
       "      <td>NaN</td>\n",
       "    </tr>\n",
       "    <tr>\n",
       "      <th>2</th>\n",
       "      <td>1</td>\n",
       "      <td>4</td>\n",
       "      <td>2015-01-01</td>\n",
       "      <td>AA</td>\n",
       "      <td>19805</td>\n",
       "      <td>AA</td>\n",
       "      <td>12478</td>\n",
       "      <td>1247802</td>\n",
       "      <td>31703</td>\n",
       "      <td>12892</td>\n",
       "      <td>1289203</td>\n",
       "      <td>32575</td>\n",
       "      <td>1230</td>\n",
       "      <td>1226.0</td>\n",
       "      <td>0.0</td>\n",
       "      <td>NaN</td>\n",
       "    </tr>\n",
       "    <tr>\n",
       "      <th>3</th>\n",
       "      <td>1</td>\n",
       "      <td>4</td>\n",
       "      <td>2015-01-01</td>\n",
       "      <td>AA</td>\n",
       "      <td>19805</td>\n",
       "      <td>AA</td>\n",
       "      <td>12892</td>\n",
       "      <td>1289203</td>\n",
       "      <td>32575</td>\n",
       "      <td>12478</td>\n",
       "      <td>1247802</td>\n",
       "      <td>31703</td>\n",
       "      <td>1220</td>\n",
       "      <td>1214.0</td>\n",
       "      <td>0.0</td>\n",
       "      <td>NaN</td>\n",
       "    </tr>\n",
       "    <tr>\n",
       "      <th>4</th>\n",
       "      <td>1</td>\n",
       "      <td>4</td>\n",
       "      <td>2015-01-01</td>\n",
       "      <td>AA</td>\n",
       "      <td>19805</td>\n",
       "      <td>AA</td>\n",
       "      <td>11298</td>\n",
       "      <td>1129803</td>\n",
       "      <td>30194</td>\n",
       "      <td>12173</td>\n",
       "      <td>1217302</td>\n",
       "      <td>32134</td>\n",
       "      <td>1305</td>\n",
       "      <td>1754.0</td>\n",
       "      <td>1.0</td>\n",
       "      <td>NaN</td>\n",
       "    </tr>\n",
       "  </tbody>\n",
       "</table>\n",
       "</div>"
      ],
      "text/plain": [
       "   DAY_OF_MONTH  DAY_OF_WEEK     FL_DATE UNIQUE_CARRIER  AIRLINE_ID CARRIER  \\\n",
       "0             1            4  2015-01-01             AA       19805      AA   \n",
       "1             1            4  2015-01-01             AA       19805      AA   \n",
       "2             1            4  2015-01-01             AA       19805      AA   \n",
       "3             1            4  2015-01-01             AA       19805      AA   \n",
       "4             1            4  2015-01-01             AA       19805      AA   \n",
       "\n",
       "   ORIGIN_AIRPORT_ID  ORIGIN_AIRPORT_SEQ_ID  ORIGIN_CITY_MARKET_ID  \\\n",
       "0              12478                1247802                  31703   \n",
       "1              12892                1289203                  32575   \n",
       "2              12478                1247802                  31703   \n",
       "3              12892                1289203                  32575   \n",
       "4              11298                1129803                  30194   \n",
       "\n",
       "   DEST_AIRPORT_ID  DEST_AIRPORT_SEQ_ID  DEST_CITY_MARKET_ID  CRS_DEP_TIME  \\\n",
       "0            12892              1289203                32575           900   \n",
       "1            12478              1247802                31703           900   \n",
       "2            12892              1289203                32575          1230   \n",
       "3            12478              1247802                31703          1220   \n",
       "4            12173              1217302                32134          1305   \n",
       "\n",
       "   DEP_TIME  DEP_DEL15  Unnamed: 15  \n",
       "0     855.0        0.0          NaN  \n",
       "1     856.0        0.0          NaN  \n",
       "2    1226.0        0.0          NaN  \n",
       "3    1214.0        0.0          NaN  \n",
       "4    1754.0        1.0          NaN  "
      ]
     },
     "execution_count": 2,
     "metadata": {},
     "output_type": "execute_result"
    }
   ],
   "source": [
    "df = pd.read_csv('./datasets/flight_delays.csv')\n",
    "df = df.loc[df.DEP_DEL15.notnull()].copy()\n",
    "\n",
    "df.head()"
   ]
  },
  {
   "cell_type": "code",
   "execution_count": 3,
   "metadata": {},
   "outputs": [
    {
     "data": {
      "text/html": [
       "<div>\n",
       "<style scoped>\n",
       "    .dataframe tbody tr th:only-of-type {\n",
       "        vertical-align: middle;\n",
       "    }\n",
       "\n",
       "    .dataframe tbody tr th {\n",
       "        vertical-align: top;\n",
       "    }\n",
       "\n",
       "    .dataframe thead th {\n",
       "        text-align: right;\n",
       "    }\n",
       "</style>\n",
       "<table border=\"1\" class=\"dataframe\">\n",
       "  <thead>\n",
       "    <tr style=\"text-align: right;\">\n",
       "      <th></th>\n",
       "      <th>DAY_OF_MONTH</th>\n",
       "      <th>DAY_OF_WEEK</th>\n",
       "      <th>FL_DATE</th>\n",
       "      <th>UNIQUE_CARRIER</th>\n",
       "      <th>AIRLINE_ID</th>\n",
       "      <th>CARRIER</th>\n",
       "      <th>ORIGIN_AIRPORT_ID</th>\n",
       "      <th>ORIGIN_AIRPORT_SEQ_ID</th>\n",
       "      <th>ORIGIN_CITY_MARKET_ID</th>\n",
       "      <th>DEST_AIRPORT_ID</th>\n",
       "      <th>...</th>\n",
       "      <th>carrier_US</th>\n",
       "      <th>carrier_VX</th>\n",
       "      <th>carrier_WN</th>\n",
       "      <th>dow_1</th>\n",
       "      <th>dow_2</th>\n",
       "      <th>dow_3</th>\n",
       "      <th>dow_4</th>\n",
       "      <th>dow_5</th>\n",
       "      <th>dow_6</th>\n",
       "      <th>dow_7</th>\n",
       "    </tr>\n",
       "  </thead>\n",
       "  <tbody>\n",
       "    <tr>\n",
       "      <th>0</th>\n",
       "      <td>1</td>\n",
       "      <td>4</td>\n",
       "      <td>2015-01-01</td>\n",
       "      <td>AA</td>\n",
       "      <td>19805</td>\n",
       "      <td>AA</td>\n",
       "      <td>12478</td>\n",
       "      <td>1247802</td>\n",
       "      <td>31703</td>\n",
       "      <td>12892</td>\n",
       "      <td>...</td>\n",
       "      <td>0</td>\n",
       "      <td>0</td>\n",
       "      <td>0</td>\n",
       "      <td>0</td>\n",
       "      <td>0</td>\n",
       "      <td>0</td>\n",
       "      <td>1</td>\n",
       "      <td>0</td>\n",
       "      <td>0</td>\n",
       "      <td>0</td>\n",
       "    </tr>\n",
       "    <tr>\n",
       "      <th>1</th>\n",
       "      <td>1</td>\n",
       "      <td>4</td>\n",
       "      <td>2015-01-01</td>\n",
       "      <td>AA</td>\n",
       "      <td>19805</td>\n",
       "      <td>AA</td>\n",
       "      <td>12892</td>\n",
       "      <td>1289203</td>\n",
       "      <td>32575</td>\n",
       "      <td>12478</td>\n",
       "      <td>...</td>\n",
       "      <td>0</td>\n",
       "      <td>0</td>\n",
       "      <td>0</td>\n",
       "      <td>0</td>\n",
       "      <td>0</td>\n",
       "      <td>0</td>\n",
       "      <td>1</td>\n",
       "      <td>0</td>\n",
       "      <td>0</td>\n",
       "      <td>0</td>\n",
       "    </tr>\n",
       "    <tr>\n",
       "      <th>2</th>\n",
       "      <td>1</td>\n",
       "      <td>4</td>\n",
       "      <td>2015-01-01</td>\n",
       "      <td>AA</td>\n",
       "      <td>19805</td>\n",
       "      <td>AA</td>\n",
       "      <td>12478</td>\n",
       "      <td>1247802</td>\n",
       "      <td>31703</td>\n",
       "      <td>12892</td>\n",
       "      <td>...</td>\n",
       "      <td>0</td>\n",
       "      <td>0</td>\n",
       "      <td>0</td>\n",
       "      <td>0</td>\n",
       "      <td>0</td>\n",
       "      <td>0</td>\n",
       "      <td>1</td>\n",
       "      <td>0</td>\n",
       "      <td>0</td>\n",
       "      <td>0</td>\n",
       "    </tr>\n",
       "    <tr>\n",
       "      <th>3</th>\n",
       "      <td>1</td>\n",
       "      <td>4</td>\n",
       "      <td>2015-01-01</td>\n",
       "      <td>AA</td>\n",
       "      <td>19805</td>\n",
       "      <td>AA</td>\n",
       "      <td>12892</td>\n",
       "      <td>1289203</td>\n",
       "      <td>32575</td>\n",
       "      <td>12478</td>\n",
       "      <td>...</td>\n",
       "      <td>0</td>\n",
       "      <td>0</td>\n",
       "      <td>0</td>\n",
       "      <td>0</td>\n",
       "      <td>0</td>\n",
       "      <td>0</td>\n",
       "      <td>1</td>\n",
       "      <td>0</td>\n",
       "      <td>0</td>\n",
       "      <td>0</td>\n",
       "    </tr>\n",
       "    <tr>\n",
       "      <th>4</th>\n",
       "      <td>1</td>\n",
       "      <td>4</td>\n",
       "      <td>2015-01-01</td>\n",
       "      <td>AA</td>\n",
       "      <td>19805</td>\n",
       "      <td>AA</td>\n",
       "      <td>11298</td>\n",
       "      <td>1129803</td>\n",
       "      <td>30194</td>\n",
       "      <td>12173</td>\n",
       "      <td>...</td>\n",
       "      <td>0</td>\n",
       "      <td>0</td>\n",
       "      <td>0</td>\n",
       "      <td>0</td>\n",
       "      <td>0</td>\n",
       "      <td>0</td>\n",
       "      <td>1</td>\n",
       "      <td>0</td>\n",
       "      <td>0</td>\n",
       "      <td>0</td>\n",
       "    </tr>\n",
       "  </tbody>\n",
       "</table>\n",
       "<p>5 rows × 37 columns</p>\n",
       "</div>"
      ],
      "text/plain": [
       "   DAY_OF_MONTH  DAY_OF_WEEK     FL_DATE UNIQUE_CARRIER  AIRLINE_ID CARRIER  \\\n",
       "0             1            4  2015-01-01             AA       19805      AA   \n",
       "1             1            4  2015-01-01             AA       19805      AA   \n",
       "2             1            4  2015-01-01             AA       19805      AA   \n",
       "3             1            4  2015-01-01             AA       19805      AA   \n",
       "4             1            4  2015-01-01             AA       19805      AA   \n",
       "\n",
       "   ORIGIN_AIRPORT_ID  ORIGIN_AIRPORT_SEQ_ID  ORIGIN_CITY_MARKET_ID  \\\n",
       "0              12478                1247802                  31703   \n",
       "1              12892                1289203                  32575   \n",
       "2              12478                1247802                  31703   \n",
       "3              12892                1289203                  32575   \n",
       "4              11298                1129803                  30194   \n",
       "\n",
       "   DEST_AIRPORT_ID  ...    carrier_US  carrier_VX  carrier_WN  dow_1  dow_2  \\\n",
       "0            12892  ...             0           0           0      0      0   \n",
       "1            12478  ...             0           0           0      0      0   \n",
       "2            12892  ...             0           0           0      0      0   \n",
       "3            12478  ...             0           0           0      0      0   \n",
       "4            12173  ...             0           0           0      0      0   \n",
       "\n",
       "   dow_3  dow_4  dow_5  dow_6  dow_7  \n",
       "0      0      1      0      0      0  \n",
       "1      0      1      0      0      0  \n",
       "2      0      1      0      0      0  \n",
       "3      0      1      0      0      0  \n",
       "4      0      1      0      0      0  \n",
       "\n",
       "[5 rows x 37 columns]"
      ]
     },
     "execution_count": 3,
     "metadata": {},
     "output_type": "execute_result"
    }
   ],
   "source": [
    "df = df[df.DEP_DEL15.notnull()] # drop null values for 'DEP_DEL15' column\n",
    "df = df.join(pd.get_dummies(df['CARRIER'], prefix='carrier')) # create new columns of dummy variables\n",
    "df = df.join(pd.get_dummies(df['DAY_OF_WEEK'], prefix='dow'))\n",
    "\n",
    "model = lm.LogisticRegression()\n",
    "\n",
    "features = [i for i in df.columns if 'dow_' in i]\n",
    "features += ['CRS_DEP_TIME']\n",
    "\n",
    "df.head()"
   ]
  },
  {
   "cell_type": "code",
   "execution_count": 4,
   "metadata": {},
   "outputs": [
    {
     "data": {
      "text/plain": [
       "(458311, 37)"
      ]
     },
     "execution_count": 4,
     "metadata": {},
     "output_type": "execute_result"
    }
   ],
   "source": [
    "df.shape"
   ]
  },
  {
   "cell_type": "code",
   "execution_count": 5,
   "metadata": {},
   "outputs": [],
   "source": [
    "model.fit(df[features], df['DEP_DEL15'])\n",
    "\n",
    "df['probability'] = model.predict_proba(df[features]).T[1]\n",
    "# 'predict_proba' returns 'T': the probability of the sample for each class in the model \n",
    "# (n elements long, where n = # of class labels)"
   ]
  },
  {
   "cell_type": "code",
   "execution_count": 6,
   "metadata": {},
   "outputs": [
    {
     "data": {
      "text/plain": [
       "['dow_1', 'dow_2', 'dow_3', 'dow_4', 'dow_5', 'dow_6', 'dow_7', 'CRS_DEP_TIME']"
      ]
     },
     "execution_count": 6,
     "metadata": {},
     "output_type": "execute_result"
    }
   ],
   "source": [
    "features"
   ]
  },
  {
   "cell_type": "code",
   "execution_count": 7,
   "metadata": {},
   "outputs": [
    {
     "data": {
      "image/png": "[encoded data removed]",
      "text/plain": [
       "<matplotlib.figure.Figure at 0x113356dd0>"
      ]
     },
     "metadata": {},
     "output_type": "display_data"
    }
   ],
   "source": [
    "ax = plt.subplot(111)\n",
    "colors = ['blue', 'green', 'red', 'purple', 'orange', 'brown', 'yellow']\n",
    "for e, c in enumerate(colors):\n",
    "    df[df[features[e]] == 1].plot(x='CRS_DEP_TIME', y='probability', kind='scatter', color=c, ax=ax)\n",
    "\n",
    "ax.set(title='Probability of Delay\\n Based on Day of Week and Time of Day')\n",
    "\n",
    "plt.show()"
   ]
  },
  {
   "cell_type": "markdown",
   "metadata": {},
   "source": [
    "### Other Answers: visualizing Airline performance over time"
   ]
  },
  {
   "cell_type": "code",
   "execution_count": 8,
   "metadata": {},
   "outputs": [
    {
     "data": {
      "text/plain": [
       "['carrier_AA',\n",
       " 'carrier_AS',\n",
       " 'carrier_B6',\n",
       " 'carrier_DL',\n",
       " 'carrier_EV',\n",
       " 'carrier_F9',\n",
       " 'carrier_HA',\n",
       " 'carrier_MQ',\n",
       " 'carrier_NK',\n",
       " 'carrier_OO',\n",
       " 'carrier_UA',\n",
       " 'carrier_US',\n",
       " 'carrier_VX',\n",
       " 'carrier_WN',\n",
       " 'CRS_DEP_TIME']"
      ]
     },
     "execution_count": 8,
     "metadata": {},
     "output_type": "execute_result"
    }
   ],
   "source": [
    "features = [i for i in df.columns if 'carrier_' in i]\n",
    "features += ['CRS_DEP_TIME']\n",
    "features"
   ]
  },
  {
   "cell_type": "code",
   "execution_count": 9,
   "metadata": {},
   "outputs": [
    {
     "data": {
      "image/png": "[encoded data removed]",
      "text/plain": [
       "<matplotlib.figure.Figure at 0x113326fd0>"
      ]
     },
     "metadata": {},
     "output_type": "display_data"
    }
   ],
   "source": [
    "model = lm.LogisticRegression()\n",
    "model.fit(df[features], df['DEP_DEL15'])\n",
    "\n",
    "df['probability'] = model.predict_proba(df[features]).T[1]\n",
    "\n",
    "ax = plt.subplot(111)\n",
    "colors = ['blue', 'green', 'red', 'purple', 'orange']\n",
    "for e, c in enumerate(colors):\n",
    "    df[df[features[e]] == 1].plot(x='CRS_DEP_TIME', y='probability', kind='scatter', color=c, ax=ax)\n",
    "\n",
    "ax.set(title='Probability of Delay\\n Based on Carrier and Time of Day')\n",
    "\n",
    "plt.show()"
   ]
  },
  {
   "cell_type": "markdown",
   "metadata": {},
   "source": [
    "### Other Answers: visualizing the inverse"
   ]
  },
  {
   "cell_type": "code",
   "execution_count": 10,
   "metadata": {},
   "outputs": [
    {
     "data": {
      "image/png": "[encoded data removed]",
      "text/plain": [
       "<matplotlib.figure.Figure at 0x10db2f310>"
      ]
     },
     "metadata": {},
     "output_type": "display_data"
    }
   ],
   "source": [
    "model = lm.LogisticRegression()\n",
    "model.fit(df[features], df['DEP_DEL15'])\n",
    "\n",
    "df['probability'] = model.predict_proba(df[features]).T[0]\n",
    "\n",
    "ax = plt.subplot(111)\n",
    "colors = ['blue', 'green', 'red', 'purple', 'orange']\n",
    "for e, c in enumerate(colors):\n",
    "    df[df[features[e]] == 1].plot(x='CRS_DEP_TIME', y='probability', kind='scatter', color=c, ax=ax)\n",
    "\n",
    "ax.set(title='Probability of No Delay\\n Based on Carrier and Time of Day')\n",
    "\n",
    "plt.show()"
   ]
  },
  {
   "cell_type": "markdown",
   "metadata": {},
   "source": [
    "### _Section 10.3_\n",
    "```diff\n",
    "+ The following section provides an opportunity for the student to try visualizing the effect of our model against a baseline, which provides a 'standard' for us to compare our results against, and helps us track the progress of our results.\n",
    "```\n",
    "### Visualizing Performance Against Baseline\n",
    "#### Visualizing AUC and comparing Models"
   ]
  },
  {
   "cell_type": "markdown",
   "metadata": {},
   "source": [
    "_DummyClassifier_ is a classifier that makes predictions using simple rules.\n",
    "\n",
    "This classifier is useful as a simple baseline to compare with other (real) classifiers. _Do not_ use it for real problems!"
   ]
  },
  {
   "cell_type": "code",
   "execution_count": 11,
   "metadata": {},
   "outputs": [],
   "source": [
    "model0 = dummy.DummyClassifier()\n",
    "model0.fit(df[features], df['DEP_DEL15'])\n",
    "df['probability_0'] = model0.predict_proba(df[features]).T[1]\n",
    "\n",
    "model1 = lm.LogisticRegression()\n",
    "model.fit(df[features], df['DEP_DEL15'])\n",
    "df['probability_1'] = model.predict_proba(df[features]).T[1]"
   ]
  },
  {
   "cell_type": "code",
   "execution_count": 12,
   "metadata": {},
   "outputs": [
    {
     "data": {
      "text/plain": [
       "(458311, 40)"
      ]
     },
     "execution_count": 12,
     "metadata": {},
     "output_type": "execute_result"
    }
   ],
   "source": [
    "df.shape"
   ]
  },
  {
   "cell_type": "code",
   "execution_count": 13,
   "metadata": {},
   "outputs": [
    {
     "data": {
      "image/png": "[encoded data removed]",
      "text/plain": [
       "<matplotlib.figure.Figure at 0x10fe8b910>"
      ]
     },
     "metadata": {},
     "output_type": "display_data"
    }
   ],
   "source": [
    "ax = plt.subplot(111)\n",
    "vals = metrics.roc_curve(df.DEP_DEL15, df.probability_0)\n",
    "ax.plot(vals[0], vals[1])\n",
    "vals = metrics.roc_curve(df.DEP_DEL15, df.probability_1)\n",
    "ax.plot(vals[0], vals[1])\n",
    "\n",
    "ax.set(title='Area Under the Curve for prediction delayed=1', \n",
    "       xlabel='false positive rate', ylabel='true positive rate', xlim=(0, 1), ylim=(0, 1))\n",
    "\n",
    "plt.show()"
   ]
  },
  {
   "cell_type": "markdown",
   "metadata": {},
   "source": [
    "#### Visualizing Precision / Recall (with cleaner code)"
   ]
  },
  {
   "cell_type": "code",
   "execution_count": 14,
   "metadata": {},
   "outputs": [],
   "source": [
    "model0 = dummy.DummyClassifier()\n",
    "model0.fit(df[features[1:]], df.DEP_DEL15)\n",
    "df['probability_0'] = model0.predict_proba(df[features[1:]]).T[1]\n",
    "\n",
    "model = lm.LogisticRegression()\n",
    "model.fit(df[features[1:]], df.DEP_DEL15)\n",
    "df['probability_1'] = model.predict_proba(df[features[1:]]).T[1]"
   ]
  },
  {
   "cell_type": "code",
   "execution_count": 15,
   "metadata": {},
   "outputs": [
    {
     "data": {
      "image/png": "[encoded data removed]",
      "text/plain": [
       "<matplotlib.figure.Figure at 0x10ff8f150>"
      ]
     },
     "metadata": {},
     "output_type": "display_data"
    }
   ],
   "source": [
    "ax = plt.subplot(111)\n",
    "for i in range(2):\n",
    "    vals = metrics.precision_recall_curve(df.DEP_DEL15, df['probability_' + str(i)])\n",
    "    ax.plot(vals[1], vals[0])\n",
    "\n",
    "ax.set(title='Precision Recall Curve for prediction delayed=1', \n",
    "       xlabel='recall', ylabel='precision', xlim=(0, 1), ylim=(0, 1))\n",
    "\n",
    "plt.show()"
   ]
  },
  {
   "cell_type": "markdown",
   "metadata": {},
   "source": [
    "Above we can see that the logistic regression model outperforms the dummy classifier by obtaining a greater precision and recall overall."
   ]
  },
  {
   "cell_type": "markdown",
   "metadata": {},
   "source": [
    "### _Section 10.4_\n",
    "```diff\n",
    "+ The final section provides an opportunity for the student to try out a variety of methods learned over the last several class sessions.\n",
    "```\n",
    "### Project Practice"
   ]
  },
  {
   "cell_type": "code",
   "execution_count": 16,
   "metadata": {},
   "outputs": [
    {
     "name": "stdout",
     "output_type": "stream",
     "text": [
      "Optimization terminated successfully.\n",
      "         Current function value: 0.495591\n",
      "         Iterations 6\n",
      "                          Results: Logit\n",
      "==================================================================\n",
      "Model:              Logit            No. Iterations:   6.0000     \n",
      "Dependent Variable: DEP_DEL15        Pseudo R-squared: 0.005      \n",
      "Date:               2018-04-15 12:02 AIC:              454283.8328\n",
      "No. Observations:   458311           BIC:              454361.0799\n",
      "Df Model:           6                Log-Likelihood:   -2.2713e+05\n",
      "Df Residuals:       458304           LL-Null:          -2.2839e+05\n",
      "Converged:          1.0000           Scale:            1.0000     \n",
      "--------------------------------------------------------------------\n",
      "          Coef.    Std.Err.       z       P>|z|     [0.025    0.975]\n",
      "--------------------------------------------------------------------\n",
      "dow_1    -1.1734     0.0095   -123.8196   0.0000   -1.1920   -1.1549\n",
      "dow_2    -1.5269     0.0109   -139.9420   0.0000   -1.5482   -1.5055\n",
      "dow_3    -1.6599     0.0111   -150.0046   0.0000   -1.6816   -1.6382\n",
      "dow_4    -1.5551     0.0095   -163.2111   0.0000   -1.5738   -1.5364\n",
      "dow_5    -1.3789     0.0088   -156.3370   0.0000   -1.3962   -1.3616\n",
      "dow_6    -1.4174     0.0100   -141.3210   0.0000   -1.4371   -1.3977\n",
      "dow_7    -1.0978     0.0095   -115.1522   0.0000   -1.1165   -1.0792\n",
      "==================================================================\n",
      "\n"
     ]
    }
   ],
   "source": [
    "# Example: How to check the significance of individual variables\n",
    "features = [i for i in df.columns if 'dow_' in i]\n",
    "\n",
    "logit_model=sm.Logit(df['DEP_DEL15'],df[features]) \n",
    "result=logit_model.fit()\n",
    "print(result.summary2())"
   ]
  }
 ],
 "metadata": {
  "kernelspec": {
   "display_name": "Python 2",
   "language": "python",
   "name": "python2"
  },
  "language_info": {
   "codemirror_mode": {
    "name": "ipython",
    "version": 2
   },
   "file_extension": ".py",
   "mimetype": "text/x-python",
   "name": "python",
   "nbconvert_exporter": "python",
   "pygments_lexer": "ipython2",
   "version": "2.7.14"
  }
 },
 "nbformat": 4,
 "nbformat_minor": 1
}
