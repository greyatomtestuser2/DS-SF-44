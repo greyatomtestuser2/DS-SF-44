{
 "cells": [
  {
   "cell_type": "markdown",
   "metadata": {},
   "source": [
    "# Markdown\n",
    "\n",
    "In Jupyter notebooks (and on github) we can use Markdown syntax to make nice looking text, include links and images, render code and equations, and organize our presentations.\n",
    "\n",
    "When you make a new cell in jupyter by either:\n",
    "* Pressing the hotkey combo \"shift-enter\" to execute a tab\n",
    "* Selecting insert cell from the insert menu\n",
    "\n",
    "You'll notice that the default cell content-type is \"code\". To make a cell into a markdown cell, either:\n",
    "* Select \"Markdown\" from the drop-down menu above, or\n",
    "* Use the hotkey \"Ctrl-m\" and then press \"m\""
   ]
  },
  {
   "cell_type": "markdown",
   "metadata": {
    "collapsed": true
   },
   "source": [
    "# First exercise\n",
    "* Make this cell into a markdown cell\n",
    "* Run the cell using shift-enter"
   ]
  },
  {
   "cell_type": "markdown",
   "metadata": {},
   "source": [
    "## Hotkeys\n",
    "\n",
    "There are a ton of useful hotkeys in Jupyter. Pressing \"shift-m\" puts you into **command mode**. Pushing another key then usually does something useful. For example,\n",
    "* `shift-m` then `a` inserts a new cell above this one\n",
    "* `shift-m` then `b` inserts a new cell below\n",
    "\n",
    "You can find a list of hotkeys [here](https://sowingseasons.com/blog/reference/2016/01/jupyter-keyboard-shortcuts/23298516).\n",
    "\n",
    "Exercise: Practice by making at least one cell above this one and one cell below."
   ]
  },
  {
   "cell_type": "markdown",
   "metadata": {},
   "source": [
    "## Rendering Code and Equations in Markdown\n",
    "\n",
    "Enclosing text in backticks will render the text as code. For example, `y = a * x + b`\n",
    "renders code inline, and three backticks renders code as a block:\n",
    "```\n",
    "def my_function(x):\n",
    "    return x * x\n",
    "```\n",
    "\n",
    "If you include the language, Jupyter will color the code nicely:\n",
    "\n",
    "```python\n",
    "def my_function(x):\n",
    "    return x * x\n",
    "```\n",
    "\n",
    "If you happen to know about LaTeX, you can also render math equations using two dollar signs `$$`\n",
    "like so:\n",
    "\n",
    "$$ y = a x + b$$\n",
    "\n",
    "If the cell already rendered the equation, double-click somewhere in the cell to see the syntax."
   ]
  },
  {
   "cell_type": "markdown",
   "metadata": {},
   "source": [
    "## Making Links\n",
    "\n",
    "In Markdown we can link to other sites like so::\n",
    "`[link-name](link-URL)`, for example:\n",
    "[Google](www.google.com). Double-click on the cell to see the synatax.\n",
    "\n",
    "Exercise:\n",
    "* Insert a new cell below this one\n",
    "* Make a link to General Assembly's webpage\n",
    "* Make a link to our github repository"
   ]
  },
  {
   "cell_type": "markdown",
   "metadata": {},
   "source": [
    "## Embedding Images\n",
    "\n",
    "We can also embed images. This is a famous visualization of Napolean's failed invasion of Russia.\n",
    "\n",
    "![Napolean's Invasion](https://upload.wikimedia.org/wikipedia/commons/2/29/Minard.png)\n",
    "\n",
    "In a new cell, insert an image of your favorite sports team's logo, your favorite animal, or "
   ]
  },
  {
   "cell_type": "markdown",
   "metadata": {},
   "source": [
    "## More Markdown\n",
    "\n",
    "As data scientists we're often expected to read documentation and apply \n",
    "\n",
    "Here's a good list of [markdown commands](https://github.com/adam-p/markdown-here/wiki/Markdown-Cheatsheet). Take a look and then complete the following exercises.\n",
    "* Make three different level headers\n",
    "* Make an ordered list of the data science workflow (seven items!)\n",
    "* Embed the data science workflow image in a new cell (you can find the image on our github page)\n",
    "* Use markdown to make one word in the following sentence bold, one italic, and one strike-through:\n",
    "\n",
    "\n",
    "> The quick brown fox jumps over the lazy dog."
   ]
  },
  {
   "cell_type": "markdown",
   "metadata": {
    "collapsed": true
   },
   "source": [
    "## My awesome list\n",
    "\n",
    "1. First item\n",
    "2. Second item\n",
    "    * sub item\n",
    "3. \n",
    "    \n",
    "\n",
    "$\\alpha$\n",
    "\n",
    "$$ \\int_E {f(e) \\, dE}$$\n"
   ]
  },
  {
   "cell_type": "markdown",
   "metadata": {
    "collapsed": true
   },
   "source": [
    "The *quick* brown **fox** jumps over the ~~lazy~~ dog."
   ]
  },
  {
   "cell_type": "markdown",
   "metadata": {},
   "source": [
    "Now that we've learned a bit about markdown, try to get into the habit of using markdown to explain and break up your code. This is a good habit because it:\n",
    "* Keeps your code organized\n",
    "* Makes it easier to follow your logic when you present or share\n",
    "* Makes it easier for you to recall your intentions later"
   ]
  }
 ],
 "metadata": {
  "kernelspec": {
   "display_name": "Python 2",
   "language": "python",
   "name": "python2"
  },
  "language_info": {
   "codemirror_mode": {
    "name": "ipython",
    "version": 2
   },
   "file_extension": ".py",
   "mimetype": "text/x-python",
   "name": "python",
   "nbconvert_exporter": "python",
   "pygments_lexer": "ipython2",
   "version": "2.7.14"
  }
 },
 "nbformat": 4,
 "nbformat_minor": 1
}
