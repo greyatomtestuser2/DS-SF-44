{
 "cells": [
  {
   "cell_type": "markdown",
   "metadata": {},
   "source": [
    "## _Section 8.1_\n",
    "```diff\n",
    "+ The following section provides an opportunity for the student to create a classifier model from scratch, and then modify it to improve performance.\n",
    "```"
   ]
  },
  {
   "cell_type": "code",
   "execution_count": 1,
   "metadata": {},
   "outputs": [
    {
     "name": "stderr",
     "output_type": "stream",
     "text": [
      "/Users/dat-44pt/anaconda2/lib/python2.7/site-packages/sklearn/cross_validation.py:41: DeprecationWarning: This module was deprecated in version 0.18 in favor of the model_selection module into which all the refactored classes and functions are moved. Also note that the interface of the new CV iterators are different from that of this module. This module will be removed in 0.20.\n",
      "  \"This module will be removed in 0.20.\", DeprecationWarning)\n",
      "/Users/dat-44pt/anaconda2/lib/python2.7/site-packages/sklearn/grid_search.py:42: DeprecationWarning: This module was deprecated in version 0.18 in favor of the model_selection module into which all the refactored classes and functions are moved. This module will be removed in 0.20.\n",
      "  DeprecationWarning)\n"
     ]
    }
   ],
   "source": [
    "from sklearn import datasets, neighbors, metrics, grid_search, cross_validation\n",
    "import pandas as pd\n",
    "import seaborn as sns\n",
    "import matplotlib.pyplot as plt\n",
    "\n",
    "%matplotlib inline"
   ]
  },
  {
   "cell_type": "code",
   "execution_count": 2,
   "metadata": {},
   "outputs": [
    {
     "name": "stdout",
     "output_type": "stream",
     "text": [
      "       sepal length (cm)  sepal width (cm)  petal length (cm)  \\\n",
      "count         150.000000        150.000000         150.000000   \n",
      "mean            5.843333          3.054000           3.758667   \n",
      "std             0.828066          0.433594           1.764420   \n",
      "min             4.300000          2.000000           1.000000   \n",
      "25%             5.100000          2.800000           1.600000   \n",
      "50%             5.800000          3.000000           4.350000   \n",
      "75%             6.400000          3.300000           5.100000   \n",
      "max             7.900000          4.400000           6.900000   \n",
      "\n",
      "       petal width (cm)      target  \n",
      "count        150.000000  150.000000  \n",
      "mean           1.198667    1.000000  \n",
      "std            0.763161    0.819232  \n",
      "min            0.100000    0.000000  \n",
      "25%            0.300000    0.000000  \n",
      "50%            1.300000    1.000000  \n",
      "75%            1.800000    2.000000  \n",
      "max            2.500000    2.000000  \n"
     ]
    },
    {
     "data": {
      "image/png": "[encoded data removed]",
      "text/plain": [
       "<matplotlib.figure.Figure at 0x10c6bb2d0>"
      ]
     },
     "metadata": {},
     "output_type": "display_data"
    }
   ],
   "source": [
    "iris = datasets.load_iris()\n",
    "irisdf = pd.DataFrame(iris.data, columns=iris.feature_names)\n",
    "irisdf['target'] = iris.target\n",
    "cmap = {0:'r', 1:'g', 2:'b' }\n",
    "irisdf['ctarget'] = irisdf.target.apply(lambda x: cmap[x])\n",
    "irisdf.plot('petal length (cm)', 'petal width (cm)', kind='scatter', c=irisdf.ctarget)\n",
    "print(irisdf.describe())\n",
    "\n",
    "def my_classifier(row):\n",
    "    if row['petal length (cm)'] < 2:\n",
    "        return 0\n",
    "    else:\n",
    "        return 1\n",
    "\n",
    "predictions = irisdf.apply(my_classifier, axis=1)"
   ]
  },
  {
   "cell_type": "code",
   "execution_count": 3,
   "metadata": {},
   "outputs": [
    {
     "name": "stdout",
     "output_type": "stream",
     "text": [
      "0.666666666667\n"
     ]
    }
   ],
   "source": [
    "irisdf['predictions'] = predictions\n",
    "\n",
    "print(float(len(irisdf[irisdf.target == irisdf.predictions])) / len(irisdf))\n"
   ]
  },
  {
   "cell_type": "markdown",
   "metadata": {},
   "source": [
    "### More specific solution\n",
    "\n",
    "For the class, this solution is as simple it really needs to be in order to get a very good prediction score. But: Why, or when, does this fail? What attributes make this a great data set for learning classification algorithms? What makes it not as great?"
   ]
  },
  {
   "cell_type": "code",
   "execution_count": 4,
   "metadata": {},
   "outputs": [
    {
     "name": "stdout",
     "output_type": "stream",
     "text": [
      "0.946666666667\n"
     ]
    }
   ],
   "source": [
    "def my_classifier(row):\n",
    "    if row['petal length (cm)'] < 2:\n",
    "        return 0\n",
    "    elif row['petal length (cm)'] < 5:\n",
    "        return 1\n",
    "    else:\n",
    "        return 2\n",
    "\n",
    "predictions = irisdf.apply(my_classifier, axis=1)\n",
    "\n",
    "irisdf['predictions'] = predictions\n",
    "\n",
    "print(float(len(irisdf[irisdf.target == irisdf.predictions])) / len(irisdf))\n"
   ]
  },
  {
   "cell_type": "markdown",
   "metadata": {},
   "source": [
    "## _Section 8.2_\n",
    "### Using distance: KNN implementation\n",
    "\n",
    "```diff\n",
    "+ The following section provides an opportunity for the student to implement an existing sklearn model - KNN, and then try adjusting its parameters.\n",
    "```"
   ]
  },
  {
   "cell_type": "code",
   "execution_count": 5,
   "metadata": {},
   "outputs": [
    {
     "name": "stdout",
     "output_type": "stream",
     "text": [
      "[1 2 1 2 0 1 2 1 2 0 1 2 0 0 0 0 1 2 2 1 2 2 1 2 0 0 2 2 0 1 1 1 1 2 0 0 1\n",
      " 0 0 2 1 1 2 0 0]\n",
      "[1 2 2 2 0 1 2 1 2 0 1 2 0 0 0 0 1 2 1 1 1 2 1 2 0 0 2 2 0 1 1 1 1 2 0 0 1\n",
      " 0 0 2 1 1 2 0 0]\n",
      "0.9333333333333333\n"
     ]
    }
   ],
   "source": [
    "iris = datasets.load_iris()\n",
    "x_train,x_test,y_train,y_test = cross_validation.train_test_split(iris.data,iris.target,test_size=0.3)\n",
    "\n",
    "# n_neighbors is our option in KNN. We'll tune this value to attempt to improve our prediction.\n",
    "knn = neighbors.KNeighborsClassifier(n_neighbors=5, weights='uniform')\n",
    "\n",
    "knn.fit(x_train, y_train)\n",
    "print(knn.predict(x_test))\n",
    "print(y_test)\n",
    "\n",
    "print(knn.score(x_test, y_test))\n"
   ]
  },
  {
   "cell_type": "markdown",
   "metadata": {},
   "source": [
    "Do we see a change in performance with using the distance weight?"
   ]
  },
  {
   "cell_type": "code",
   "execution_count": 6,
   "metadata": {},
   "outputs": [
    {
     "name": "stdout",
     "output_type": "stream",
     "text": [
      "[1 2 1 2 0 1 2 1 2 0 1 2 0 0 0 0 1 2 2 1 2 2 1 2 0 0 2 2 0 1 1 1 1 2 0 0 1\n",
      " 0 0 2 1 1 2 0 0]\n",
      "[1 2 2 2 0 1 2 1 2 0 1 2 0 0 0 0 1 2 1 1 1 2 1 2 0 0 2 2 0 1 1 1 1 2 0 0 1\n",
      " 0 0 2 1 1 2 0 0]\n",
      "0.9333333333333333\n"
     ]
    }
   ],
   "source": [
    "knn = neighbors.KNeighborsClassifier(n_neighbors=5, weights='distance')\n",
    "knn.fit(x_train, y_train)\n",
    "print(knn.predict(x_test))\n",
    "print(y_test)\n",
    "\n",
    "print(knn.score(x_test, y_test))"
   ]
  },
  {
   "cell_type": "markdown",
   "metadata": {},
   "source": [
    "## _Section 8.3_\n",
    "### Solution to solving K\n",
    "```diff\n",
    "+ The following section provides an opportunity for the student to implement grid search (a central theme from the previous class) in order to find the optimal value for k, given this particular data set. The focus should be on plotting the output of the grid search example shown.\n",
    "```\n",
    "This is only one approach to the problem, but adding in the 'distance' parameter (instead of uniform) would only be additive; note that the code would need some editing to handle it properly if done in the grid search; alternatively, make the change directly in the estimator."
   ]
  },
  {
   "cell_type": "code",
   "execution_count": 7,
   "metadata": {},
   "outputs": [
    {
     "data": {
      "text/plain": [
       "[mean: 0.90667, std: 0.09752, params: {'n_neighbors': 2},\n",
       " mean: 0.90667, std: 0.09286, params: {'n_neighbors': 3},\n",
       " mean: 0.90667, std: 0.09286, params: {'n_neighbors': 4},\n",
       " mean: 0.91333, std: 0.08327, params: {'n_neighbors': 5},\n",
       " mean: 0.90667, std: 0.09286, params: {'n_neighbors': 6},\n",
       " mean: 0.92000, std: 0.08589, params: {'n_neighbors': 7},\n",
       " mean: 0.91333, std: 0.08844, params: {'n_neighbors': 8},\n",
       " mean: 0.92000, std: 0.09092, params: {'n_neighbors': 9},\n",
       " mean: 0.92000, std: 0.09092, params: {'n_neighbors': 10},\n",
       " mean: 0.91333, std: 0.08589, params: {'n_neighbors': 11},\n",
       " mean: 0.89333, std: 0.10625, params: {'n_neighbors': 12},\n",
       " mean: 0.90667, std: 0.08273, params: {'n_neighbors': 13},\n",
       " mean: 0.90000, std: 0.09428, params: {'n_neighbors': 14},\n",
       " mean: 0.90000, std: 0.09428, params: {'n_neighbors': 15},\n",
       " mean: 0.88667, std: 0.11851, params: {'n_neighbors': 16},\n",
       " mean: 0.88000, std: 0.12754, params: {'n_neighbors': 17},\n",
       " mean: 0.86667, std: 0.12111, params: {'n_neighbors': 18},\n",
       " mean: 0.88667, std: 0.11662, params: {'n_neighbors': 19},\n",
       " mean: 0.86667, std: 0.13499, params: {'n_neighbors': 20},\n",
       " mean: 0.86667, std: 0.13499, params: {'n_neighbors': 21},\n",
       " mean: 0.86667, std: 0.13499, params: {'n_neighbors': 22},\n",
       " mean: 0.86667, std: 0.13499, params: {'n_neighbors': 23},\n",
       " mean: 0.84667, std: 0.17075, params: {'n_neighbors': 24},\n",
       " mean: 0.86000, std: 0.14667, params: {'n_neighbors': 25},\n",
       " mean: 0.84667, std: 0.17075, params: {'n_neighbors': 26},\n",
       " mean: 0.84667, std: 0.15434, params: {'n_neighbors': 27},\n",
       " mean: 0.82000, std: 0.18809, params: {'n_neighbors': 28},\n",
       " mean: 0.80000, std: 0.19437, params: {'n_neighbors': 29},\n",
       " mean: 0.78667, std: 0.21250, params: {'n_neighbors': 30},\n",
       " mean: 0.77333, std: 0.21848, params: {'n_neighbors': 31},\n",
       " mean: 0.74000, std: 0.27520, params: {'n_neighbors': 32},\n",
       " mean: 0.75333, std: 0.26043, params: {'n_neighbors': 33},\n",
       " mean: 0.72000, std: 0.30155, params: {'n_neighbors': 34},\n",
       " mean: 0.69333, std: 0.31510, params: {'n_neighbors': 35},\n",
       " mean: 0.68000, std: 0.33506, params: {'n_neighbors': 36},\n",
       " mean: 0.68667, std: 0.30955, params: {'n_neighbors': 37},\n",
       " mean: 0.64000, std: 0.38320, params: {'n_neighbors': 38},\n",
       " mean: 0.64000, std: 0.38320, params: {'n_neighbors': 39},\n",
       " mean: 0.64000, std: 0.38320, params: {'n_neighbors': 40},\n",
       " mean: 0.38667, std: 0.42248, params: {'n_neighbors': 41},\n",
       " mean: 0.37333, std: 0.43123, params: {'n_neighbors': 42},\n",
       " mean: 0.37333, std: 0.43123, params: {'n_neighbors': 43},\n",
       " mean: 0.37333, std: 0.43123, params: {'n_neighbors': 44},\n",
       " mean: 0.37333, std: 0.43123, params: {'n_neighbors': 45},\n",
       " mean: 0.37333, std: 0.43123, params: {'n_neighbors': 46},\n",
       " mean: 0.37333, std: 0.43123, params: {'n_neighbors': 47},\n",
       " mean: 0.36000, std: 0.41655, params: {'n_neighbors': 48},\n",
       " mean: 0.36000, std: 0.41655, params: {'n_neighbors': 49},\n",
       " mean: 0.36000, std: 0.41655, params: {'n_neighbors': 50},\n",
       " mean: 0.36000, std: 0.42864, params: {'n_neighbors': 51},\n",
       " mean: 0.34667, std: 0.42667, params: {'n_neighbors': 52},\n",
       " mean: 0.34667, std: 0.42667, params: {'n_neighbors': 53},\n",
       " mean: 0.33333, std: 0.41312, params: {'n_neighbors': 54},\n",
       " mean: 0.34667, std: 0.42667, params: {'n_neighbors': 55},\n",
       " mean: 0.32000, std: 0.40089, params: {'n_neighbors': 56},\n",
       " mean: 0.32667, std: 0.40683, params: {'n_neighbors': 57},\n",
       " mean: 0.32000, std: 0.40089, params: {'n_neighbors': 58},\n",
       " mean: 0.32667, std: 0.40683, params: {'n_neighbors': 59},\n",
       " mean: 0.24667, std: 0.36246, params: {'n_neighbors': 60},\n",
       " mean: 0.20667, std: 0.28783, params: {'n_neighbors': 61},\n",
       " mean: 0.10667, std: 0.13233, params: {'n_neighbors': 62},\n",
       " mean: 0.10667, std: 0.13233, params: {'n_neighbors': 63},\n",
       " mean: 0.10667, std: 0.13233, params: {'n_neighbors': 64},\n",
       " mean: 0.10667, std: 0.13233, params: {'n_neighbors': 65},\n",
       " mean: 0.10667, std: 0.13233, params: {'n_neighbors': 66},\n",
       " mean: 0.10667, std: 0.13233, params: {'n_neighbors': 67},\n",
       " mean: 0.10667, std: 0.13233, params: {'n_neighbors': 68},\n",
       " mean: 0.10667, std: 0.13233, params: {'n_neighbors': 69},\n",
       " mean: 0.10667, std: 0.13233, params: {'n_neighbors': 70},\n",
       " mean: 0.10667, std: 0.13233, params: {'n_neighbors': 71},\n",
       " mean: 0.10667, std: 0.13233, params: {'n_neighbors': 72},\n",
       " mean: 0.10667, std: 0.13233, params: {'n_neighbors': 73},\n",
       " mean: 0.10667, std: 0.13233, params: {'n_neighbors': 74},\n",
       " mean: 0.08667, std: 0.11851, params: {'n_neighbors': 75},\n",
       " mean: 0.08667, std: 0.11851, params: {'n_neighbors': 76},\n",
       " mean: 0.08667, std: 0.11851, params: {'n_neighbors': 77},\n",
       " mean: 0.08667, std: 0.11851, params: {'n_neighbors': 78},\n",
       " mean: 0.08667, std: 0.11851, params: {'n_neighbors': 79},\n",
       " mean: 0.08667, std: 0.11851, params: {'n_neighbors': 80},\n",
       " mean: 0.07333, std: 0.10414, params: {'n_neighbors': 81},\n",
       " mean: 0.07333, std: 0.10414, params: {'n_neighbors': 82},\n",
       " mean: 0.07333, std: 0.10414, params: {'n_neighbors': 83},\n",
       " mean: 0.07333, std: 0.10414, params: {'n_neighbors': 84},\n",
       " mean: 0.06667, std: 0.10328, params: {'n_neighbors': 85},\n",
       " mean: 0.06667, std: 0.10328, params: {'n_neighbors': 86},\n",
       " mean: 0.06667, std: 0.10328, params: {'n_neighbors': 87},\n",
       " mean: 0.06667, std: 0.10328, params: {'n_neighbors': 88},\n",
       " mean: 0.06667, std: 0.10328, params: {'n_neighbors': 89},\n",
       " mean: 0.06667, std: 0.10328, params: {'n_neighbors': 90},\n",
       " mean: 0.06667, std: 0.10328, params: {'n_neighbors': 91},\n",
       " mean: 0.06667, std: 0.10328, params: {'n_neighbors': 92},\n",
       " mean: 0.06667, std: 0.10328, params: {'n_neighbors': 93},\n",
       " mean: 0.06667, std: 0.10328, params: {'n_neighbors': 94},\n",
       " mean: 0.06667, std: 0.10328, params: {'n_neighbors': 95},\n",
       " mean: 0.06667, std: 0.10328, params: {'n_neighbors': 96},\n",
       " mean: 0.06667, std: 0.10328, params: {'n_neighbors': 97},\n",
       " mean: 0.06667, std: 0.10328, params: {'n_neighbors': 98},\n",
       " mean: 0.06667, std: 0.10328, params: {'n_neighbors': 99}]"
      ]
     },
     "execution_count": 7,
     "metadata": {},
     "output_type": "execute_result"
    }
   ],
   "source": [
    "# Recall: what's an effective way to create a numerical list in python?\n",
    "\n",
    "k = range(2, 100)\n",
    "params = { 'n_neighbors': k }\n",
    "kf = cross_validation.KFold(len(irisdf), n_folds = 5)\n",
    "gs = grid_search.GridSearchCV(\n",
    "    estimator=neighbors.KNeighborsClassifier(),\n",
    "    param_grid=params,\n",
    "    cv=kf\n",
    ")\n",
    "gs.fit(iris.data, iris.target)\n",
    "gs.grid_scores_\n"
   ]
  },
  {
   "cell_type": "code",
   "execution_count": 8,
   "metadata": {},
   "outputs": [
    {
     "data": {
      "image/png": "[encoded data removed]",
      "text/plain": [
       "<matplotlib.figure.Figure at 0x114939750>"
      ]
     },
     "metadata": {},
     "output_type": "display_data"
    }
   ],
   "source": [
    "plt.plot(k,[s[1] for s in gs.grid_scores_],)\n",
    "plt.xlabel('k')\n",
    "plt.ylabel('scores')\n",
    "plt.show()\n"
   ]
  },
  {
   "cell_type": "markdown",
   "metadata": {},
   "source": [
    "Zoom in to look at fit before first dive around 25:"
   ]
  },
  {
   "cell_type": "code",
   "execution_count": 9,
   "metadata": {},
   "outputs": [
    {
     "data": {
      "image/png": "[encoded data removed]",
      "text/plain": [
       "<matplotlib.figure.Figure at 0x114939ad0>"
      ]
     },
     "metadata": {},
     "output_type": "display_data"
    }
   ],
   "source": [
    "plt.plot(k[:25],[s[1] for s in gs.grid_scores_][:25],)\n",
    "plt.xlabel('k')\n",
    "plt.ylabel('scores')\n",
    "plt.show()\n"
   ]
  },
  {
   "cell_type": "code",
   "execution_count": null,
   "metadata": {},
   "outputs": [],
   "source": []
  }
 ],
 "metadata": {
  "kernelspec": {
   "display_name": "Python 3",
   "language": "python",
   "name": "python3"
  },
  "language_info": {
   "codemirror_mode": {
    "name": "ipython",
    "version": 2
   },
   "file_extension": ".py",
   "mimetype": "text/x-python",
   "name": "python",
   "nbconvert_exporter": "python",
   "pygments_lexer": "ipython2",
   "version": "2.7.14"
  }
 },
 "nbformat": 4,
 "nbformat_minor": 1
}
