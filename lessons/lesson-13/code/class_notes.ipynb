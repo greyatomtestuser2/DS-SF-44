{
 "cells": [
  {
   "cell_type": "markdown",
   "metadata": {},
   "source": [
    "#### String Formatting\n",
    "([source](https://www.learnpython.org/en/String_Formatting))\n",
    "\n",
    "Python uses C-style string formatting to create new, formatted strings. The \"%\" operator is used to format a set of variables enclosed in a \"tuple\" (a fixed size list), together with a format string, which contains normal text together with \"argument specifiers\", special symbols like \"%s\" and \"%d\".\n",
    "\n",
    "Let's say you have a variable called \"name\" with your user name in it, and you would then like to print(out a greeting to that user.)"
   ]
  },
  {
   "cell_type": "code",
   "execution_count": 3,
   "metadata": {},
   "outputs": [
    {
     "name": "stdout",
     "output_type": "stream",
     "text": [
      "Hello, John!\n"
     ]
    }
   ],
   "source": [
    "# This prints out \"Hello, John!\"\n",
    "name = \"John\"\n",
    "print(\"Hello, %s!\" % name)"
   ]
  },
  {
   "cell_type": "markdown",
   "metadata": {},
   "source": [
    "To use two or more argument specifiers, use a tuple (parentheses):"
   ]
  },
  {
   "cell_type": "code",
   "execution_count": 4,
   "metadata": {},
   "outputs": [
    {
     "name": "stdout",
     "output_type": "stream",
     "text": [
      "John is 23 years old.\n"
     ]
    }
   ],
   "source": [
    "# This prints out \"John is 23 years old.\"\n",
    "name = \"John\"\n",
    "age = 23\n",
    "print(\"%s is %d years old.\" % (name, age))"
   ]
  },
  {
   "cell_type": "markdown",
   "metadata": {},
   "source": [
    "Any object which is not a string can be formatted using the %s operator as well. The string which returns from the \"repr\" method of that object is formatted as the string. For example:"
   ]
  },
  {
   "cell_type": "code",
   "execution_count": 5,
   "metadata": {},
   "outputs": [
    {
     "name": "stdout",
     "output_type": "stream",
     "text": [
      "A list: [1, 2, 3]\n"
     ]
    }
   ],
   "source": [
    "# This prints out: A list: [1, 2, 3]\n",
    "mylist = [1,2,3]\n",
    "print(\"A list: %s\" % mylist)"
   ]
  },
  {
   "cell_type": "markdown",
   "metadata": {},
   "source": [
    "Here are some basic argument specifiers you should know:\n",
    "\n",
    "%s - String (or any object with a string representation, like numbers)\n",
    "\n",
    "%d - Integers\n",
    "\n",
    "%f - Floating point numbers\n",
    "\n",
    "%.<number of digits>f - Floating point numbers with a fixed amount of digits to the right of the dot.\n",
    "\n",
    "%x/%X - Integers in hex representation (lowercase/uppercase)"
   ]
  }
 ],
 "metadata": {
  "kernelspec": {
   "display_name": "Python 2",
   "language": "python",
   "name": "python2"
  },
  "language_info": {
   "codemirror_mode": {
    "name": "ipython",
    "version": 2
   },
   "file_extension": ".py",
   "mimetype": "text/x-python",
   "name": "python",
   "nbconvert_exporter": "python",
   "pygments_lexer": "ipython2",
   "version": "2.7.14"
  }
 },
 "nbformat": 4,
 "nbformat_minor": 2
}
