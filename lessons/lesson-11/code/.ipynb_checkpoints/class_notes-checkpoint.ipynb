{
 "cells": [
  {
   "cell_type": "markdown",
   "metadata": {},
   "source": [
    "## Integer/float division in Python "
   ]
  },
  {
   "cell_type": "markdown",
   "metadata": {},
   "source": [
    "#### Using \"/\" for integers"
   ]
  },
  {
   "cell_type": "code",
   "execution_count": 1,
   "metadata": {},
   "outputs": [
    {
     "name": "stdout",
     "output_type": "stream",
     "text": [
      "2\n",
      "-3\n"
     ]
    }
   ],
   "source": [
    "print(5/2)\n",
    "print(-5/2)"
   ]
  },
  {
   "cell_type": "markdown",
   "metadata": {},
   "source": [
    "#### Using \"/\" for floating point numbers"
   ]
  },
  {
   "cell_type": "code",
   "execution_count": 2,
   "metadata": {},
   "outputs": [
    {
     "name": "stdout",
     "output_type": "stream",
     "text": [
      "2.5\n",
      "-2.5\n"
     ]
    }
   ],
   "source": [
    "print(5.0/2)\n",
    "print(-5.0/2)"
   ]
  },
  {
   "cell_type": "markdown",
   "metadata": {},
   "source": [
    "#### Using floor division operator: “//”"
   ]
  },
  {
   "cell_type": "code",
   "execution_count": 3,
   "metadata": {},
   "outputs": [
    {
     "name": "stdout",
     "output_type": "stream",
     "text": [
      "2\n",
      "-3\n",
      "2.0\n",
      "-3.0\n"
     ]
    }
   ],
   "source": [
    "print(5//2)\n",
    "print(-5//2)\n",
    "print(5.0//2)\n",
    "print(-5.0//2)"
   ]
  },
  {
   "cell_type": "markdown",
   "metadata": {},
   "source": [
    "## Question: How to use Pandas Pivot Tables\n",
    "- see [pandas_pivot.ipynb](./extra/pandas_pivot.ipynb)"
   ]
  },
  {
   "cell_type": "markdown",
   "metadata": {},
   "source": [
    "## Question: What are the different types of cross validations we've covered and examples of use cases/how-to’s? \n",
    "- **K-fold**: the most popular method, much faster than exhaustive search\n",
    "- **LOO**: maximizes the statistical strength of your sample, computationally-intensive"
   ]
  },
  {
   "cell_type": "markdown",
   "metadata": {},
   "source": [
    "## Background: Resampling vs. Hyperparameter Optimization\n",
    "\n",
    "**Resampling**: validating models by using random subsets\n",
    "\n",
    "- **Bootstrapping**: any test or metric that relies on random sampling with replacement\n",
    "allows assigning measures of accuracy to sample estimates\n",
    "\n",
    "- **Cross validation**: assess how accurately a predictive model will perform in practice\n",
    "\n",
    "**Hyperparameter optimization**: find hyperparameters (e.g. regularization) that yield an optimal model which minimizes a predefined loss function on testing data\n",
    "\n",
    "- **Gridsearch**: an exhaustive searching through a manually specified subset of the hyperparameter space of a learning algorithm\n",
    "    - Manually tests cartesian product of all parameters\n",
    "\n",
    "- **Gradient-based**: compute the gradient with respect to hyperparameters and then optimize using gradient descent\n",
    "\n",
    "- **Cross-validation**: can be used to iteratively search single-parameter space\n",
    "    - But can also estimate the generalization of performance (resampling)"
   ]
  },
  {
   "cell_type": "markdown",
   "metadata": {},
   "source": [
    "## Background continued: Cross validation types\n",
    "\n",
    "**Non-exhaustive** cross-validation: do not compute all ways of splitting the original sample\n",
    "\n",
    "- E.g. **K-fold** cross-validation: the original sample is randomly partitioned into k equal sized subsamples\n",
    "\n",
    "**Exhaustive** cross-validation: learn and test on all possible ways to divide the original sample into a training and a validation set\n",
    "\n",
    "- E.g. **Leave-one-out** cross-validation (**LOO**): 1 observation is used as the validation set and the remaining observations as the training set\n",
    "    - This is repeated _n_ times"
   ]
  },
  {
   "cell_type": "markdown",
   "metadata": {},
   "source": [
    "#### Example 1: K-fold cross validation where k=5 folds"
   ]
  },
  {
   "cell_type": "code",
   "execution_count": 4,
   "metadata": {},
   "outputs": [
    {
     "name": "stderr",
     "output_type": "stream",
     "text": [
      "/Users/dat-44pt/anaconda2/lib/python2.7/site-packages/sklearn/cross_validation.py:41: DeprecationWarning: This module was deprecated in version 0.18 in favor of the model_selection module into which all the refactored classes and functions are moved. Also note that the interface of the new CV iterators are different from that of this module. This module will be removed in 0.20.\n",
      "  \"This module will be removed in 0.20.\", DeprecationWarning)\n"
     ]
    }
   ],
   "source": [
    "# Load packages\n",
    "import timeit\n",
    "import numpy as np\n",
    "import pandas as pd\n",
    "from sklearn import linear_model, metrics, cross_validation\n",
    "import matplotlib.pyplot as plt\n",
    "\n",
    "%matplotlib inline\n",
    "\n",
    "# Load data\n",
    "wd = './datasets/'\n",
    "bikeshare = pd.read_csv(wd + 'bikeshare.csv')\n",
    "\n",
    "weather = pd.get_dummies(bikeshare.weathersit, prefix='weather')\n",
    "modeldata = bikeshare[['temp', 'hum']].join(weather[['weather_1', 'weather_2', 'weather_3']])\n",
    "y = bikeshare.casual\n",
    "\n",
    "# Subset data\n",
    "modeldata = modeldata.iloc[:1000]\n",
    "y = y.iloc[:1000]"
   ]
  },
  {
   "cell_type": "code",
   "execution_count": 5,
   "metadata": {},
   "outputs": [
    {
     "name": "stdout",
     "output_type": "stream",
     "text": [
      "~~~~ CROSS VALIDATION each fold ~~~~\n",
      "('Model', 1)\n",
      "('MSE:', 28.27620266309812)\n",
      "('Model', 2)\n",
      "('MSE:', 47.35493495124778)\n",
      "('Model', 3)\n",
      "('MSE:', 52.65685958976694)\n",
      "('Model', 4)\n",
      "('MSE:', 40.61401109376968)\n",
      "('Model', 5)\n",
      "('MSE:', 35.374175824447)\n",
      "~~~~ SUMMARY OF CROSS VALIDATION ~~~~\n",
      "('Mean of MSE for all folds:', 40.855236824465905)\n"
     ]
    },
    {
     "data": {
      "text/plain": [
       "0.34891295433044434"
      ]
     },
     "execution_count": 5,
     "metadata": {},
     "output_type": "execute_result"
    }
   ],
   "source": [
    "def kfold_example():\n",
    "    kf = cross_validation.KFold(len(modeldata), n_folds=5, shuffle=True)\n",
    "\n",
    "    mse_values = []\n",
    "    scores = []\n",
    "    n= 0\n",
    "    print(\"~~~~ CROSS VALIDATION each fold ~~~~\")\n",
    "    for train_index, test_index in kf:\n",
    "        lm = linear_model.LinearRegression().fit(modeldata.iloc[train_index], y.iloc[train_index])\n",
    "        mse_values.append(metrics.mean_squared_error(y.iloc[test_index], lm.predict(modeldata.iloc[test_index])))\n",
    "        scores.append(lm.score(modeldata, y))\n",
    "        n += 1\n",
    "        print('Model', n)\n",
    "        print('MSE:', mse_values[n-1])\n",
    "\n",
    "    print(\"~~~~ SUMMARY OF CROSS VALIDATION ~~~~\")\n",
    "    print('Mean of MSE for all folds:', np.mean(mse_values))\n",
    "    \n",
    "timeit.timeit(kfold_example, number=1)"
   ]
  },
  {
   "cell_type": "markdown",
   "metadata": {},
   "source": [
    "#### Example 2: LOO cross validation"
   ]
  },
  {
   "cell_type": "code",
   "execution_count": 6,
   "metadata": {},
   "outputs": [
    {
     "name": "stdout",
     "output_type": "stream",
     "text": [
      "~~~~ SUMMARY OF CROSS VALIDATION ~~~~\n",
      "('Mean of MSE for all folds:', 40.77255321693947)\n"
     ]
    },
    {
     "data": {
      "text/plain": [
       "6.128749132156372"
      ]
     },
     "execution_count": 6,
     "metadata": {},
     "output_type": "execute_result"
    }
   ],
   "source": [
    "def loo_example():\n",
    "    kf = cross_validation.KFold(len(modeldata), n_folds=len(modeldata), shuffle=False)\n",
    "\n",
    "    mse_values = []\n",
    "    scores = []\n",
    "\n",
    "    for train_index, test_index in kf:\n",
    "        lm = linear_model.LinearRegression().fit(modeldata.iloc[train_index], y.iloc[train_index])\n",
    "        mse_values.append(metrics.mean_squared_error(y.iloc[test_index], lm.predict(modeldata.iloc[test_index])))\n",
    "        scores.append(lm.score(modeldata, y))\n",
    "\n",
    "    print(\"~~~~ SUMMARY OF CROSS VALIDATION ~~~~\")\n",
    "    print('Mean of MSE for all folds:', np.mean(mse_values))\n",
    "\n",
    "timeit.timeit(loo_example, number=1)"
   ]
  },
  {
   "cell_type": "markdown",
   "metadata": {},
   "source": [
    "## Question: How do we use grid search?"
   ]
  },
  {
   "cell_type": "code",
   "execution_count": 7,
   "metadata": {},
   "outputs": [
    {
     "name": "stderr",
     "output_type": "stream",
     "text": [
      "/Users/dat-44pt/anaconda2/lib/python2.7/site-packages/sklearn/grid_search.py:42: DeprecationWarning: This module was deprecated in version 0.18 in favor of the model_selection module into which all the refactored classes and functions are moved. This module will be removed in 0.20.\n",
      "  DeprecationWarning)\n"
     ]
    },
    {
     "name": "stdout",
     "output_type": "stream",
     "text": [
      "{'alpha': array([-2.5       , -2.39795918, -2.29591837, -2.19387755, -2.09183673,\n",
      "       -1.98979592, -1.8877551 , -1.78571429, -1.68367347, -1.58163265,\n",
      "       -1.47959184, -1.37755102, -1.2755102 , -1.17346939, -1.07142857,\n",
      "       -0.96938776, -0.86734694, -0.76530612, -0.66326531, -0.56122449,\n",
      "       -0.45918367, -0.35714286, -0.25510204, -0.15306122, -0.05102041,\n",
      "        0.05102041,  0.15306122,  0.25510204,  0.35714286,  0.45918367,\n",
      "        0.56122449,  0.66326531,  0.76530612,  0.86734694,  0.96938776,\n",
      "        1.07142857,  1.17346939,  1.2755102 ,  1.37755102,  1.47959184,\n",
      "        1.58163265,  1.68367347,  1.78571429,  1.8877551 ,  1.98979592,\n",
      "        2.09183673,  2.19387755,  2.29591837,  2.39795918,  2.5       ])}\n",
      "-44.0098936054\n"
     ]
    },
    {
     "data": {
      "image/png": "[encoded data removed]",
      "text/plain": [
       "<matplotlib.figure.Figure at 0x108585090>"
      ]
     },
     "metadata": {},
     "output_type": "display_data"
    },
    {
     "name": "stdout",
     "output_type": "stream",
     "text": [
      "Ridge(alpha=0.15306122448979576, copy_X=True, fit_intercept=True,\n",
      "   max_iter=None, normalize=False, random_state=None, solver='auto',\n",
      "   tol=0.001)\n"
     ]
    }
   ],
   "source": [
    "# Use grid search to determine the optimal regularization parameters for our model\n",
    "from sklearn import grid_search\n",
    "\n",
    "alphas = np.linspace(-2.5,2.5,50)\n",
    "gs = grid_search.GridSearchCV(\n",
    "    estimator=linear_model.Ridge(),\n",
    "    param_grid={'alpha': alphas},\n",
    "    scoring='neg_mean_squared_error')\n",
    "\n",
    "gs.fit(modeldata, y)\n",
    "\n",
    "print(gs.param_grid) # Parameter space explored\n",
    "print(gs.best_score_) # Best 'neg_mean_squared_error'\n",
    "plt.plot(alphas,[s[1] for s in gs.grid_scores_],)\n",
    "plt.xlabel('alphas')\n",
    "plt.ylabel('neg_mean_squared_error')\n",
    "plt.show()\n",
    "print(gs.best_estimator_) # Best combination of paramaters"
   ]
  },
  {
   "cell_type": "markdown",
   "metadata": {},
   "source": [
    "## Question: When does regularization come into play? \n",
    "\n",
    "**Regularization**: is a process of introducing additional information in order to prevent overfitting\n",
    "- a technique to improve the generalizability of a learned model\n",
    "- imposes a penalty on the complexity of model predictions\n",
    "\n",
    "![](https://upload.wikimedia.org/wikipedia/commons/thumb/0/02/Regularization.svg/249px-Regularization.svg.png)\n",
    "\n",
    "We saw how to use regularization first in Lesson 07- we used cross-validation to optimize the regularization of our linear regression model.   \n",
    "Regularization refers to a variety of techniques, but with linear regression in particular, either Lasso (L1) and Ridge (L2) regularization are available.\n",
    "- _Rule-of-thumb_: use Lasso (L1) when we have a higher number of features (k) than we have observations (n), and use Ridge (L2) in about all other cases  \n",
    "We have also seen that we can use regularization with logistic regression, by setting 'C'- the inverse of regularization (smaller values specify stronger regularization). Regularization is also useful for SVM models, among others.  \n",
    "Regularizers typically have their own parameters, which need to optimized. In the previous cell, we found the ideal value for Ridge parameter _alpha_.  \n",
    "![](http://scikit-learn.org/stable/_images/sphx_glr_plot_ridge_path_001.png)\n",
    "The point here is that as the regularization grows greater (right to left), the coefficients are drawn towards zero."
   ]
  },
  {
   "cell_type": "code",
   "execution_count": 9,
   "metadata": {},
   "outputs": [
    {
     "name": "stdout",
     "output_type": "stream",
     "text": [
      "Random seed 0\n",
      "('Linear model coeff:', array([ 0.7284403 ,  2.30926001, -0.08219169]))\n",
      "('Ridge model coeff:', array([0.93832131, 1.05887277, 0.87652644]))\n",
      "Random seed 1\n",
      "('Linear model coeff:', array([ 1.15181561,  2.36579916, -0.59900864]))\n",
      "('Ridge model coeff:', array([0.98409577, 1.06792673, 0.75855367]))\n",
      "Random seed 2\n",
      "('Linear model coeff:', array([0.69734749, 0.32155864, 2.08590886]))\n",
      "('Ridge model coeff:', array([0.97159124, 0.94256202, 1.08539406]))\n",
      "Random seed 3\n",
      "('Linear model coeff:', array([0.28735446, 1.25386129, 1.49054726]))\n",
      "('Ridge model coeff:', array([0.91891806, 1.00474386, 1.03276594]))\n",
      "Random seed 4\n",
      "('Linear model coeff:', array([0.18726691, 0.77214206, 2.1894915 ]))\n",
      "('Ridge model coeff:', array([0.96401621, 0.98152524, 1.0983599 ]))\n",
      "Random seed 5\n",
      "('Linear model coeff:', array([-1.2912413 ,  1.59097473,  2.74727029]))\n",
      "('Ridge model coeff:', array([0.75819864, 1.01085804, 1.1390417 ]))\n",
      "Random seed 6\n",
      "('Linear model coeff:', array([ 1.19909595, -0.0306915 ,  1.91454912]))\n",
      "('Ridge model coeff:', array([1.01616507, 0.89032238, 1.0907386 ]))\n",
      "Random seed 7\n",
      "('Linear model coeff:', array([ 1.47386769,  1.76236014, -0.15057274]))\n",
      "('Ridge model coeff:', array([1.0179376 , 1.03865514, 0.90082373]))\n",
      "Random seed 8\n",
      "('Linear model coeff:', array([0.0840547 , 1.87985845, 1.10688887]))\n",
      "('Ridge model coeff:', array([0.90685834, 1.07119752, 1.00837994]))\n",
      "Random seed 9\n",
      "('Linear model coeff:', array([0.71408648, 0.77601368, 1.36406398]))\n",
      "('Ridge model coeff:', array([0.89617178, 0.90340866, 0.98015958]))\n"
     ]
    }
   ],
   "source": [
    "from sklearn.linear_model import LinearRegression, Ridge\n",
    "from sklearn.metrics import r2_score\n",
    "\n",
    "size = 100\n",
    " \n",
    "# We run the method 10 times with different random seeds\n",
    "for i in range(10):\n",
    "    print(\"Random seed %s\" % i)\n",
    "    np.random.seed(seed=i)\n",
    "    X_seed = np.random.normal(0, 1, size)\n",
    "    X1 = X_seed + np.random.normal(0, .1, size)\n",
    "    X2 = X_seed + np.random.normal(0, .1, size)\n",
    "    X3 = X_seed + np.random.normal(0, .1, size)\n",
    "    Y = X1 + X2 + X3 + np.random.normal(0, 1, size)\n",
    "    X = np.array([X1, X2, X3]).T\n",
    " \n",
    "    lr = LinearRegression().fit(X,Y)\n",
    "    print(\"Linear model coeff:\", lr.coef_)\n",
    " \n",
    "    ridge = Ridge(alpha=10).fit(X,Y)\n",
    "    print(\"Ridge model coeff:\", ridge.coef_)"
   ]
  },
  {
   "cell_type": "markdown",
   "metadata": {},
   "source": [
    "The point here is that the coefficients can vary widely for linear regression, depending on the generated data. For L2 regularized model however, the coefficients are quite stable and closely reflect how the data was generated (all coefficients close to 1)."
   ]
  }
 ],
 "metadata": {
  "kernelspec": {
   "display_name": "Python 3",
   "language": "python",
   "name": "python3"
  },
  "language_info": {
   "codemirror_mode": {
    "name": "ipython",
    "version": 2
   },
   "file_extension": ".py",
   "mimetype": "text/x-python",
   "name": "python",
   "nbconvert_exporter": "python",
   "pygments_lexer": "ipython2",
   "version": "2.7.14"
  }
 },
 "nbformat": 4,
 "nbformat_minor": 2
}
