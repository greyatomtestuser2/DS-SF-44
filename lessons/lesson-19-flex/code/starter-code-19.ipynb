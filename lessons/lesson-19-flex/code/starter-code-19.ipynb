{
 "cells": [
  {
   "cell_type": "markdown",
   "metadata": {},
   "source": [
    "# Neural Networks with Keras"
   ]
  },
  {
   "cell_type": "code",
   "execution_count": null,
   "metadata": {},
   "outputs": [],
   "source": [
    "from __future__ import print_function\n",
    "import random\n",
    "import numpy as np\n",
    "import pandas as pd\n",
    "from math import sin\n",
    "import seaborn as sns\n",
    "\n",
    "# Use: conda install keras\n",
    "from keras.models import Sequential\n",
    "from keras.layers.core import Dense, Activation\n",
    "from keras.optimizers import SGD   # Stochastic Gradient Descent\n",
    "\n",
    "from sklearn.metrics import accuracy_score, confusion_matrix, mean_squared_error\n",
    "import sklearn.cross_validation as cv\n",
    "import sklearn.datasets as datasets\n",
    "from sklearn import linear_model\n",
    "\n",
    "import matplotlib.pyplot as plt\n",
    "%matplotlib inline\n",
    "plt.rcParams[\"figure.figsize\"] = (8, 8)"
   ]
  },
  {
   "cell_type": "markdown",
   "metadata": {},
   "source": [
    "## Baseline with Linear Regression model\n",
    "Let's build a baseline model to compare our NN results with."
   ]
  },
  {
   "cell_type": "code",
   "execution_count": null,
   "metadata": {},
   "outputs": [],
   "source": [
    "lm = linear_model.LinearRegression()\n",
    "lm.fit(X,y)\n",
    "\n",
    "# Plot the predictions\n",
    "predictions = lm.predict(X)\n",
    "\n",
    "plt.scatter(X, y)\n",
    "plt.plot(X, predictions, color='r')\n",
    "plt.show()\n",
    "print(\"MSE\", mean_squared_error(predictions, y))"
   ]
  },
  {
   "cell_type": "markdown",
   "metadata": {},
   "source": [
    "## Neural Network Regression\n",
    "\n",
    "### Polynomial Regression\n",
    "\n",
    "Let's train a neural network on a few different shapes. First we start with a polynomial (a cubic)."
   ]
  },
  {
   "cell_type": "code",
   "execution_count": null,
   "metadata": {},
   "outputs": [],
   "source": [
    "# Create some data\n",
    "def f(x):\n",
    "    return x ** 3 - 5 * x + 12 + random.random()\n",
    "\n",
    "X = np.linspace(-1, 1, 1000).reshape(-1, 1)\n",
    "y = np.array(list(map(f, X)))\n",
    "\n",
    "print(X.shape, y.shape)"
   ]
  },
  {
   "cell_type": "code",
   "execution_count": null,
   "metadata": {},
   "outputs": [],
   "source": [
    "# Define a Feed Forward NN\n",
    "model = Sequential()\n",
    "model.add(Dense(input_dim=1, units=5))\n",
    "model.add(Activation('tanh'))\n",
    "model.add(Dense(input_dim=5, units=1))\n",
    "model.add(Activation('linear'))\n",
    "\n",
    "#   lr: learning rate\n",
    "model.compile(loss='mse', optimizer=SGD(lr=0.01))"
   ]
  },
  {
   "cell_type": "code",
   "execution_count": null,
   "metadata": {},
   "outputs": [],
   "source": [
    "# Train the model\n",
    "print('Training...')\n",
    "loss = model.fit(X, y, epochs=500, validation_split=0.1, \n",
    "                 batch_size=128, verbose=False)\n",
    "print(loss.history['loss'][-1])\n",
    "print(\"Done\")"
   ]
  },
  {
   "cell_type": "code",
   "execution_count": null,
   "metadata": {},
   "outputs": [],
   "source": [
    "# Plot the predictions\n",
    "predictions = model.predict(X)\n",
    "\n",
    "plt.scatter(X, y, alpha=0.5)\n",
    "plt.plot(X, predictions, color='r', linewidth=2)\n",
    "plt.show()\n",
    "print(\"MSE\", mean_squared_error(predictions, y))"
   ]
  },
  {
   "cell_type": "markdown",
   "metadata": {},
   "source": [
    "### Sine Regression"
   ]
  },
  {
   "cell_type": "code",
   "execution_count": null,
   "metadata": {},
   "outputs": [],
   "source": [
    "# Sine data\n",
    "X = np.linspace(0, 2 * np.pi, 500).reshape(-1,1)\n",
    "y = np.sin(X)\n",
    "\n",
    "print(X.shape, y.shape)"
   ]
  },
  {
   "cell_type": "code",
   "execution_count": null,
   "metadata": {},
   "outputs": [],
   "source": [
    "# Create the model\n",
    "model = Sequential()\n",
    "model.add(Dense(input_dim=1, units=5))\n",
    "model.add(Activation('tanh'))\n",
    "model.add(Dense(input_dim=5, units=1))\n",
    "model.add(Activation('linear'))\n",
    "\n",
    "#   lr: learning rate\n",
    "model.compile(loss='mse', optimizer=SGD(lr=0.1))"
   ]
  },
  {
   "cell_type": "markdown",
   "metadata": {},
   "source": [
    "### Train the Model"
   ]
  },
  {
   "cell_type": "code",
   "execution_count": null,
   "metadata": {},
   "outputs": [],
   "source": [
    "print('Training..')\n",
    "loss = model.fit(X, y, epochs=150, validation_split=0.1, \n",
    "                 batch_size=128, verbose=False)\n",
    "print(loss.history['loss'][-1])\n",
    "print('Complete')"
   ]
  },
  {
   "cell_type": "code",
   "execution_count": null,
   "metadata": {},
   "outputs": [],
   "source": [
    "# Plot the predictions\n",
    "predictions = model.predict(X)\n",
    "\n",
    "plt.scatter(X, y)\n",
    "plt.plot(X, predictions, color='r')\n",
    "plt.show()\n",
    "print(\"MSE\", mean_squared_error(predictions, y))"
   ]
  },
  {
   "cell_type": "code",
   "execution_count": null,
   "metadata": {},
   "outputs": [],
   "source": [
    "# Plot the error over time\n",
    "plt.scatter(range(len(loss.history['loss'])), loss.history['loss'])\n",
    "plt.xlabel('Epoch')\n",
    "plt.ylabel('MSE')\n",
    "plt.title('MSE by Epoch')"
   ]
  },
  {
   "cell_type": "markdown",
   "metadata": {},
   "source": [
    "### Train longer\n",
    "\n",
    "If we train for more epochs, we can get a better regression."
   ]
  },
  {
   "cell_type": "code",
   "execution_count": null,
   "metadata": {},
   "outputs": [],
   "source": [
    "X = np.linspace(0, 2 * np.pi, 1000).reshape(-1,1)\n",
    "y = np.sin(X)\n",
    "\n",
    "print(X.shape, y.shape)\n",
    "\n",
    "model = Sequential()\n",
    "model.add(Dense(input_dim=1, units=5))\n",
    "model.add(Activation('tanh'))\n",
    "model.add(Dense(input_dim=5, units=1))\n",
    "model.add(Activation('linear'))\n",
    "\n",
    "#   lr: learning rate\n",
    "model.compile(loss='mse', optimizer=SGD(lr=0.05))\n",
    "\n",
    "print('Training..')\n",
    "loss = model.fit(X, y, epochs=15000, validation_split=0.1, \n",
    "                 batch_size=128, verbose=False)\n",
    "print(loss.history['loss'][-1])\n",
    "print('Complete')\n",
    "\n",
    "# Plot\n",
    "predictions = model.predict(X)\n",
    "\n",
    "plt.scatter(X, y)\n",
    "plt.plot(X, predictions, color='r')\n",
    "plt.show()\n",
    "print(\"MSE\", mean_squared_error(predictions, y))"
   ]
  },
  {
   "cell_type": "markdown",
   "metadata": {},
   "source": [
    "We can take a closer look at the error per training epoch."
   ]
  },
  {
   "cell_type": "code",
   "execution_count": null,
   "metadata": {
    "scrolled": false
   },
   "outputs": [],
   "source": [
    "# Plot the error over time\n",
    "plt.scatter(range(len(loss.history['loss'])), loss.history['loss'])\n",
    "plt.xlabel('Epoch')\n",
    "plt.ylabel('MSE')\n",
    "plt.title('MSE by Epoch')"
   ]
  },
  {
   "cell_type": "markdown",
   "metadata": {},
   "source": [
    "### Exercise: Perform regression the following data\n",
    "Hints:\n",
    "* Try adding a hidden layer\n",
    "* Try lowering the learning rate and using more epochs"
   ]
  },
  {
   "cell_type": "code",
   "execution_count": null,
   "metadata": {},
   "outputs": [],
   "source": [
    "def f(x):\n",
    "    return x ** 2 * np.sin(x**2)\n",
    "\n",
    "# Sine data\n",
    "X = np.linspace(2, np.pi, 1000).reshape(-1,1)\n",
    "y = np.array(list(map(f, X)))\n",
    "\n",
    "print(X.shape, y.shape)"
   ]
  },
  {
   "cell_type": "code",
   "execution_count": null,
   "metadata": {},
   "outputs": [],
   "source": [
    "## Add model here\n",
    "\n",
    "\n",
    "\n",
    "\n",
    "## Fit model here\n",
    "\n",
    "\n",
    "\n",
    "\n",
    "# Get models predictions\n",
    "predictions = model.predict(X)\n",
    "\n",
    "# Plot\n",
    "plt.scatter(X, y)\n",
    "plt.plot(X, predictions, color='r')\n",
    "plt.show()\n",
    "print(\"MSE\", mean_squared_error(predictions, y))"
   ]
  },
  {
   "cell_type": "markdown",
   "metadata": {
    "collapsed": true
   },
   "source": [
    "## Classification\n",
    "\n",
    "We'll start with the Iris dataset (of course)."
   ]
  },
  {
   "cell_type": "code",
   "execution_count": null,
   "metadata": {},
   "outputs": [],
   "source": [
    "iris = datasets.load_iris()\n",
    "\n",
    "X = iris.data\n",
    "y = iris.target\n",
    "\n",
    "# Break each output into indicator cols\n",
    "y_cat = pd.get_dummies(y).values\n",
    "\n",
    "print(X.shape, y_cat.shape)"
   ]
  },
  {
   "cell_type": "code",
   "execution_count": null,
   "metadata": {},
   "outputs": [],
   "source": [
    "# Define a model\n",
    "model = Sequential()\n",
    "\n",
    "# input_dim = number of neurons in previous layer.\n",
    "# output_dim = number of neurons in current layer.\n",
    "\n",
    "# First layer - input_dim=k features.\n",
    "model.add(Dense(input_dim=4, units=4))\n",
    "model.add(Activation(\"tanh\"))\n",
    "\n",
    "model.add(Dense(input_dim=4, units=4))\n",
    "model.add(Activation(\"tanh\"))\n",
    "\n",
    "\n",
    "# Output layer - output_dim=# of output per point (in y).\n",
    "# Use 'softmax' for class probability. 'linear' for regression\n",
    "model.add(Dense(input_dim=4, units=3))\n",
    "model.add(Activation(\"softmax\"))\n",
    "\n",
    "# Uses Mean Squared Error and Stochastic Gradient Descent\n",
    "model.compile(loss='mse', optimizer=SGD(lr=0.01))"
   ]
  },
  {
   "cell_type": "code",
   "execution_count": null,
   "metadata": {},
   "outputs": [],
   "source": [
    "# Train the model\n",
    "print('Training...')\n",
    "loss = model.fit(X, y_cat, \n",
    "                 validation_split=0.1, epochs=5000, \n",
    "                 batch_size=16, verbose=False)\n",
    "\n",
    "print(loss.history['loss'][-1])   # displays MSE at last iteration\n",
    "print(\"Training complete\")"
   ]
  },
  {
   "cell_type": "code",
   "execution_count": null,
   "metadata": {},
   "outputs": [],
   "source": [
    "# Model evaluation\n",
    "pred_y = model.predict(X, verbose=False)\n",
    "preds  = model.predict_classes(X, verbose=False)\n",
    "\n",
    "# Show prediction example\n",
    "print('TRAINING SAMPLE: ' + str(X[0]))\n",
    "print('PREDICTION: ' + iris.target_names[preds[0]])\n",
    "print('TRUTH: ' + iris.target_names[y[0]])\n",
    "print('')\n",
    "print('ACCURACY: ', accuracy_score(y, preds))\n",
    "print('CONFUSION MATRIX:\\n', confusion_matrix(y, preds))"
   ]
  },
  {
   "cell_type": "code",
   "execution_count": null,
   "metadata": {},
   "outputs": [],
   "source": [
    "# Plot the error over time\n",
    "plt.scatter(range(len(loss.history['loss'])), loss.history['loss'])\n",
    "plt.xlabel('Epoch')\n",
    "plt.ylabel('MSE')\n",
    "plt.title('MSE by Epoch')"
   ]
  },
  {
   "cell_type": "markdown",
   "metadata": {},
   "source": [
    "## Abalone data set"
   ]
  },
  {
   "cell_type": "code",
   "execution_count": null,
   "metadata": {},
   "outputs": [],
   "source": [
    "columns = [\"Sex\", \"Length\", \"Diameter\", \"Height\", \"Whole Weight\",\n",
    "           \"Shucked weight\", \"Viscera weight\", \"Shell weight\", \"Rings\" ]\n",
    "df = pd.read_csv(\"./datasets/abalone.data\", names=columns)\n",
    "\n",
    "df.head()"
   ]
  },
  {
   "cell_type": "code",
   "execution_count": null,
   "metadata": {},
   "outputs": [],
   "source": [
    "sns.pairplot(data=df, vars=columns[1:], hue=\"Sex\")\n",
    "plt.show()"
   ]
  },
  {
   "cell_type": "code",
   "execution_count": null,
   "metadata": {},
   "outputs": [],
   "source": [
    "d = {'M': 0, 'F': 1, 'I': 2}\n",
    "invert_d = {v: k for k, v in d.items()}\n",
    "df[\"Sex\"] = df[\"Sex\"].apply(lambda x: d[x])"
   ]
  },
  {
   "cell_type": "code",
   "execution_count": null,
   "metadata": {},
   "outputs": [],
   "source": [
    "X = np.array(df[columns[1:]])\n",
    "y = np.array(df[\"Sex\"])\n",
    "y_cat = pd.get_dummies(y).values\n",
    "\n",
    "print(X.shape, y_cat.shape)"
   ]
  },
  {
   "cell_type": "code",
   "execution_count": null,
   "metadata": {},
   "outputs": [],
   "source": [
    "# Define a model\n",
    "model = Sequential()\n",
    "\n",
    "# input_dim = number of neurons in previous layer.\n",
    "# output_dim = number of neurons in current layer.\n",
    "\n",
    "# First layer - input_dim=k features.\n",
    "model.add(Dense(input_dim=8, units=6))\n",
    "model.add(Activation(\"tanh\"))\n",
    "\n",
    "model.add(Dense(input_dim=6, units=6))\n",
    "model.add(Activation(\"tanh\"))\n",
    "\n",
    "# Output layer - output_dim=# of output per point (in y).\n",
    "# Use 'softmax' for class probability. 'linear' for regression\n",
    "model.add(Dense(input_dim=6, units=3))\n",
    "model.add(Activation(\"softmax\"))\n",
    "\n",
    "# Uses Mean Squared Error and Stochastic Gradient Descent\n",
    "model.compile(loss='mse', optimizer=SGD(lr=0.1))"
   ]
  },
  {
   "cell_type": "code",
   "execution_count": null,
   "metadata": {},
   "outputs": [],
   "source": [
    "# Train the model\n",
    "print('Training...')\n",
    "loss = model.fit(X, y_cat, \n",
    "                 validation_split=0.1, epochs=1000, \n",
    "                 batch_size=16, verbose=False)\n",
    "\n",
    "print(loss.history['loss'][-1])   # displays MSE at last iteration\n",
    "print(\"Training complete\")"
   ]
  },
  {
   "cell_type": "code",
   "execution_count": null,
   "metadata": {},
   "outputs": [],
   "source": [
    "# Model evaluation\n",
    "pred_y = model.predict(X, verbose=False)\n",
    "preds  = model.predict_classes(X, verbose=False)\n",
    "\n",
    "# Show prediction example\n",
    "print('TRAINING SAMPLE: ' + str(X[0]))\n",
    "print('PREDICTION: ' + invert_d[preds[0]])\n",
    "print('TRUTH: ' + invert_d[y[0]])\n",
    "print('')\n",
    "print('ACCURACY: ', accuracy_score(y, preds))\n",
    "print('CONFUSION MATRIX:\\n', confusion_matrix(y, preds))\n",
    "\n",
    "# Plot the error over time\n",
    "plt.scatter(range(len(loss.history['loss'])), loss.history['loss'])\n",
    "plt.xlabel('Epoch')\n",
    "plt.ylabel('MSE')\n",
    "plt.title('MSE by Epoch')"
   ]
  },
  {
   "cell_type": "markdown",
   "metadata": {},
   "source": [
    "## Exercise\n",
    "\n",
    "Classify the following data ([source](https://archive.ics.uci.edu/ml/datasets/MAGIC+Gamma+Telescope)). You'll need to translate the classes into integers and make dummies. Design a neural network to classify the data and evaluate the results."
   ]
  },
  {
   "cell_type": "code",
   "execution_count": null,
   "metadata": {},
   "outputs": [],
   "source": [
    "names = \"fLength fWidth fSize fConc fConc1 fAsym fM3Long fM3Trans fAlpha fDist class\".split()\n",
    "df = pd.read_csv(\"./datasets/magic04.data\", names=names)\n",
    "df.head()"
   ]
  },
  {
   "cell_type": "code",
   "execution_count": null,
   "metadata": {},
   "outputs": [],
   "source": [
    "d = {'g': 0, 'h': 1}\n",
    "invert_d = {v: k for k, v in d.items()}\n",
    "df[\"class\"] = df[\"class\"].apply(lambda x: d[x])"
   ]
  },
  {
   "cell_type": "code",
   "execution_count": null,
   "metadata": {},
   "outputs": [],
   "source": [
    "X = np.array(df[df.columns[:-1]])\n",
    "y = np.array(df[\"class\"])\n",
    "y_cat = pd.get_dummies(y).values\n",
    "\n",
    "print(X.shape, y_cat.shape)"
   ]
  },
  {
   "cell_type": "code",
   "execution_count": null,
   "metadata": {},
   "outputs": [],
   "source": [
    "## Define model here\n"
   ]
  },
  {
   "cell_type": "code",
   "execution_count": null,
   "metadata": {},
   "outputs": [],
   "source": [
    "## Train model here\n"
   ]
  },
  {
   "cell_type": "code",
   "execution_count": null,
   "metadata": {},
   "outputs": [],
   "source": [
    "## Evaluate model here\n"
   ]
  }
 ],
 "metadata": {
  "anaconda-cloud": {},
  "kernelspec": {
   "display_name": "Python 3",
   "language": "python",
   "name": "python3"
  },
  "language_info": {
   "codemirror_mode": {
    "name": "ipython",
    "version": 3
   },
   "file_extension": ".py",
   "mimetype": "text/x-python",
   "name": "python",
   "nbconvert_exporter": "python",
   "pygments_lexer": "ipython3",
   "version": "3.6.5"
  }
 },
 "nbformat": 4,
 "nbformat_minor": 1
}
